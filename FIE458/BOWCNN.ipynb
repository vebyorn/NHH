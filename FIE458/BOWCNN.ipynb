{
 "cells": [
  {
   "attachments": {},
   "cell_type": "markdown",
   "metadata": {},
   "source": [
    "##### Packages"
   ]
  },
  {
   "cell_type": "code",
   "execution_count": 2,
   "metadata": {},
   "outputs": [
    {
     "name": "stderr",
     "output_type": "stream",
     "text": [
      "c:\\Users\\vebky\\anaconda3\\envs\\tf\\lib\\site-packages\\tensorflow_addons\\utils\\tfa_eol_msg.py:23: UserWarning: \n",
      "\n",
      "TensorFlow Addons (TFA) has ended development and introduction of new features.\n",
      "TFA has entered a minimal maintenance and release mode until a planned end of life in May 2024.\n",
      "Please modify downstream libraries to take dependencies from other repositories in our TensorFlow community (e.g. Keras, Keras-CV, and Keras-NLP). \n",
      "\n",
      "For more information see: https://github.com/tensorflow/addons/issues/2807 \n",
      "\n",
      "  warnings.warn(\n"
     ]
    }
   ],
   "source": [
    "import numpy as np\n",
    "import pandas as pd\n",
    "import tensorflow as tf\n",
    "import seaborn as sns\n",
    "from tensorflow.keras import layers, Model\n",
    "from tensorflow.keras.activations import gelu\n",
    "from tensorflow.keras.callbacks import EarlyStopping, Callback\n",
    "from sklearn.feature_extraction.text import TfidfVectorizer\n",
    "import tensorflow_addons as tfa\n",
    "import matplotlib.pyplot as plt\n",
    "from sklearn.feature_extraction.text import CountVectorizer\n",
    "from sklearn.metrics import confusion_matrix\n",
    "from sklearn.model_selection import train_test_split"
   ]
  },
  {
   "attachments": {},
   "cell_type": "markdown",
   "metadata": {},
   "source": [
    "## Data Processing"
   ]
  },
  {
   "cell_type": "code",
   "execution_count": 5,
   "metadata": {},
   "outputs": [
    {
     "data": {
      "text/html": [
       "<div>\n",
       "<style scoped>\n",
       "    .dataframe tbody tr th:only-of-type {\n",
       "        vertical-align: middle;\n",
       "    }\n",
       "\n",
       "    .dataframe tbody tr th {\n",
       "        vertical-align: top;\n",
       "    }\n",
       "\n",
       "    .dataframe thead th {\n",
       "        text-align: right;\n",
       "    }\n",
       "</style>\n",
       "<table border=\"1\" class=\"dataframe\">\n",
       "  <thead>\n",
       "    <tr style=\"text-align: right;\">\n",
       "      <th></th>\n",
       "      <th>Unnamed: 0</th>\n",
       "      <th>Project</th>\n",
       "      <th>Text</th>\n",
       "      <th>Scam</th>\n",
       "      <th>Text_Encoded_Word</th>\n",
       "      <th>Text_Encoded_Character</th>\n",
       "    </tr>\n",
       "  </thead>\n",
       "  <tbody>\n",
       "    <tr>\n",
       "      <th>0</th>\n",
       "      <td>0</td>\n",
       "      <td>acs crypto</td>\n",
       "      <td>crims switch de-fi police trace crypto crimes ...</td>\n",
       "      <td>1</td>\n",
       "      <td>[725437, 492541, 1102845, 437298, 885216, 6438...</td>\n",
       "      <td>[138, 161, 38, 90, 289, 0, 289, 7, 38, 282, 13...</td>\n",
       "    </tr>\n",
       "    <tr>\n",
       "      <th>1</th>\n",
       "      <td>1</td>\n",
       "      <td>acs crypto</td>\n",
       "      <td>welcome aircentralstation join aircentralstati...</td>\n",
       "      <td>1</td>\n",
       "      <td>[194583, 30197, 407032, 30197, 1413970, 109968...</td>\n",
       "      <td>[7, 155, 31, 138, 24, 90, 155, 0, 50, 38, 161,...</td>\n",
       "    </tr>\n",
       "    <tr>\n",
       "      <th>2</th>\n",
       "      <td>2</td>\n",
       "      <td>adaf</td>\n",
       "      <td>this zesty faucet from @_bitcoiner making twee...</td>\n",
       "      <td>1</td>\n",
       "      <td>[1310907, 843491, 224679, 1221500, 84711, 1099...</td>\n",
       "      <td>[282, 178, 38, 289, 0, 237, 155, 289, 282, 72,...</td>\n",
       "    </tr>\n",
       "    <tr>\n",
       "      <th>3</th>\n",
       "      <td>3</td>\n",
       "      <td>adaf</td>\n",
       "      <td>@bondwolfie . all doctors are fatphobic world ...</td>\n",
       "      <td>1</td>\n",
       "      <td>[0, 1044714, 1433243, 945028, 45136, 1021170, ...</td>\n",
       "      <td>[3, 230, 24, 6, 10, 7, 24, 31, 212, 38, 155, 0...</td>\n",
       "    </tr>\n",
       "    <tr>\n",
       "      <th>4</th>\n",
       "      <td>4</td>\n",
       "      <td>adaf</td>\n",
       "      <td>@umezawa_ honestly idk. might make sense check...</td>\n",
       "      <td>1</td>\n",
       "      <td>[571361, 454028, 878217, 1044714, 595598, 1148...</td>\n",
       "      <td>[3, 198, 90, 155, 237, 50, 7, 50, 53, 0, 178, ...</td>\n",
       "    </tr>\n",
       "  </tbody>\n",
       "</table>\n",
       "</div>"
      ],
      "text/plain": [
       "   Unnamed: 0     Project                                               Text  \\\n",
       "0           0  acs crypto  crims switch de-fi police trace crypto crimes ...   \n",
       "1           1  acs crypto  welcome aircentralstation join aircentralstati...   \n",
       "2           2        adaf  this zesty faucet from @_bitcoiner making twee...   \n",
       "3           3        adaf  @bondwolfie . all doctors are fatphobic world ...   \n",
       "4           4        adaf  @umezawa_ honestly idk. might make sense check...   \n",
       "\n",
       "   Scam                                  Text_Encoded_Word  \\\n",
       "0     1  [725437, 492541, 1102845, 437298, 885216, 6438...   \n",
       "1     1  [194583, 30197, 407032, 30197, 1413970, 109968...   \n",
       "2     1  [1310907, 843491, 224679, 1221500, 84711, 1099...   \n",
       "3     1  [0, 1044714, 1433243, 945028, 45136, 1021170, ...   \n",
       "4     1  [571361, 454028, 878217, 1044714, 595598, 1148...   \n",
       "\n",
       "                              Text_Encoded_Character  \n",
       "0  [138, 161, 38, 90, 289, 0, 289, 7, 38, 282, 13...  \n",
       "1  [7, 155, 31, 138, 24, 90, 155, 0, 50, 38, 161,...  \n",
       "2  [282, 178, 38, 289, 0, 237, 155, 289, 282, 72,...  \n",
       "3  [3, 230, 24, 6, 10, 7, 24, 31, 212, 38, 155, 0...  \n",
       "4  [3, 198, 90, 155, 237, 50, 7, 50, 53, 0, 178, ...  "
      ]
     },
     "execution_count": 5,
     "metadata": {},
     "output_type": "execute_result"
    }
   ],
   "source": [
    "data = pd.read_csv(\"C:/Users/vebky/FIE458/termpaper/Cleaned_Data.csv\")\n",
    "data.head()"
   ]
  },
  {
   "attachments": {},
   "cell_type": "markdown",
   "metadata": {},
   "source": [
    "#### Balanced Data"
   ]
  },
  {
   "cell_type": "code",
   "execution_count": 6,
   "metadata": {},
   "outputs": [
    {
     "data": {
      "text/html": [
       "<div>\n",
       "<style scoped>\n",
       "    .dataframe tbody tr th:only-of-type {\n",
       "        vertical-align: middle;\n",
       "    }\n",
       "\n",
       "    .dataframe tbody tr th {\n",
       "        vertical-align: top;\n",
       "    }\n",
       "\n",
       "    .dataframe thead th {\n",
       "        text-align: right;\n",
       "    }\n",
       "</style>\n",
       "<table border=\"1\" class=\"dataframe\">\n",
       "  <thead>\n",
       "    <tr style=\"text-align: right;\">\n",
       "      <th></th>\n",
       "      <th>Unnamed: 0</th>\n",
       "      <th>Project</th>\n",
       "      <th>Text</th>\n",
       "      <th>Scam</th>\n",
       "      <th>Text_Encoded_Word</th>\n",
       "      <th>Text_Encoded_Character</th>\n",
       "    </tr>\n",
       "  </thead>\n",
       "  <tbody>\n",
       "    <tr>\n",
       "      <th>0</th>\n",
       "      <td>236830</td>\n",
       "      <td>hedera</td>\n",
       "      <td>auction klaxon! only six hours left these two ...</td>\n",
       "      <td>0</td>\n",
       "      <td>[1164211, 695772, 781942, 437276, 94468, 63273...</td>\n",
       "      <td>[50, 198, 138, 282, 38, 24, 6, 0, 239, 31, 50,...</td>\n",
       "    </tr>\n",
       "    <tr>\n",
       "      <th>1</th>\n",
       "      <td>218583</td>\n",
       "      <td>fantom</td>\n",
       "      <td>hyped for 2022 with this amazing hector team j...</td>\n",
       "      <td>0</td>\n",
       "      <td>[1037456, 986965, 1270237, 526037, 1310907, 98...</td>\n",
       "      <td>[178, 72, 300, 155, 10, 0, 212, 24, 161, 0, 18...</td>\n",
       "    </tr>\n",
       "    <tr>\n",
       "      <th>2</th>\n",
       "      <td>276366</td>\n",
       "      <td>mina</td>\n",
       "      <td>🤷🏾‍♂️🤷🏾‍♂️🤷🏾‍♂️ thank you !! @mithisa_motho yo...</td>\n",
       "      <td>0</td>\n",
       "      <td>[652624, 672369, 652624, 672369, 652624, 67236...</td>\n",
       "      <td>[0, 0, 0, 0, 100, 0, 0, 0, 0, 100, 0, 0, 0, 0,...</td>\n",
       "    </tr>\n",
       "    <tr>\n",
       "      <th>3</th>\n",
       "      <td>231603</td>\n",
       "      <td>gnosis</td>\n",
       "      <td>@dihuaflute the , they might well while we're ...</td>\n",
       "      <td>0</td>\n",
       "      <td>[0, 586665, 43212, 1048353, 595598, 791932, 37...</td>\n",
       "      <td>[3, 10, 38, 178, 198, 50, 212, 31, 198, 282, 1...</td>\n",
       "    </tr>\n",
       "    <tr>\n",
       "      <th>4</th>\n",
       "      <td>364445</td>\n",
       "      <td>thorchain</td>\n",
       "      <td>@akurypto @ but #rune dead @akurypto @ that’s ...</td>\n",
       "      <td>0</td>\n",
       "      <td>[1121754, 695055, 486027, 540467, 386209, 1121...</td>\n",
       "      <td>[3, 50, 239, 198, 161, 72, 300, 282, 24, 0, 3,...</td>\n",
       "    </tr>\n",
       "  </tbody>\n",
       "</table>\n",
       "</div>"
      ],
      "text/plain": [
       "   Unnamed: 0    Project                                               Text  \\\n",
       "0      236830     hedera  auction klaxon! only six hours left these two ...   \n",
       "1      218583     fantom  hyped for 2022 with this amazing hector team j...   \n",
       "2      276366       mina  🤷🏾‍♂️🤷🏾‍♂️🤷🏾‍♂️ thank you !! @mithisa_motho yo...   \n",
       "3      231603     gnosis  @dihuaflute the , they might well while we're ...   \n",
       "4      364445  thorchain  @akurypto @ but #rune dead @akurypto @ that’s ...   \n",
       "\n",
       "   Scam                                  Text_Encoded_Word  \\\n",
       "0     0  [1164211, 695772, 781942, 437276, 94468, 63273...   \n",
       "1     0  [1037456, 986965, 1270237, 526037, 1310907, 98...   \n",
       "2     0  [652624, 672369, 652624, 672369, 652624, 67236...   \n",
       "3     0  [0, 586665, 43212, 1048353, 595598, 791932, 37...   \n",
       "4     0  [1121754, 695055, 486027, 540467, 386209, 1121...   \n",
       "\n",
       "                              Text_Encoded_Character  \n",
       "0  [50, 198, 138, 282, 38, 24, 6, 0, 239, 31, 50,...  \n",
       "1  [178, 72, 300, 155, 10, 0, 212, 24, 161, 0, 18...  \n",
       "2  [0, 0, 0, 0, 100, 0, 0, 0, 0, 100, 0, 0, 0, 0,...  \n",
       "3  [3, 10, 38, 178, 198, 50, 212, 31, 198, 282, 1...  \n",
       "4  [3, 50, 239, 198, 161, 72, 300, 282, 24, 0, 3,...  "
      ]
     },
     "execution_count": 6,
     "metadata": {},
     "output_type": "execute_result"
    }
   ],
   "source": [
    "# Sample a subset of the data, 50000 rows, which is 50% scam=1 and 50% scam=0\n",
    "bal = data.groupby('Scam').apply(lambda x: x.sample(25000, random_state=1)).reset_index(drop=True)\n",
    "bal.head()"
   ]
  },
  {
   "cell_type": "code",
   "execution_count": 4,
   "metadata": {},
   "outputs": [
    {
     "data": {
      "text/plain": [
       "0    25000\n",
       "1    25000\n",
       "Name: Scam, dtype: int64"
      ]
     },
     "execution_count": 4,
     "metadata": {},
     "output_type": "execute_result"
    }
   ],
   "source": [
    "# number of unique entries in \"Scam\" column and the count of each\n",
    "bal['Scam'].value_counts()"
   ]
  },
  {
   "attachments": {},
   "cell_type": "markdown",
   "metadata": {},
   "source": [
    "#### Unbalanced Data"
   ]
  },
  {
   "cell_type": "code",
   "execution_count": 5,
   "metadata": {},
   "outputs": [
    {
     "data": {
      "text/html": [
       "<div>\n",
       "<style scoped>\n",
       "    .dataframe tbody tr th:only-of-type {\n",
       "        vertical-align: middle;\n",
       "    }\n",
       "\n",
       "    .dataframe tbody tr th {\n",
       "        vertical-align: top;\n",
       "    }\n",
       "\n",
       "    .dataframe thead th {\n",
       "        text-align: right;\n",
       "    }\n",
       "</style>\n",
       "<table border=\"1\" class=\"dataframe\">\n",
       "  <thead>\n",
       "    <tr style=\"text-align: right;\">\n",
       "      <th></th>\n",
       "      <th>Unnamed: 0</th>\n",
       "      <th>Project</th>\n",
       "      <th>Text</th>\n",
       "      <th>Scam</th>\n",
       "      <th>Text_Encoded_Word</th>\n",
       "      <th>Text_Encoded_Character</th>\n",
       "    </tr>\n",
       "  </thead>\n",
       "  <tbody>\n",
       "    <tr>\n",
       "      <th>0</th>\n",
       "      <td>299782</td>\n",
       "      <td>pancakeswap</td>\n",
       "      <td>@terry265 @ @essentialesc @moonscan @coinlisti...</td>\n",
       "      <td>0</td>\n",
       "      <td>[339491, 695055, 307718, 1018756, 1382421, 114...</td>\n",
       "      <td>[3, 282, 155, 161, 161, 72, 187, 295, 54, 0, 3...</td>\n",
       "    </tr>\n",
       "    <tr>\n",
       "      <th>1</th>\n",
       "      <td>226913</td>\n",
       "      <td>flow</td>\n",
       "      <td>#nowplaying frank nitti/coco  therapy morning ...</td>\n",
       "      <td>0</td>\n",
       "      <td>[833118, 720732, 610204, 139641, 1042138, 1349...</td>\n",
       "      <td>[172, 6, 24, 7, 300, 31, 50, 72, 38, 6, 5, 0, ...</td>\n",
       "    </tr>\n",
       "    <tr>\n",
       "      <th>2</th>\n",
       "      <td>313233</td>\n",
       "      <td>quant</td>\n",
       "      <td>swing ticker ticker.52 ticker ticker.29 ticker...</td>\n",
       "      <td>0</td>\n",
       "      <td>[819299, 862855, 862855, 1044714, 106115, 8628...</td>\n",
       "      <td>[289, 7, 38, 6, 5, 0, 282, 38, 138, 239, 155, ...</td>\n",
       "    </tr>\n",
       "    <tr>\n",
       "      <th>3</th>\n",
       "      <td>97290</td>\n",
       "      <td>thodex</td>\n",
       "      <td>𝐁𝐓𝐂-𝐓𝐑𝐘 𝐄𝐗𝐂𝐇𝐀𝐍𝐆𝐄 𝐑𝐀𝐓𝐄𝐒: btcturk: 47,747.00 try...</td>\n",
       "      <td>1</td>\n",
       "      <td>[294790, 258985, 821046, 275066, 173398, 27506...</td>\n",
       "      <td>[0, 0, 0, 247, 0, 0, 0, 0, 0, 0, 0, 0, 0, 0, 0...</td>\n",
       "    </tr>\n",
       "    <tr>\n",
       "      <th>4</th>\n",
       "      <td>332405</td>\n",
       "      <td>stacks</td>\n",
       "      <td>never play duos. find too easy you only have d...</td>\n",
       "      <td>0</td>\n",
       "      <td>[1076143, 859171, 1390548, 1044714, 1202051, 9...</td>\n",
       "      <td>[6, 155, 266, 155, 161, 0, 300, 31, 50, 72, 0,...</td>\n",
       "    </tr>\n",
       "  </tbody>\n",
       "</table>\n",
       "</div>"
      ],
      "text/plain": [
       "   Unnamed: 0      Project                                               Text  \\\n",
       "0      299782  pancakeswap  @terry265 @ @essentialesc @moonscan @coinlisti...   \n",
       "1      226913         flow  #nowplaying frank nitti/coco  therapy morning ...   \n",
       "2      313233        quant  swing ticker ticker.52 ticker ticker.29 ticker...   \n",
       "3       97290       thodex  𝐁𝐓𝐂-𝐓𝐑𝐘 𝐄𝐗𝐂𝐇𝐀𝐍𝐆𝐄 𝐑𝐀𝐓𝐄𝐒: btcturk: 47,747.00 try...   \n",
       "4      332405       stacks  never play duos. find too easy you only have d...   \n",
       "\n",
       "   Scam                                  Text_Encoded_Word  \\\n",
       "0     0  [339491, 695055, 307718, 1018756, 1382421, 114...   \n",
       "1     0  [833118, 720732, 610204, 139641, 1042138, 1349...   \n",
       "2     0  [819299, 862855, 862855, 1044714, 106115, 8628...   \n",
       "3     1  [294790, 258985, 821046, 275066, 173398, 27506...   \n",
       "4     0  [1076143, 859171, 1390548, 1044714, 1202051, 9...   \n",
       "\n",
       "                              Text_Encoded_Character  \n",
       "0  [3, 282, 155, 161, 161, 72, 187, 295, 54, 0, 3...  \n",
       "1  [172, 6, 24, 7, 300, 31, 50, 72, 38, 6, 5, 0, ...  \n",
       "2  [289, 7, 38, 6, 5, 0, 282, 38, 138, 239, 155, ...  \n",
       "3  [0, 0, 0, 247, 0, 0, 0, 0, 0, 0, 0, 0, 0, 0, 0...  \n",
       "4  [6, 155, 266, 155, 161, 0, 300, 31, 50, 72, 0,...  "
      ]
     },
     "execution_count": 5,
     "metadata": {},
     "output_type": "execute_result"
    }
   ],
   "source": [
    "# Sample a subset of the data, 50000 rows\n",
    "unbal = data.apply(lambda x: x.sample(25000, random_state=1)).reset_index(drop=True)\n",
    "unbal.head()"
   ]
  },
  {
   "cell_type": "code",
   "execution_count": 6,
   "metadata": {},
   "outputs": [
    {
     "data": {
      "text/plain": [
       "0    18821\n",
       "1     6179\n",
       "Name: Scam, dtype: int64"
      ]
     },
     "execution_count": 6,
     "metadata": {},
     "output_type": "execute_result"
    }
   ],
   "source": [
    "unbal['Scam'].value_counts()"
   ]
  },
  {
   "attachments": {},
   "cell_type": "markdown",
   "metadata": {},
   "source": [
    "## Dictionaries"
   ]
  },
  {
   "attachments": {},
   "cell_type": "markdown",
   "metadata": {},
   "source": [
    "#### Sourcing Text"
   ]
  },
  {
   "cell_type": "code",
   "execution_count": 7,
   "metadata": {},
   "outputs": [],
   "source": [
    "# Change dataframe if you want balanced/unbalanced data\n",
    "text = bal['Text'].values\n",
    "vocabSize = 2000"
   ]
  },
  {
   "attachments": {},
   "cell_type": "markdown",
   "metadata": {},
   "source": [
    "#### Bag of Words: Words"
   ]
  },
  {
   "cell_type": "code",
   "execution_count": 8,
   "metadata": {},
   "outputs": [
    {
     "name": "stdout",
     "output_type": "stream",
     "text": [
      "['00' '000' '00000012' ... '𝐄𝐗𝐂𝐇𝐀𝐍𝐆𝐄' '𝐑𝐀𝐓𝐄𝐒' '𝐓𝐑𝐘']\n"
     ]
    }
   ],
   "source": [
    "BagOfWords = CountVectorizer(max_features=vocabSize, stop_words='english')\n",
    "BOW = BagOfWords.fit_transform(text)\n",
    "print(BagOfWords.get_feature_names_out())"
   ]
  },
  {
   "attachments": {},
   "cell_type": "markdown",
   "metadata": {},
   "source": [
    "#### Bag of Words: Ngrams"
   ]
  },
  {
   "cell_type": "code",
   "execution_count": 9,
   "metadata": {},
   "outputs": [
    {
     "name": "stdout",
     "output_type": "stream",
     "text": [
      "[' ' ' !' ' \"' ... '🟢🟢' '🤣' '🤣🤣']\n"
     ]
    }
   ],
   "source": [
    "CharNgrams = CountVectorizer(analyzer='char', ngram_range=(1, 2), max_features=vocabSize)\n",
    "CHAR = CharNgrams.fit_transform(text)\n",
    "# print contents of CharNgrams\n",
    "print(CharNgrams.get_feature_names_out())"
   ]
  },
  {
   "attachments": {},
   "cell_type": "markdown",
   "metadata": {},
   "source": [
    "#### Bag of Words: TF-IDF"
   ]
  },
  {
   "cell_type": "code",
   "execution_count": 10,
   "metadata": {},
   "outputs": [
    {
     "name": "stdout",
     "output_type": "stream",
     "text": [
      "['00' '000' '00000012' ... '𝐄𝐗𝐂𝐇𝐀𝐍𝐆𝐄' '𝐑𝐀𝐓𝐄𝐒' '𝐓𝐑𝐘']\n"
     ]
    }
   ],
   "source": [
    "TF_IDF = TfidfVectorizer(max_features=vocabSize, stop_words='english')\n",
    "tfIDF = TF_IDF.fit_transform(text)\n",
    "# print the whole of TF_IDF\n",
    "print(TF_IDF.get_feature_names_out())"
   ]
  },
  {
   "attachments": {},
   "cell_type": "markdown",
   "metadata": {},
   "source": [
    "#### Selecting the Dictionary"
   ]
  },
  {
   "cell_type": "code",
   "execution_count": 11,
   "metadata": {},
   "outputs": [],
   "source": [
    "# create function to select dictionary type\n",
    "def selectDict(name):\n",
    "    DictList = {'BOW': BOW, 'CHAR': CHAR, 'tfIDF': tfIDF}\n",
    "    if name in DictList:\n",
    "        X = DictList[name]\n",
    "        return X\n",
    "    else:\n",
    "        print('Invalid dictionary name')"
   ]
  },
  {
   "attachments": {},
   "cell_type": "markdown",
   "metadata": {},
   "source": [
    "Once this section is complete, there is no need to rerun it, unless changes to the data is made."
   ]
  },
  {
   "attachments": {},
   "cell_type": "markdown",
   "metadata": {},
   "source": [
    "#### Creating Test Sets"
   ]
  },
  {
   "cell_type": "code",
   "execution_count": 12,
   "metadata": {},
   "outputs": [],
   "source": [
    "# selecting X and Y (change dataframe as you did above)\n",
    "X = selectDict('tfIDF') # List: BOW, CHAR, tfIDF\n",
    "Y = bal['Scam'].values"
   ]
  },
  {
   "cell_type": "code",
   "execution_count": 13,
   "metadata": {},
   "outputs": [],
   "source": [
    "# creating randomly selected balanced training and validation sets\n",
    "X_train, X_val, Y_train, Y_val = train_test_split(X, Y, test_size=0.2, random_state=1, stratify=Y)"
   ]
  },
  {
   "cell_type": "code",
   "execution_count": 14,
   "metadata": {},
   "outputs": [
    {
     "name": "stdout",
     "output_type": "stream",
     "text": [
      "(40000, 2000)\n",
      "(10000, 2000)\n",
      "(40000,)\n",
      "(10000,)\n"
     ]
    }
   ],
   "source": [
    "# dimensions of training and validation sets\n",
    "print(X_train.shape)\n",
    "print(X_val.shape)\n",
    "print(Y_train.shape)\n",
    "print(Y_val.shape)"
   ]
  },
  {
   "cell_type": "code",
   "execution_count": 15,
   "metadata": {},
   "outputs": [],
   "source": [
    "# Convert the sparse matrices to dense arrays\n",
    "X_train_dense = X_train.toarray()\n",
    "X_val_dense = X_val.toarray()\n",
    "\n",
    "# Reshape the input data to have an additional dimension (channels)\n",
    "X_train_reshaped = np.expand_dims(X_train_dense, axis=-1)\n",
    "X_val_reshaped = np.expand_dims(X_val_dense, axis=-1)"
   ]
  },
  {
   "attachments": {},
   "cell_type": "markdown",
   "metadata": {},
   "source": [
    "Callback functions to gather batch-based statistics."
   ]
  },
  {
   "cell_type": "code",
   "execution_count": 3,
   "metadata": {},
   "outputs": [],
   "source": [
    "# Callback to log variation of loss within each epoch\n",
    "class BatchLossCallback(Callback):\n",
    "    def __init__(self):\n",
    "        self.batch_losses = []\n",
    "\n",
    "    def on_train_batch_end(self, batch, logs=None):\n",
    "        self.batch_losses.append(logs.get('loss'))\n",
    "\n",
    "# Callback to log variation of accuracy within each epoch\n",
    "class BatchAccuracyCallback(Callback):\n",
    "    def __init__(self):\n",
    "        self.batch_accuracies = []\n",
    "\n",
    "    def on_train_batch_end(self, batch, logs=None):\n",
    "        self.batch_accuracies.append(logs.get('accuracy'))\n"
   ]
  },
  {
   "attachments": {},
   "cell_type": "markdown",
   "metadata": {},
   "source": [
    "## CNN Model"
   ]
  },
  {
   "attachments": {},
   "cell_type": "markdown",
   "metadata": {},
   "source": [
    "#### Legacy Models"
   ]
  },
  {
   "attachments": {},
   "cell_type": "markdown",
   "metadata": {},
   "source": [
    "##### CNN2"
   ]
  },
  {
   "cell_type": "code",
   "execution_count": 15,
   "metadata": {},
   "outputs": [],
   "source": [
    "# Architecture, functional API\n",
    "CNN2input = layers.Input(shape=(X_train_reshaped.shape[1], 1))\n",
    "CNN2conv = layers.Conv1D(128, 5, activation=gelu, padding='same')(CNN2input)\n",
    "CNN2drop = layers.Dropout(0.01)(CNN2conv)\n",
    "CNN2pool = layers.MaxPooling1D()(CNN2drop)\n",
    "CNN2flat = layers.Flatten()(CNN2pool)\n",
    "CNN2dense = layers.Dense(128, activation=\"relu\")(CNN2flat)\n",
    "CNN2dense2 = layers.Dense(32, activation=\"relu\")(CNN2dense)\n",
    "CNN2output = layers.Dense(1, activation=\"sigmoid\")(CNN2dense2)\n",
    "\n",
    "# Create the model\n",
    "CNN2 = Model(inputs=CNN2input, outputs=CNN2output)"
   ]
  },
  {
   "cell_type": "code",
   "execution_count": 17,
   "metadata": {},
   "outputs": [
    {
     "name": "stdout",
     "output_type": "stream",
     "text": [
      "Model: \"model\"\n",
      "_________________________________________________________________\n",
      " Layer (type)                Output Shape              Param #   \n",
      "=================================================================\n",
      " input_1 (InputLayer)        [(None, 2000, 1)]         0         \n",
      "                                                                 \n",
      " conv1d (Conv1D)             (None, 2000, 128)         768       \n",
      "                                                                 \n",
      " dropout (Dropout)           (None, 2000, 128)         0         \n",
      "                                                                 \n",
      " max_pooling1d (MaxPooling1D  (None, 1000, 128)        0         \n",
      " )                                                               \n",
      "                                                                 \n",
      " flatten (Flatten)           (None, 128000)            0         \n",
      "                                                                 \n",
      " dense (Dense)               (None, 128)               16384128  \n",
      "                                                                 \n",
      " dense_1 (Dense)             (None, 32)                4128      \n",
      "                                                                 \n",
      " dense_2 (Dense)             (None, 1)                 33        \n",
      "                                                                 \n",
      "=================================================================\n",
      "Total params: 16,389,057\n",
      "Trainable params: 16,389,057\n",
      "Non-trainable params: 0\n",
      "_________________________________________________________________\n"
     ]
    }
   ],
   "source": [
    "# optimizers and callbacks\n",
    "CNN2opt = tf.keras.optimizers.Adam(learning_rate=0.001)\n",
    "bloss2 = BatchLossCallback()\n",
    "bacc2 = BatchAccuracyCallback()\n",
    "earlystop = EarlyStopping(monitor='val_accuracy', patience=1, verbose=1, mode='max', restore_best_weights=True)\n",
    "cblist = [earlystop, bloss2, bacc2]\n",
    "\n",
    "# Compile the model\n",
    "CNN2.compile(loss='binary_crossentropy', optimizer=CNN2opt, metrics=['accuracy'])\n",
    "CNN2.summary()\n"
   ]
  },
  {
   "cell_type": "code",
   "execution_count": 18,
   "metadata": {},
   "outputs": [
    {
     "name": "stdout",
     "output_type": "stream",
     "text": [
      "Epoch 1/5\n",
      "1000/1000 [==============================] - 329s 328ms/step - loss: 0.3115 - accuracy: 0.8558 - val_loss: 0.2728 - val_accuracy: 0.8752\n",
      "Epoch 2/5\n",
      "1000/1000 [==============================] - 326s 326ms/step - loss: 0.2171 - accuracy: 0.9036 - val_loss: 0.2577 - val_accuracy: 0.8851\n",
      "Epoch 3/5\n",
      "1000/1000 [==============================] - ETA: 0s - loss: 0.1451 - accuracy: 0.9403Restoring model weights from the end of the best epoch: 2.\n",
      "1000/1000 [==============================] - 327s 327ms/step - loss: 0.1451 - accuracy: 0.9403 - val_loss: 0.2779 - val_accuracy: 0.8812\n",
      "Epoch 3: early stopping\n"
     ]
    }
   ],
   "source": [
    "CNN2hist = CNN2.fit(X_train_reshaped, \n",
    "                    Y_train, \n",
    "                    epochs=5, \n",
    "                    validation_data=(X_val_reshaped, Y_val), \n",
    "                    batch_size=40, \n",
    "                    callbacks=cblist)"
   ]
  },
  {
   "cell_type": "code",
   "execution_count": 19,
   "metadata": {},
   "outputs": [
    {
     "name": "stdout",
     "output_type": "stream",
     "text": [
      "313/313 [==============================] - 16s 52ms/step - loss: 0.2577 - accuracy: 0.8851\n",
      "Validation loss: 0.2576669454574585, accuracy: 0.8851000070571899\n"
     ]
    }
   ],
   "source": [
    "# Evaluate the model\n",
    "lossCNN2, accCNN2 = CNN2.evaluate(X_val_reshaped, Y_val)\n",
    "print(f\"Validation loss: {lossCNN2}, accuracy: {accCNN2}\")"
   ]
  },
  {
   "cell_type": "code",
   "execution_count": 56,
   "metadata": {},
   "outputs": [
    {
     "data": {
      "image/png": "[encoded data removed]",
      "text/plain": [
       "<Figure size 640x480 with 1 Axes>"
      ]
     },
     "metadata": {},
     "output_type": "display_data"
    }
   ],
   "source": [
    "# Plot the batch-wise loss variation within the epoch\n",
    "plt.plot(np.arange(len(bloss2.batch_losses)), bloss2.batch_losses, label='Training Loss')\n",
    "# Plot the batch-wise accuracy variation within the epochs\n",
    "plt.plot(np.arange(len(bacc2.batch_accuracies)), bacc2.batch_accuracies, label='Training Loss')\n",
    "\n",
    "# draw line sbetween the points\n",
    "plt.plot([1000, 2000], [CNN2hist.history['val_loss'][0], CNN2hist.history['val_loss'][1]], color='green', label='Validation Loss')\n",
    "plt.plot([2000, 3000], [CNN2hist.history['val_loss'][1], CNN2hist.history['val_loss'][2]], color='red')\n",
    "\n",
    "plt.plot([1000, 2000], [CNN2hist.history['val_accuracy'][0], CNN2hist.history['val_accuracy'][1]], color='purple', label='Validation Accuracy')\n",
    "plt.plot([2000, 3000], [CNN2hist.history['val_accuracy'][1], CNN2hist.history['val_accuracy'][2]], color='red')\n",
    "# y limit\n",
    "plt.ylim(0, 1.1)\n",
    "\n",
    "# Lines\n",
    "plt.yticks(np.arange(0, 1, 0.1))\n",
    "plt.vlines(1000, 0, 1, colors='gray', linestyles='dashed', label='Epoch end')\n",
    "plt.vlines(2000, 0, 1, colors='red', linestyles='dashed', label = 'Early Stopping')\n",
    "\n",
    "plt.xlabel('Batch number')\n",
    "plt.ylabel('Loss')\n",
    "plt.grid(axis='y', linestyle='--', linewidth=0.5)\n",
    "plt.title(f'TFIDF2: Loss variation within elapsed epochs')\n",
    "plt.legend(loc='upper left', bbox_to_anchor=(1.05, 1), title='Legend')\n",
    "\n",
    "plt.show()"
   ]
  },
  {
   "cell_type": "code",
   "execution_count": 51,
   "metadata": {},
   "outputs": [
    {
     "name": "stdout",
     "output_type": "stream",
     "text": [
      "313/313 [==============================] - 17s 55ms/step\n",
      "[[4531  469]\n",
      " [ 680 4320]]\n"
     ]
    }
   ],
   "source": [
    "XvalDen2 = X_val.todense()\n",
    "ypred2 = CNN2.predict(XvalDen2)\n",
    "yclasspred2 = np.round(ypred2).astype(int)\n",
    "cm2 = confusion_matrix(Y_val, yclasspred2)\n",
    "print(cm2)"
   ]
  },
  {
   "cell_type": "code",
   "execution_count": 57,
   "metadata": {},
   "outputs": [
    {
     "data": {
      "image/png": "[encoded data removed]",
      "text/plain": [
       "<Figure size 400x300 with 2 Axes>"
      ]
     },
     "metadata": {},
     "output_type": "display_data"
    }
   ],
   "source": [
    "# Visualize the confusion matrix as a heatmap\n",
    "plt.figure(figsize=(4, 3))\n",
    "sns.heatmap(cm2, annot=True, fmt='d', cmap='Greens')\n",
    "plt.xlabel('Predicted Label')\n",
    "plt.ylabel('True Label')\n",
    "plt.title('TFIDF2: Confusion Matrix')\n",
    "plt.show()"
   ]
  },
  {
   "attachments": {},
   "cell_type": "markdown",
   "metadata": {},
   "source": [
    "##### CNN3"
   ]
  },
  {
   "cell_type": "code",
   "execution_count": 20,
   "metadata": {},
   "outputs": [],
   "source": [
    "# Architecture, functional API\n",
    "CNN3IP = layers.Input(shape=(X_train_reshaped.shape[1], 1))\n",
    "CNN3CNV = layers.Conv1D(128, 5, activation=gelu, padding='same')(CNN3IP)\n",
    "CNN3drop = layers.Dropout(0.01)(CNN3CNV)\n",
    "CNN3pool = layers.MaxPooling1D()(CNN3drop)\n",
    "CNN3flat = layers.Flatten()(CNN3pool)\n",
    "CNN3dense = layers.Dense(128, activation=gelu)(CNN3flat)\n",
    "CNN3drop2 = layers.Dropout(0.01)(CNN3dense)\n",
    "CNN3dense2 = layers.Dense(32, activation=gelu)(CNN3drop2)\n",
    "CNN3drop3 = layers.Dropout(0.01)(CNN3dense2)\n",
    "CNN3output = layers.Dense(1, activation=\"sigmoid\")(CNN3drop3)\n",
    "\n",
    "# Create the model\n",
    "CNN3 = Model(inputs=CNN3IP, outputs=CNN3output)"
   ]
  },
  {
   "cell_type": "code",
   "execution_count": 21,
   "metadata": {},
   "outputs": [
    {
     "name": "stdout",
     "output_type": "stream",
     "text": [
      "Model: \"model_1\"\n",
      "_________________________________________________________________\n",
      " Layer (type)                Output Shape              Param #   \n",
      "=================================================================\n",
      " input_2 (InputLayer)        [(None, 2000, 1)]         0         \n",
      "                                                                 \n",
      " conv1d_1 (Conv1D)           (None, 2000, 128)         768       \n",
      "                                                                 \n",
      " dropout_1 (Dropout)         (None, 2000, 128)         0         \n",
      "                                                                 \n",
      " max_pooling1d_1 (MaxPooling  (None, 1000, 128)        0         \n",
      " 1D)                                                             \n",
      "                                                                 \n",
      " flatten_1 (Flatten)         (None, 128000)            0         \n",
      "                                                                 \n",
      " dense_3 (Dense)             (None, 128)               16384128  \n",
      "                                                                 \n",
      " dropout_2 (Dropout)         (None, 128)               0         \n",
      "                                                                 \n",
      " dense_4 (Dense)             (None, 32)                4128      \n",
      "                                                                 \n",
      " dropout_3 (Dropout)         (None, 32)                0         \n",
      "                                                                 \n",
      " dense_5 (Dense)             (None, 1)                 33        \n",
      "                                                                 \n",
      "=================================================================\n",
      "Total params: 16,389,057\n",
      "Trainable params: 16,389,057\n",
      "Non-trainable params: 0\n",
      "_________________________________________________________________\n"
     ]
    }
   ],
   "source": [
    "CNN3opt = tf.keras.optimizers.Adam()\n",
    "bloss3 = BatchLossCallback()\n",
    "bacc3 = BatchAccuracyCallback()\n",
    "earlystop3 = EarlyStopping(monitor='val_accuracy', patience=1, verbose=1, mode='max', restore_best_weights=True)\n",
    "cblist3 = [earlystop3, bloss3, bacc3]\n",
    "CNN3.compile(loss='binary_crossentropy', optimizer=CNN3opt, metrics=['accuracy'])\n",
    "CNN3.summary()"
   ]
  },
  {
   "cell_type": "code",
   "execution_count": 22,
   "metadata": {},
   "outputs": [
    {
     "name": "stdout",
     "output_type": "stream",
     "text": [
      "Epoch 1/5\n",
      "1000/1000 [==============================] - 311s 311ms/step - loss: 0.3077 - accuracy: 0.8567 - val_loss: 0.2755 - val_accuracy: 0.8728\n",
      "Epoch 2/5\n",
      "1000/1000 [==============================] - 311s 311ms/step - loss: 0.2323 - accuracy: 0.8943 - val_loss: 0.2663 - val_accuracy: 0.8785\n",
      "Epoch 3/5\n",
      "1000/1000 [==============================] - 320s 320ms/step - loss: 0.1861 - accuracy: 0.9170 - val_loss: 0.2751 - val_accuracy: 0.8813\n",
      "Epoch 4/5\n",
      "1000/1000 [==============================] - 326s 326ms/step - loss: 0.1246 - accuracy: 0.9467 - val_loss: 0.3436 - val_accuracy: 0.8837\n",
      "Epoch 5/5\n",
      "1000/1000 [==============================] - ETA: 0s - loss: 0.0641 - accuracy: 0.9757Restoring model weights from the end of the best epoch: 4.\n",
      "1000/1000 [==============================] - 326s 326ms/step - loss: 0.0641 - accuracy: 0.9757 - val_loss: 0.3952 - val_accuracy: 0.8749\n",
      "Epoch 5: early stopping\n"
     ]
    }
   ],
   "source": [
    "CNN3hist = CNN3.fit(X_train_reshaped,\n",
    "                    Y_train, \n",
    "                    epochs=5, \n",
    "                    validation_data=(X_val_reshaped, Y_val), \n",
    "                    batch_size=40, \n",
    "                    callbacks=cblist3)"
   ]
  },
  {
   "cell_type": "code",
   "execution_count": 23,
   "metadata": {},
   "outputs": [
    {
     "name": "stdout",
     "output_type": "stream",
     "text": [
      "313/313 [==============================] - 16s 52ms/step - loss: 0.3436 - accuracy: 0.8837\n",
      "Validation loss: 0.34362947940826416, accuracy: 0.8837000131607056\n"
     ]
    }
   ],
   "source": [
    "# Evaluate the model\n",
    "lossCNN3, accCNN3 = CNN3.evaluate(X_val_reshaped, Y_val)\n",
    "print(f\"Validation loss: {lossCNN3}, accuracy: {accCNN3}\")"
   ]
  },
  {
   "cell_type": "code",
   "execution_count": 44,
   "metadata": {},
   "outputs": [
    {
     "data": {
      "image/png": "[encoded data removed]",
      "text/plain": [
       "<Figure size 640x480 with 1 Axes>"
      ]
     },
     "metadata": {},
     "output_type": "display_data"
    }
   ],
   "source": [
    "# Plot the batch-wise loss variation within the epoch\n",
    "plt.plot(np.arange(len(bloss3.batch_losses)), bloss3.batch_losses, label='Training Loss')\n",
    "# Plot the batch-wise accuracy variation within the epochs\n",
    "plt.plot(np.arange(len(bacc3.batch_accuracies)), bacc3.batch_accuracies, label='Training Loss')\n",
    "\n",
    "# draw line sbetween the points\n",
    "plt.plot([1000, 2000], [CNN3hist.history['val_loss'][0], CNN3hist.history['val_loss'][1]], color='green', label='Validation Loss')\n",
    "plt.plot([2000, 3000], [CNN3hist.history['val_loss'][1], CNN3hist.history['val_loss'][2]], color='green')\n",
    "plt.plot([3000, 4000], [CNN3hist.history['val_loss'][2], CNN3hist.history['val_loss'][3]], color='green')\n",
    "plt.plot([4000, 5000], [CNN3hist.history['val_loss'][3], CNN3hist.history['val_loss'][4]], color='red')\n",
    "\n",
    "\n",
    "\n",
    "plt.plot([1000, 2000], [CNN3hist.history['val_accuracy'][0], CNN3hist.history['val_accuracy'][1]], color='purple')\n",
    "plt.plot([2000, 3000], [CNN3hist.history['val_accuracy'][1], CNN3hist.history['val_accuracy'][2]], color='purple')\n",
    "plt.plot([3000, 4000], [CNN3hist.history['val_accuracy'][2], CNN3hist.history['val_accuracy'][3]], color='purple')\n",
    "plt.plot([4000, 5000], [CNN3hist.history['val_accuracy'][3], CNN3hist.history['val_accuracy'][4]], color='red')\n",
    "\n",
    "\n",
    "#xlim is 3000\n",
    "plt.ylim(0, 1.1)\n",
    "\n",
    "# Lines\n",
    "plt.yticks(np.arange(0, 1, 0.1))\n",
    "plt.vlines(1000, 0, 1, colors='gray', linestyles='dashed', label='Epoch end')\n",
    "plt.vlines(1000, 0, 1, colors='gray', linestyles='dashed')\n",
    "plt.vlines(2000, 0, 1, colors='gray', linestyles='dashed')\n",
    "plt.vlines(3000, 0, 1, colors='gray', linestyles='dashed')\n",
    "plt.vlines(4000, 0, 1, colors='red', linestyles='dashed', label = 'Early Stopping')\n",
    "plt.xlabel('Batch number')\n",
    "plt.ylabel('Loss')\n",
    "plt.grid(axis='y', linestyle='--', linewidth=0.5)\n",
    "plt.title(f'TFIDF3: Loss variation within elapsed epochs')\n",
    "plt.legend(loc='upper left', bbox_to_anchor=(1.05, 1), title='Legend')\n",
    "\n",
    "plt.show()"
   ]
  },
  {
   "cell_type": "code",
   "execution_count": 47,
   "metadata": {},
   "outputs": [
    {
     "name": "stdout",
     "output_type": "stream",
     "text": [
      "313/313 [==============================] - 17s 55ms/step\n",
      "[[4531  469]\n",
      " [ 680 4320]]\n"
     ]
    }
   ],
   "source": [
    "XvalDen3 = X_val.todense()\n",
    "ypred3 = CNN2.predict(XvalDen3)\n",
    "yclasspred3 = np.round(ypred3).astype(int)\n",
    "cm3 = confusion_matrix(Y_val, yclasspred3)\n",
    "print(cm3)"
   ]
  },
  {
   "cell_type": "code",
   "execution_count": 50,
   "metadata": {},
   "outputs": [
    {
     "data": {
      "image/png": "[encoded data removed]",
      "text/plain": [
       "<Figure size 400x300 with 2 Axes>"
      ]
     },
     "metadata": {},
     "output_type": "display_data"
    }
   ],
   "source": [
    "# Visualize the confusion matrix as a heatmap\n",
    "plt.figure(figsize=(4, 3))\n",
    "sns.heatmap(cm3, annot=True, fmt='d', cmap='Greens')\n",
    "plt.xlabel('Predicted Label')\n",
    "plt.ylabel('True Label')\n",
    "plt.title('TFIDF3: Confusion Matrix')\n",
    "plt.show()"
   ]
  },
  {
   "attachments": {},
   "cell_type": "markdown",
   "metadata": {},
   "source": [
    "### Iteration 3.5"
   ]
  },
  {
   "attachments": {},
   "cell_type": "markdown",
   "metadata": {},
   "source": [
    "##### Model Architecture"
   ]
  },
  {
   "cell_type": "code",
   "execution_count": 31,
   "metadata": {},
   "outputs": [],
   "source": [
    "# Functional API\n",
    "# Input layer\n",
    "inputLayer = layers.Input(shape=(X_train_reshaped.shape[1], 1))\n",
    "\n",
    "#Convolutional layer\n",
    "conv1 = layers.Conv1D(128, 5, activation=gelu, padding='same')(inputLayer)\n",
    "max_pool1 = layers.MaxPooling1D()(conv1)\n",
    "drop1 = layers.Dropout(0.01)(max_pool1)\n",
    "\n",
    "#Dense Layer\n",
    "flatten = layers.Flatten()(drop1)\n",
    "dense = layers.Dense(128, activation=gelu)(flatten)\n",
    "drop2 = layers.Dropout(0.01)(dense)\n",
    "bnorm1 = layers.BatchNormalization()(drop2)\n",
    "dense2 = layers.Dense(32, activation=gelu)(bnorm1)\n",
    "bnorm2 = layers.BatchNormalization()(dense2)\n",
    "dense3 = layers.Dense(16, activation=gelu)(bnorm2)\n",
    "drop3 = layers.Dropout(0.01)(dense3)\n",
    "\n",
    "#Output\n",
    "output = layers.Dense(1, activation=\"sigmoid\")(drop3)\n",
    "\n",
    "# Create the model\n",
    "model = Model(inputs=inputLayer, outputs=output)"
   ]
  },
  {
   "cell_type": "code",
   "execution_count": 32,
   "metadata": {},
   "outputs": [],
   "source": [
    "# Optimiser\n",
    "optimizer = tf.optimizers.Adam()\n",
    "\n",
    "\n",
    "# Callbacks\n",
    "batch_loss_callback = BatchLossCallback()\n",
    "batch_accuracy_callback = BatchAccuracyCallback()\n",
    "early_stopping = EarlyStopping(monitor='val_accuracy', patience=1, verbose=1, mode='max', restore_best_weights=True)\n",
    "\n",
    "# Create a list of callbacks\n",
    "callbacks_list = [early_stopping, batch_loss_callback, batch_accuracy_callback]"
   ]
  },
  {
   "cell_type": "code",
   "execution_count": 33,
   "metadata": {},
   "outputs": [
    {
     "name": "stdout",
     "output_type": "stream",
     "text": [
      "Model: \"model_3\"\n",
      "_________________________________________________________________\n",
      " Layer (type)                Output Shape              Param #   \n",
      "=================================================================\n",
      " input_4 (InputLayer)        [(None, 2000, 1)]         0         \n",
      "                                                                 \n",
      " conv1d_3 (Conv1D)           (None, 2000, 128)         768       \n",
      "                                                                 \n",
      " max_pooling1d_3 (MaxPooling  (None, 1000, 128)        0         \n",
      " 1D)                                                             \n",
      "                                                                 \n",
      " dropout_7 (Dropout)         (None, 1000, 128)         0         \n",
      "                                                                 \n",
      " flatten_3 (Flatten)         (None, 128000)            0         \n",
      "                                                                 \n",
      " dense_10 (Dense)            (None, 128)               16384128  \n",
      "                                                                 \n",
      " dropout_8 (Dropout)         (None, 128)               0         \n",
      "                                                                 \n",
      " batch_normalization_2 (Batc  (None, 128)              512       \n",
      " hNormalization)                                                 \n",
      "                                                                 \n",
      " dense_11 (Dense)            (None, 32)                4128      \n",
      "                                                                 \n",
      " batch_normalization_3 (Batc  (None, 32)               128       \n",
      " hNormalization)                                                 \n",
      "                                                                 \n",
      " dense_12 (Dense)            (None, 16)                528       \n",
      "                                                                 \n",
      " dropout_9 (Dropout)         (None, 16)                0         \n",
      "                                                                 \n",
      " dense_13 (Dense)            (None, 1)                 17        \n",
      "                                                                 \n",
      "=================================================================\n",
      "Total params: 16,390,209\n",
      "Trainable params: 16,389,889\n",
      "Non-trainable params: 320\n",
      "_________________________________________________________________\n"
     ]
    }
   ],
   "source": [
    "# Compile the model\n",
    "model.compile(loss='binary_crossentropy', optimizer=optimizer, metrics=['accuracy'])\n",
    "model.summary()"
   ]
  },
  {
   "attachments": {},
   "cell_type": "markdown",
   "metadata": {},
   "source": [
    "##### Performance, Metrics, Plots"
   ]
  },
  {
   "attachments": {},
   "cell_type": "markdown",
   "metadata": {},
   "source": [
    "History"
   ]
  },
  {
   "cell_type": "code",
   "execution_count": 34,
   "metadata": {},
   "outputs": [
    {
     "name": "stdout",
     "output_type": "stream",
     "text": [
      "Epoch 1/5\n",
      "1000/1000 [==============================] - 285s 284ms/step - loss: 0.3180 - accuracy: 0.8543 - val_loss: 0.3275 - val_accuracy: 0.8409\n",
      "Epoch 2/5\n",
      "1000/1000 [==============================] - ETA: 0s - loss: 0.2343 - accuracy: 0.8946Restoring model weights from the end of the best epoch: 1.\n",
      "1000/1000 [==============================] - 286s 286ms/step - loss: 0.2343 - accuracy: 0.8946 - val_loss: 0.5989 - val_accuracy: 0.8377\n",
      "Epoch 2: early stopping\n"
     ]
    }
   ],
   "source": [
    "# Train the model\n",
    "history = model.fit(X_train_reshaped, Y_train, epochs=5, validation_data=(X_val_reshaped, Y_val), batch_size=40, callbacks=callbacks_list)"
   ]
  },
  {
   "attachments": {},
   "cell_type": "markdown",
   "metadata": {},
   "source": [
    "Performance Plot"
   ]
  },
  {
   "cell_type": "code",
   "execution_count": 65,
   "metadata": {},
   "outputs": [
    {
     "data": {
      "image/png": "[encoded data removed]",
      "text/plain": [
       "<Figure size 640x480 with 1 Axes>"
      ]
     },
     "metadata": {},
     "output_type": "display_data"
    }
   ],
   "source": [
    "# Plot the batch-wise loss variation within the epoch\n",
    "plt.plot(np.arange(len(batch_loss_callback.batch_losses)), batch_loss_callback.batch_losses, label='Training Loss')\n",
    "# Plot the batch-wise accuracy variation within the epochs\n",
    "plt.plot(np.arange(len(batch_accuracy_callback.batch_accuracies)), batch_accuracy_callback.batch_accuracies, label='Training Accuracy')\n",
    "\n",
    "# draw line sbetween the points\n",
    "plt.plot([1000, 2000], [history.history['val_loss'][0], history.history['val_loss'][1]], color='red', label='Validation Loss')\n",
    "\n",
    "plt.plot([1000, 2000], [history.history['val_accuracy'][0], history.history['val_accuracy'][1]], color='red', label='Validation Accuracy')\n",
    "\n",
    "# Lines\n",
    "plt.yticks(np.arange(0, 1, 0.1))\n",
    "plt.vlines(1000, 0, 1, colors='gray', linestyles='dashed', label='Epoch end')\n",
    "plt.vlines(1000, 0, 1, colors='red', linestyles='dashed', label = 'Early Stopping')\n",
    "plt.vlines(2000, 0, 1, colors='gray', linestyles='dashed')\n",
    "plt.xlabel('Batch number')\n",
    "plt.ylabel('Loss')\n",
    "plt.grid(axis='y', linestyle='--', linewidth=0.5)\n",
    "plt.title(f'TFIDF3.5: Loss variation within elapsed epochs')\n",
    "plt.legend(loc='upper left', bbox_to_anchor=(1.05, 1), title='Legend')\n",
    "\n",
    "plt.show()"
   ]
  },
  {
   "attachments": {},
   "cell_type": "markdown",
   "metadata": {},
   "source": [
    "Evaluation"
   ]
  },
  {
   "cell_type": "code",
   "execution_count": 61,
   "metadata": {},
   "outputs": [
    {
     "name": "stdout",
     "output_type": "stream",
     "text": [
      "313/313 [==============================] - 17s 54ms/step - loss: 0.3275 - accuracy: 0.8409\n",
      "Validation loss: 0.32752084732055664, accuracy: 0.8409000039100647\n"
     ]
    }
   ],
   "source": [
    "# Evaluate the model\n",
    "loss, accuracy = model.evaluate(X_val_reshaped, Y_val)\n",
    "print(f\"Validation loss: {loss}, accuracy: {accuracy}\")"
   ]
  },
  {
   "attachments": {},
   "cell_type": "markdown",
   "metadata": {},
   "source": [
    "Confusion Matrix"
   ]
  },
  {
   "cell_type": "code",
   "execution_count": 62,
   "metadata": {},
   "outputs": [
    {
     "name": "stdout",
     "output_type": "stream",
     "text": [
      "313/313 [==============================] - 16s 51ms/step\n"
     ]
    }
   ],
   "source": [
    "# Convert the sparse input data to dense format\n",
    "X_val_dense = X_val.todense()\n",
    "\n",
    "# Get the model's predictions on the dense validation set\n",
    "y_pred = model.predict(X_val_dense)"
   ]
  },
  {
   "cell_type": "code",
   "execution_count": 63,
   "metadata": {},
   "outputs": [],
   "source": [
    "y_pred_classes = np.round(y_pred).astype(int)  # For binary classification"
   ]
  },
  {
   "cell_type": "code",
   "execution_count": 64,
   "metadata": {},
   "outputs": [
    {
     "name": "stdout",
     "output_type": "stream",
     "text": [
      "[[4001  999]\n",
      " [ 592 4408]]\n"
     ]
    },
    {
     "data": {
      "image/png": "[encoded data removed]",
      "text/plain": [
       "<Figure size 400x300 with 2 Axes>"
      ]
     },
     "metadata": {},
     "output_type": "display_data"
    }
   ],
   "source": [
    "# Compute the confusion matrix\n",
    "cm = confusion_matrix(Y_val, y_pred_classes)\n",
    "print(cm)\n",
    "\n",
    "# Visualize the confusion matrix as a heatmap\n",
    "plt.figure(figsize=(4, 3))\n",
    "sns.heatmap(cm, annot=True, fmt='d', cmap='Greens')\n",
    "plt.xlabel('Predicted Label')\n",
    "plt.ylabel('True Label')\n",
    "plt.title('TFIDF3.5: Confusion Matrix')\n",
    "plt.show()"
   ]
  },
  {
   "attachments": {},
   "cell_type": "markdown",
   "metadata": {},
   "source": [
    "### BOWCNN2: Functional Convolutional Layers, Adam Optimizer"
   ]
  },
  {
   "attachments": {},
   "cell_type": "markdown",
   "metadata": {},
   "source": [
    "Input layer\n",
    "\n",
    "    inputLayer = layers.Input(shape=(X_train_reshaped.shape[1], 1))\n",
    "\n",
    "Convolutional layer\n",
    "\n",
    "    conv1 = layers.Conv1D(128, 5, activation=gelu)(inputLayer)\n",
    "\n",
    "    drop1 = layers.Dropout(0.01)(conv1)\n",
    "\n",
    "MaxPooling layer\n",
    "\n",
    "    max_pool = layers.MaxPooling1D()(drop1)\n",
    "\n",
    "Dense Layer\n",
    "\n",
    "    flatten = layers.Flatten()(max_pool)\n",
    "\n",
    "    dense = layers.Dense(128, activation=gelu)(flatten)\n",
    "    \n",
    "    dense2 = layers.Dense(32, activation=gelu)(dense)\n",
    "\n",
    "Output\n",
    "    output = layers.Dense(1, activation=\"sigmoid\")(dense2)\n",
    "\n",
    "Create the model\n",
    "\n",
    "    model = Model(inputs=inputLayer, outputs=output)\n",
    "\n",
    "Compile the model\n",
    "\n",
    "    optimizer = Adam(learning_rate=0.001)\n",
    "\n",
    "    early_stopping = EarlyStopping(monitor='val_loss', patience=1, verbose=1, mode='min', restore_best_weights=True)\n",
    "\n",
    "    model.compile(loss='binary_crossentropy', optimizer=optimizer, metrics=['accuracy'])"
   ]
  },
  {
   "attachments": {},
   "cell_type": "markdown",
   "metadata": {},
   "source": [
    "### BOWCNN3: Functional Convolutional Layers, Rectified Adam Optimizer"
   ]
  },
  {
   "attachments": {},
   "cell_type": "markdown",
   "metadata": {},
   "source": [
    "\n",
    "Input layer\n",
    "\n",
    "    inputLayer = layers.Input(shape=(X_train_reshaped.shape[1], 1))\n",
    "\n",
    "Convolutional layer\n",
    "\n",
    "    conv1 = layers.Conv1D(128, 3, activation=gelu)(inputLayer)\n",
    "    drop1 = layers.Dropout(0.01)(conv1)\n",
    "\n",
    "MaxPooling layer\n",
    "\n",
    "    max_pool = layers.MaxPooling1D()(drop1)\n",
    "\n",
    "Dense Layer\n",
    "\n",
    "    flatten = layers.Flatten()(max_pool)\n",
    "    dense = layers.Dense(128, activation=gelu)(flatten)\n",
    "    dense2 = layers.Dense(32, activation=gelu)(dense)\n",
    "\n",
    "Output\n",
    "\n",
    "    output = layers.Dense(1, activation=\"sigmoid\")(dense2)\n",
    "\n",
    "Create the model\n",
    "\n",
    "    model = Model(inputs=inputLayer, outputs=output)\n",
    "\n",
    "Optimiser\n",
    "\n",
    "    optimizer = optimizer = tfa.optimizers.RectifiedAdam(learning_rate=0.001, weight_decay=0.01)\n",
    "\n",
    "Callbacks\n",
    "\n",
    "    batch_loss_callback = BatchLossCallback()\n",
    "\n",
    "    batch_accuracy_callback = BatchAccuracyCallback()\n",
    "\n",
    "    early_stopping = EarlyStopping(monitor='val_loss', patience=1, verbose=1, mode='min', restore_best_weights=True)\n",
    "\n",
    "Create a list of callbacks\n",
    "\n",
    "    callbacks_list = [early_stopping, batch_loss_callback, batch_accuracy_callback]\n",
    "\n",
    "Compile the model\n",
    "\n",
    "    model.compile(loss='binary_crossentropy', optimizer=optimizer, metrics=['accuracy'])"
   ]
  },
  {
   "cell_type": "code",
   "execution_count": 16,
   "metadata": {},
   "outputs": [
    {
     "name": "stdout",
     "output_type": "stream",
     "text": [
      "Model: \"model\"\n",
      "__________________________________________________________________________________________________\n",
      " Layer (type)                   Output Shape         Param #     Connected to                     \n",
      "==================================================================================================\n",
      " input_1 (InputLayer)           [(None, 2000, 1)]    0           []                               \n",
      "                                                                                                  \n",
      " conv1d (Conv1D)                (None, 2000, 128)    768         ['input_1[0][0]']                \n",
      "                                                                                                  \n",
      " conv1d_1 (Conv1D)              (None, 2000, 128)    768         ['input_1[0][0]']                \n",
      "                                                                                                  \n",
      " max_pooling1d (MaxPooling1D)   (None, 1000, 128)    0           ['conv1d[0][0]']                 \n",
      "                                                                                                  \n",
      " max_pooling1d_1 (MaxPooling1D)  (None, 1000, 128)   0           ['conv1d_1[0][0]']               \n",
      "                                                                                                  \n",
      " dropout (Dropout)              (None, 1000, 128)    0           ['max_pooling1d[0][0]']          \n",
      "                                                                                                  \n",
      " dropout_1 (Dropout)            (None, 1000, 128)    0           ['max_pooling1d_1[0][0]']        \n",
      "                                                                                                  \n",
      " concatenate (Concatenate)      (None, 1000, 256)    0           ['dropout[0][0]',                \n",
      "                                                                  'dropout_1[0][0]']              \n",
      "                                                                                                  \n",
      " flatten (Flatten)              (None, 256000)       0           ['concatenate[0][0]']            \n",
      "                                                                                                  \n",
      " dense (Dense)                  (None, 128)          32768128    ['flatten[0][0]']                \n",
      "                                                                                                  \n",
      " dropout_2 (Dropout)            (None, 128)          0           ['dense[0][0]']                  \n",
      "                                                                                                  \n",
      " dense_3 (Dense)                (None, 1)            129         ['dropout_2[0][0]']              \n",
      "                                                                                                  \n",
      "==================================================================================================\n",
      "Total params: 32,769,793\n",
      "Trainable params: 32,769,793\n",
      "Non-trainable params: 0\n",
      "__________________________________________________________________________________________________\n"
     ]
    }
   ],
   "source": [
    "# Functional API\n",
    "# Input layer\n",
    "inputLayer = layers.Input(shape=(X_train_reshaped.shape[1], 1))\n",
    "\n",
    "#Convolutional layer\n",
    "conv1 = layers.Conv1D(128, 5, activation=gelu, padding='same')(inputLayer)\n",
    "max_pool1 = layers.MaxPooling1D()(conv1)\n",
    "drop1 = layers.Dropout(0.01)(max_pool1)\n",
    "\n",
    "# convolutional layer 2\n",
    "conv2 = layers.Conv1D(128, 5, activation=gelu, padding='same')(inputLayer)\n",
    "max_pool2 = layers.MaxPooling1D()(conv2)\n",
    "drop2 = layers.Dropout(0.01)(max_pool2)\n",
    "\n",
    "# concat\n",
    "concat = layers.Concatenate()([drop1, drop2])\n",
    "\n",
    "#Dense Layer\n",
    "flatten = layers.Flatten()(concat)\n",
    "dense = layers.Dense(128, activation=gelu)(flatten)\n",
    "drop3 = layers.Dropout(0.01)(dense)\n",
    "bnorm1 = layers.BatchNormalization()(drop3)\n",
    "dense2 = layers.Dense(32, activation=gelu)(bnorm1)\n",
    "bnorm2 = layers.BatchNormalization()(dense2)\n",
    "dense3 = layers.Dense(16, activation=gelu)(bnorm2)\n",
    "drop4 = layers.Dropout(0.01)(dense3)\n",
    "\n",
    "#Output\n",
    "output = layers.Dense(1, activation=\"sigmoid\")(drop3)\n",
    "\n",
    "# Create the model\n",
    "model = Model(inputs=inputLayer, outputs=output)\n",
    "\n",
    "# Optimiser\n",
    "optimizer = tf.optimizers.Adam()\n",
    "\n",
    "\n",
    "# Callbacks\n",
    "batch_loss_callback = BatchLossCallback()\n",
    "batch_accuracy_callback = BatchAccuracyCallback()\n",
    "early_stopping = EarlyStopping(monitor='val_accuracy', patience=1, verbose=1, mode='max', restore_best_weights=True)\n",
    "\n",
    "# Create a list of callbacks\n",
    "callbacks_list = [early_stopping, batch_loss_callback, batch_accuracy_callback]\n",
    "\n",
    "# Compile the model\n",
    "model.compile(loss='binary_crossentropy', optimizer=optimizer, metrics=['accuracy'])\n",
    "model.summary()"
   ]
  }
 ],
 "metadata": {
  "kernelspec": {
   "display_name": "tf",
   "language": "python",
   "name": "python3"
  },
  "language_info": {
   "codemirror_mode": {
    "name": "ipython",
    "version": 3
   },
   "file_extension": ".py",
   "mimetype": "text/x-python",
   "name": "python",
   "nbconvert_exporter": "python",
   "pygments_lexer": "ipython3",
   "version": "3.10.9"
  },
  "orig_nbformat": 4
 },
 "nbformat": 4,
 "nbformat_minor": 2
}
