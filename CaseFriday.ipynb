{
 "cells": [
  {
   "cell_type": "code",
   "execution_count": 23,
   "metadata": {},
   "outputs": [],
   "source": [
    "import pandas as pd"
   ]
  },
  {
   "cell_type": "code",
   "execution_count": 16,
   "metadata": {},
   "outputs": [],
   "source": [
    "# read csv from url\n",
    "url = 'https://raw.githubusercontent.com/juanberasategui/DeepLearningNHH/main/Term%20Paper/tweets.csv?token=GHSAT0AAAAAAB5KBLC7WRXZIG27GF45RREKY7T4UWA'\n",
    "twt = pd.read_csv(url)"
   ]
  },
  {
   "cell_type": "code",
   "execution_count": 17,
   "metadata": {},
   "outputs": [],
   "source": [
    "back_up = twt.copy()"
   ]
  },
  {
   "cell_type": "code",
   "execution_count": 10,
   "metadata": {},
   "outputs": [
    {
     "data": {
      "text/plain": [
       "\"Cryptsy\" lang:en until:2014-07-01 since:2013-07-01                33253\n",
       "\"OneCoin\" lang:en until:2017-01-01 since:2016-01-01                28644\n",
       "\"MintPal\" lang:en until:2014-10-01 since:2013-10-01                24560\n",
       "\"Thodex\" lang:en until:2021-04-01 since:2020-04-01                 23243\n",
       "\"Frosties\" lang:en until:2022-01-01 since:2021-01-01               18002\n",
       "                                                                   ...  \n",
       "\"Shade Inu Token\" lang:en until:2022-07-01 since:2021-07-01            1\n",
       "\"B Top crypto\" lang:en until:2022-07-01 since:2021-07-01               1\n",
       "\"Marvel Metauniverse\" lang:en until:2022-08-01 since:2021-08-01        1\n",
       "\"RSHIB crypto\" lang:en until:2022-08-01 since:2021-08-01               1\n",
       "\"Tezilla Finance\" lang:en until:2022-05-01 since:2021-05-01            1\n",
       "Name: Project, Length: 325, dtype: int64"
      ]
     },
     "execution_count": 10,
     "metadata": {},
     "output_type": "execute_result"
    }
   ],
   "source": [
    "# select project column\n",
    "twt['Project'].value_counts()"
   ]
  },
  {
   "cell_type": "code",
   "execution_count": 18,
   "metadata": {},
   "outputs": [
    {
     "data": {
      "text/plain": [
       "0    \"Zero Token\" lang:en until:2023-02-01 since:20...\n",
       "1    \"Zero Token\" lang:en until:2023-02-01 since:20...\n",
       "2    \"Zero Token\" lang:en until:2023-02-01 since:20...\n",
       "3    \"Zero Token\" lang:en until:2023-02-01 since:20...\n",
       "4    \"Zero Token\" lang:en until:2023-02-01 since:20...\n",
       "Name: Project, dtype: object"
      ]
     },
     "execution_count": 18,
     "metadata": {},
     "output_type": "execute_result"
    }
   ],
   "source": [
    "# cut strings in project column begining at \"lang:en\"\n",
    "twt['Project'].head()"
   ]
  }
 ],
 "metadata": {
  "kernelspec": {
   "display_name": "tf",
   "language": "python",
   "name": "python3"
  },
  "language_info": {
   "codemirror_mode": {
    "name": "ipython",
    "version": 3
   },
   "file_extension": ".py",
   "mimetype": "text/x-python",
   "name": "python",
   "nbconvert_exporter": "python",
   "pygments_lexer": "ipython3",
   "version": "3.10.9"
  },
  "orig_nbformat": 4,
  "vscode": {
   "interpreter": {
    "hash": "67aeebd1d8a05e5803e485553c6cf9142f5326752e105db805a19e33b6ba0c95"
   }
  }
 },
 "nbformat": 4,
 "nbformat_minor": 2
}
