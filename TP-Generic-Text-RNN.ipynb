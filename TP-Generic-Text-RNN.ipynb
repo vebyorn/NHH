{
 "cells": [
  {
   "cell_type": "code",
   "execution_count": 77,
   "metadata": {},
   "outputs": [],
   "source": [
    "import pandas as pd\n",
    "import tensorflow as tf\n",
    "import tensorflow.keras as keras\n",
    "import numpy as np"
   ]
  },
  {
   "cell_type": "code",
   "execution_count": 78,
   "metadata": {},
   "outputs": [
    {
     "data": {
      "text/html": [
       "<div>\n",
       "<style scoped>\n",
       "    .dataframe tbody tr th:only-of-type {\n",
       "        vertical-align: middle;\n",
       "    }\n",
       "\n",
       "    .dataframe tbody tr th {\n",
       "        vertical-align: top;\n",
       "    }\n",
       "\n",
       "    .dataframe thead th {\n",
       "        text-align: right;\n",
       "    }\n",
       "</style>\n",
       "<table border=\"1\" class=\"dataframe\">\n",
       "  <thead>\n",
       "    <tr style=\"text-align: right;\">\n",
       "      <th></th>\n",
       "      <th>Text</th>\n",
       "      <th>Scam</th>\n",
       "    </tr>\n",
       "  </thead>\n",
       "  <tbody>\n",
       "    <tr>\n",
       "      <th>0</th>\n",
       "      <td>the  transfer scam is actually insane. i get l...</td>\n",
       "      <td>1</td>\n",
       "    </tr>\n",
       "    <tr>\n",
       "      <th>1</th>\n",
       "      <td>i keep telling you all about this gem, i hope ...</td>\n",
       "      <td>1</td>\n",
       "    </tr>\n",
       "    <tr>\n",
       "      <th>2</th>\n",
       "      <td>1 year ago \\n\\nfrom what i'm learning of coppe...</td>\n",
       "      <td>1</td>\n",
       "    </tr>\n",
       "    <tr>\n",
       "      <th>3</th>\n",
       "      <td>to position for layer zero airdrop 🎯\\n\\nhere's...</td>\n",
       "      <td>1</td>\n",
       "    </tr>\n",
       "    <tr>\n",
       "      <th>4</th>\n",
       "      <td>here's a standard native token (ether) transac...</td>\n",
       "      <td>1</td>\n",
       "    </tr>\n",
       "  </tbody>\n",
       "</table>\n",
       "</div>"
      ],
      "text/plain": [
       "                                                Text  Scam\n",
       "0  the  transfer scam is actually insane. i get l...     1\n",
       "1  i keep telling you all about this gem, i hope ...     1\n",
       "2  1 year ago \\n\\nfrom what i'm learning of coppe...     1\n",
       "3  to position for layer zero airdrop 🎯\\n\\nhere's...     1\n",
       "4  here's a standard native token (ether) transac...     1"
      ]
     },
     "execution_count": 78,
     "metadata": {},
     "output_type": "execute_result"
    }
   ],
   "source": [
    "twt = pd.read_csv('tweets_cleaned.csv')\n",
    "twt.head()"
   ]
  },
  {
   "cell_type": "code",
   "execution_count": 79,
   "metadata": {},
   "outputs": [
    {
     "name": "stdout",
     "output_type": "stream",
     "text": [
      "<class 'pandas.core.frame.DataFrame'>\n",
      "RangeIndex: 1081332 entries, 0 to 1081331\n",
      "Data columns (total 2 columns):\n",
      " #   Column  Non-Null Count    Dtype \n",
      "---  ------  --------------    ----- \n",
      " 0   Text    1081031 non-null  object\n",
      " 1   Scam    1081332 non-null  int64 \n",
      "dtypes: int64(1), object(1)\n",
      "memory usage: 16.5+ MB\n"
     ]
    }
   ],
   "source": [
    "twt.info()"
   ]
  },
  {
   "cell_type": "code",
   "execution_count": 80,
   "metadata": {},
   "outputs": [
    {
     "name": "stdout",
     "output_type": "stream",
     "text": [
      "<class 'pandas.core.frame.DataFrame'>\n",
      "Int64Index: 809388 entries, 0 to 1081331\n",
      "Data columns (total 2 columns):\n",
      " #   Column  Non-Null Count   Dtype \n",
      "---  ------  --------------   ----- \n",
      " 0   Text    809388 non-null  object\n",
      " 1   Scam    809388 non-null  int64 \n",
      "dtypes: int64(1), object(1)\n",
      "memory usage: 18.5+ MB\n"
     ]
    }
   ],
   "source": [
    "# summary statistics of string lengths in the tweets\n",
    "twt['Text'].str.len().describe()\n",
    "# save the 25% quartile to a variable\n",
    "q25 = twt['Text'].str.len().quantile(0.25)\n",
    "# drop tweets that are shorter than the 25% quartile\n",
    "twt = twt[twt['Text'].str.len() > q25]\n",
    "twt.info()"
   ]
  },
  {
   "cell_type": "code",
   "execution_count": 81,
   "metadata": {},
   "outputs": [
    {
     "data": {
      "text/plain": [
       "count    809388.000000\n",
       "mean        158.366908\n",
       "std          63.413452\n",
       "min          75.000000\n",
       "25%         107.000000\n",
       "50%         136.000000\n",
       "75%         209.000000\n",
       "max         955.000000\n",
       "Name: Text, dtype: float64"
      ]
     },
     "execution_count": 81,
     "metadata": {},
     "output_type": "execute_result"
    }
   ],
   "source": [
    "twt['Text'].str.len().describe()"
   ]
  },
  {
   "cell_type": "code",
   "execution_count": 82,
   "metadata": {},
   "outputs": [
    {
     "data": {
      "text/plain": [
       "0    563959\n",
       "1    245429\n",
       "Name: Scam, dtype: int64"
      ]
     },
     "execution_count": 82,
     "metadata": {},
     "output_type": "execute_result"
    }
   ],
   "source": [
    "# check number of uniques in the scam column\n",
    "twt['Scam'].value_counts()"
   ]
  },
  {
   "cell_type": "code",
   "execution_count": 83,
   "metadata": {},
   "outputs": [],
   "source": [
    "# randomise the data\n",
    "twt = twt.sample(frac = 1, random_state = 42)"
   ]
  },
  {
   "cell_type": "code",
   "execution_count": 84,
   "metadata": {},
   "outputs": [],
   "source": [
    "twt_train = twt.sample(frac = 0.8, random_state = 0)\n",
    "twt_test = twt.drop(twt_train.index)"
   ]
  },
  {
   "cell_type": "code",
   "execution_count": 85,
   "metadata": {},
   "outputs": [
    {
     "name": "stdout",
     "output_type": "stream",
     "text": [
      "<class 'pandas.core.frame.DataFrame'>\n",
      "Int64Index: 647510 entries, 420015 to 624079\n",
      "Data columns (total 2 columns):\n",
      " #   Column  Non-Null Count   Dtype \n",
      "---  ------  --------------   ----- \n",
      " 0   Text    647510 non-null  object\n",
      " 1   Scam    647510 non-null  int64 \n",
      "dtypes: int64(1), object(1)\n",
      "memory usage: 14.8+ MB\n"
     ]
    }
   ],
   "source": [
    "twt_train.info()"
   ]
  },
  {
   "cell_type": "code",
   "execution_count": 86,
   "metadata": {},
   "outputs": [
    {
     "name": "stdout",
     "output_type": "stream",
     "text": [
      "<class 'pandas.core.frame.DataFrame'>\n",
      "Int64Index: 161878 entries, 797604 to 191720\n",
      "Data columns (total 2 columns):\n",
      " #   Column  Non-Null Count   Dtype \n",
      "---  ------  --------------   ----- \n",
      " 0   Text    161878 non-null  object\n",
      " 1   Scam    161878 non-null  int64 \n",
      "dtypes: int64(1), object(1)\n",
      "memory usage: 3.7+ MB\n"
     ]
    }
   ],
   "source": [
    "twt_test.info()"
   ]
  },
  {
   "cell_type": "code",
   "execution_count": 87,
   "metadata": {},
   "outputs": [],
   "source": [
    "# character vectorisation layer\n",
    "char_vectorizer = keras.layers.experimental.preprocessing.TextVectorization(\n",
    "    max_tokens = 250,\n",
    "    output_mode = 'int',\n",
    "    output_sequence_length = 250,\n",
    "    ngrams = 2\n",
    ")\n",
    "\n",
    "# fit the vectoriser to the training data\n",
    "char_vectorizer.adapt(twt_train['Text'].to_numpy())"
   ]
  },
  {
   "cell_type": "code",
   "execution_count": 88,
   "metadata": {},
   "outputs": [],
   "source": [
    "# word vectorisation layer\n",
    "word_vectorizer = keras.layers.experimental.preprocessing.TextVectorization(\n",
    "    max_tokens = 1000,\n",
    "    output_mode = 'int',\n",
    "    output_sequence_length = 1000)\n",
    "\n",
    "# fit the vectoriser to the training data\n",
    "word_vectorizer.adapt(twt_train['Text'].to_numpy())"
   ]
  },
  {
   "cell_type": "code",
   "execution_count": 93,
   "metadata": {},
   "outputs": [],
   "source": [
    "# create char model\n",
    "char_model = keras.Sequential([\n",
    "    char_vectorizer,\n",
    "    keras.layers.Embedding(input_dim = 250, output_dim = 64, mask_zero = True),\n",
    "    keras.layers.Bidirectional(keras.layers.LSTM(64)),\n",
    "    keras.layers.Dense(1, activation = 'relu')])\n",
    "\n",
    "# compile the model\n",
    "char_model.compile(loss = keras.losses.BinaryCrossentropy(from_logits = True),\n",
    "                     optimizer = keras.optimizers.Adam(1e-4),\n",
    "                        metrics = ['accuracy'])"
   ]
  },
  {
   "cell_type": "code",
   "execution_count": null,
   "metadata": {},
   "outputs": [],
   "source": [
    "# fit the model\n",
    "char_model.fit(twt_train['Text'].to_numpy(), twt_train['Scam'].to_numpy(), epochs = 3)"
   ]
  },
  {
   "cell_type": "code",
   "execution_count": null,
   "metadata": {},
   "outputs": [],
   "source": [
    "# plot the training history\n",
    "pd.DataFrame(char_model.history.history).plot()\n",
    "\n",
    "# evaluate the model\n",
    "char_model.evaluate(twt_test['Text'].to_numpy(), twt_test['Scam'].to_numpy())"
   ]
  }
 ],
 "metadata": {
  "kernelspec": {
   "display_name": "tf",
   "language": "python",
   "name": "python3"
  },
  "language_info": {
   "codemirror_mode": {
    "name": "ipython",
    "version": 3
   },
   "file_extension": ".py",
   "mimetype": "text/x-python",
   "name": "python",
   "nbconvert_exporter": "python",
   "pygments_lexer": "ipython3",
   "version": "3.10.9"
  },
  "orig_nbformat": 4,
  "vscode": {
   "interpreter": {
    "hash": "67aeebd1d8a05e5803e485553c6cf9142f5326752e105db805a19e33b6ba0c95"
   }
  }
 },
 "nbformat": 4,
 "nbformat_minor": 2
}
