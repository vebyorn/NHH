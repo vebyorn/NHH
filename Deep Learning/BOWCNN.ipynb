{
 "cells": [
  {
   "attachments": {},
   "cell_type": "markdown",
   "metadata": {},
   "source": [
    "##### Packages"
   ]
  },
  {
   "cell_type": "code",
   "execution_count": 62,
   "metadata": {},
   "outputs": [],
   "source": [
    "import numpy as np\n",
    "import pandas as pd\n",
    "import tensorflow as tf\n",
    "from tensorflow.keras import layers, Model\n",
    "from tensorflow.keras.activations import gelu\n",
    "from tensorflow.keras.callbacks import EarlyStopping\n",
    "from tensorflow.keras.optimizers import Adam\n",
    "import matplotlib.pyplot as plt\n",
    "from sklearn.feature_extraction.text import CountVectorizer\n",
    "from sklearn.model_selection import train_test_split\n",
    "import re\n",
    "import emoji"
   ]
  },
  {
   "attachments": {},
   "cell_type": "markdown",
   "metadata": {},
   "source": [
    "## Data Processing"
   ]
  },
  {
   "attachments": {},
   "cell_type": "markdown",
   "metadata": {},
   "source": [
    "##### Loading and Inspecting"
   ]
  },
  {
   "cell_type": "code",
   "execution_count": 23,
   "metadata": {},
   "outputs": [
    {
     "data": {
      "text/html": [
       "<div>\n",
       "<style scoped>\n",
       "    .dataframe tbody tr th:only-of-type {\n",
       "        vertical-align: middle;\n",
       "    }\n",
       "\n",
       "    .dataframe tbody tr th {\n",
       "        vertical-align: top;\n",
       "    }\n",
       "\n",
       "    .dataframe thead th {\n",
       "        text-align: right;\n",
       "    }\n",
       "</style>\n",
       "<table border=\"1\" class=\"dataframe\">\n",
       "  <thead>\n",
       "    <tr style=\"text-align: right;\">\n",
       "      <th></th>\n",
       "      <th>Unnamed: 0</th>\n",
       "      <th>Project</th>\n",
       "      <th>Text</th>\n",
       "      <th>Scam</th>\n",
       "      <th>Text_Encoded_Word</th>\n",
       "      <th>Text_Encoded_Character</th>\n",
       "    </tr>\n",
       "  </thead>\n",
       "  <tbody>\n",
       "    <tr>\n",
       "      <th>231948</th>\n",
       "      <td>231948</td>\n",
       "      <td>gnosis</td>\n",
       "      <td>another hidden gem the # chain. the #giveconom...</td>\n",
       "      <td>0</td>\n",
       "      <td>[525773, 240202, 827312, 3780, 845896, 1110887...</td>\n",
       "      <td>[292, 218, 151, 243, 42, 86, 274, 0, 42, 260, ...</td>\n",
       "    </tr>\n",
       "    <tr>\n",
       "      <th>82983</th>\n",
       "      <td>82983</td>\n",
       "      <td>oyster pearl</td>\n",
       "      <td>have you picked the #prismaticpearl multistick...</td>\n",
       "      <td>1</td>\n",
       "      <td>[453004, 376150, 931201, 3780, 1010093, 422765...</td>\n",
       "      <td>[42, 292, 21, 86, 0, 57, 151, 173, 0, 266, 260...</td>\n",
       "    </tr>\n",
       "    <tr>\n",
       "      <th>203685</th>\n",
       "      <td>203685</td>\n",
       "      <td>enjin coin</td>\n",
       "      <td>explained spectrocoin blog crypto crypto news...</td>\n",
       "      <td>0</td>\n",
       "      <td>[932886, 734371, 378366, 924746, 924746, 57098...</td>\n",
       "      <td>[0, 86, 203, 266, 244, 292, 260, 218, 86, 277,...</td>\n",
       "    </tr>\n",
       "    <tr>\n",
       "      <th>311703</th>\n",
       "      <td>311703</td>\n",
       "      <td>quant</td>\n",
       "      <td>@newsqnt @gverdian it’s inevitable that are he...</td>\n",
       "      <td>0</td>\n",
       "      <td>[876382, 1167917, 320018, 1032666, 877416, 175...</td>\n",
       "      <td>[107, 218, 86, 208, 62, 70, 218, 243, 0, 107, ...</td>\n",
       "    </tr>\n",
       "    <tr>\n",
       "      <th>149422</th>\n",
       "      <td>149422</td>\n",
       "      <td>celo</td>\n",
       "      <td>criptomonedas perdedoras: $xym symbol -11,05% ...</td>\n",
       "      <td>0</td>\n",
       "      <td>[497368, 437153, 1148255, 118178, 1286925, 550...</td>\n",
       "      <td>[153, 274, 260, 266, 243, 151, 124, 151, 218, ...</td>\n",
       "    </tr>\n",
       "  </tbody>\n",
       "</table>\n",
       "</div>"
      ],
      "text/plain": [
       "        Unnamed: 0       Project  \\\n",
       "231948      231948        gnosis   \n",
       "82983        82983  oyster pearl   \n",
       "203685      203685    enjin coin   \n",
       "311703      311703         quant   \n",
       "149422      149422          celo   \n",
       "\n",
       "                                                     Text  Scam  \\\n",
       "231948  another hidden gem the # chain. the #giveconom...     0   \n",
       "82983   have you picked the #prismaticpearl multistick...     1   \n",
       "203685   explained spectrocoin blog crypto crypto news...     0   \n",
       "311703  @newsqnt @gverdian it’s inevitable that are he...     0   \n",
       "149422  criptomonedas perdedoras: $xym symbol -11,05% ...     0   \n",
       "\n",
       "                                        Text_Encoded_Word  \\\n",
       "231948  [525773, 240202, 827312, 3780, 845896, 1110887...   \n",
       "82983   [453004, 376150, 931201, 3780, 1010093, 422765...   \n",
       "203685  [932886, 734371, 378366, 924746, 924746, 57098...   \n",
       "311703  [876382, 1167917, 320018, 1032666, 877416, 175...   \n",
       "149422  [497368, 437153, 1148255, 118178, 1286925, 550...   \n",
       "\n",
       "                                   Text_Encoded_Character  \n",
       "231948  [292, 218, 151, 243, 42, 86, 274, 0, 42, 260, ...  \n",
       "82983   [42, 292, 21, 86, 0, 57, 151, 173, 0, 266, 260...  \n",
       "203685  [0, 86, 203, 266, 244, 292, 260, 218, 86, 277,...  \n",
       "311703  [107, 218, 86, 208, 62, 70, 218, 243, 0, 107, ...  \n",
       "149422  [153, 274, 260, 266, 243, 151, 124, 151, 218, ...  "
      ]
     },
     "execution_count": 23,
     "metadata": {},
     "output_type": "execute_result"
    }
   ],
   "source": [
    "data = pd.read_csv(\"C:/Users/vebky/FIE458/termpaper/Cleaned_Data.csv\").dropna(subset=['Text'])\n",
    "\n",
    "# Sampling\n",
    "sample_fraction = 0.1\n",
    "data = data.sample(frac=sample_fraction, random_state=1)\n",
    "data.head()"
   ]
  },
  {
   "cell_type": "code",
   "execution_count": 24,
   "metadata": {},
   "outputs": [
    {
     "data": {
      "text/plain": [
       "(40809, 6)"
      ]
     },
     "execution_count": 24,
     "metadata": {},
     "output_type": "execute_result"
    }
   ],
   "source": [
    "data.shape"
   ]
  },
  {
   "cell_type": "code",
   "execution_count": 25,
   "metadata": {},
   "outputs": [
    {
     "data": {
      "text/plain": [
       "array([\"another hidden gem the # chain. the #giveconomy here! excited part the future giving with $giv &amp; @givethio #blockchain4good #defi4good #givethlove #givdrop https://t.co/zx9awxmyuy @sweettr33994 @scaraarchive they are gods, they have  and can use them, cant know scaramouche could use @petitenicoco that woman actual doctor, huh? guys, i'm going start dipping into the vatican archives how become exorcist. i'm realizing now the catholics obviously had that thing for reason.\",\n",
       "       'have you picked the #prismaticpearl multisticks from @bitebeauty? what the h*ck are you waiting for? let give you reasons why you need add  your collection: #cleanbeauty #foodgrade #makeuplover #bitebeauty #oysterpearl https://t.co/eqrvwajmso @robb0226 rob,the snapshot was done last april 13th and distribution oyster shell (shl) all  (prl) users kucoin will the following weeks. just wait for further announcement. thank you @greenwood_troy @richy_clare @btc @eth @zeepinchain @gala @kcs troy, apologize. the snapshot was done last april 13th and distribution oyster shell (shl) all  (prl) users kucoin will the following weeks.',\n",
       "       ' explained spectrocoin blog crypto crypto news https://t.co/yjadrc8dtj https://t.co/wyko6gm26l  1-week social activity: galaxy score™ 68.5 out 100 altrank™ out 3252 11,016 social mentions 20,111,958 social engagements 107 social contributors 0.07% social dominance 2,584 shared links https://t.co/gmwfx5mo9b $enj #enjincoin #lunarshare  the moooooonnn!',\n",
       "       '@newsqnt @gverdian it’s inevitable that are headed there much faster than most people think and there’s nobody better placed solve how will all work #gilbertknows and that’s why the world needs $qnt  network https://t.co/xezvgwwp87 @layahheilpern you have had great year, you should very proud, cap off and buy some qnt @peterschiff @cnbc recommend check on- chain data glassnode crypto  specifically the indicator long term short term holder profit you can actually use specific data back your statements are properly informed thanks.',\n",
       "       'criptomonedas perdedoras: $xym symbol -11,05% (usd $0,4) $stx stacks -9,51% (usd $2,03) $  -9,45% (usd $5,25) $flow flow -8,46% (usd $13,18) $rune thorchain -8,03% (usd $10,35) https://t.co/hsix58bgzc 👎top losers the last hour👎 $amp $0.06784 -5.02761025% $egld $498.62310 -2.84476106% $crv $4.78707 -1.04807207% $atom $31.49714 -0.83221978% $ $5.27005 -0.79607005% trade #crypto binance https://t.co/shiuihprac launch the first rug-proof defi launchpad # network ($) assists projects crowdsourcing funds through the use advanced token pooling and distribution mechanisms. (tag friends) #nft #metaverse # #launch #launchpad https://t.co/mc1jmido1z'],\n",
       "      dtype=object)"
      ]
     },
     "execution_count": 25,
     "metadata": {},
     "output_type": "execute_result"
    }
   ],
   "source": [
    "# Preprocessing text\n",
    "text = data['Text'].values\n",
    "text[:5]"
   ]
  },
  {
   "attachments": {},
   "cell_type": "markdown",
   "metadata": {},
   "source": [
    "##### Formatting"
   ]
  },
  {
   "cell_type": "code",
   "execution_count": 26,
   "metadata": {},
   "outputs": [],
   "source": [
    "# font to lowercase\n",
    "text = [x.lower() for x in text]\n",
    "\n",
    "# removing URLs from vocabulary\n",
    "text = [re.sub(r'http\\S+', '{URL}', x) for x in text]\n",
    "\n",
    "# removing @mentions from vocabulary\n",
    "text = [re.sub(r'@\\S+', '', x) for x in text]\n",
    "\n",
    "# filter out numbers\n",
    "text = [re.sub(r'[0-9]+', '', x) for x in text]\n",
    "\n",
    "# converting emojis to text\n",
    "text = [emoji.demojize(x) for x in text]"
   ]
  },
  {
   "cell_type": "code",
   "execution_count": 27,
   "metadata": {},
   "outputs": [
    {
     "data": {
      "text/plain": [
       "[\"another hidden gem the # chain. the #giveconomy here! excited part the future giving with $giv &amp;  #blockchaingood #defigood #givethlove #givdrop {URL}   they are gods, they have  and can use them, cant know scaramouche could use  that woman actual doctor, huh? guys, i'm going start dipping into the vatican archives how become exorcist. i'm realizing now the catholics obviously had that thing for reason.\",\n",
       " 'have you picked the #prismaticpearl multisticks from  what the h*ck are you waiting for? let give you reasons why you need add  your collection: #cleanbeauty #foodgrade #makeuplover #bitebeauty #oysterpearl {URL}  rob,the snapshot was done last april th and distribution oyster shell (shl) all  (prl) users kucoin will the following weeks. just wait for further announcement. thank you        troy, apologize. the snapshot was done last april th and distribution oyster shell (shl) all  (prl) users kucoin will the following weeks.',\n",
       " ' explained spectrocoin blog crypto crypto news {URL} {URL}  -week social activity: galaxy score:trade_mark: . out  altrank:trade_mark: out  , social mentions ,, social engagements  social contributors .% social dominance , shared links {URL} $enj #enjincoin #lunarshare  the moooooonnn!',\n",
       " '  it’s inevitable that are headed there much faster than most people think and there’s nobody better placed solve how will all work #gilbertknows and that’s why the world needs $qnt  network {URL}  you have had great year, you should very proud, cap off and buy some qnt   recommend check on- chain data glassnode crypto  specifically the indicator long term short term holder profit you can actually use specific data back your statements are properly informed thanks.',\n",
       " 'criptomonedas perdedoras: $xym symbol -,% (usd $,) $stx stacks -,% (usd $,) $  -,% (usd $,) $flow flow -,% (usd $,) $rune thorchain -,% (usd $,) {URL} :thumbs_down:top losers the last hour:thumbs_down: $amp $. -.% $egld $. -.% $crv $. -.% $atom $. -.% $ $. -.% trade #crypto binance {URL} launch the first rug-proof defi launchpad # network ($) assists projects crowdsourcing funds through the use advanced token pooling and distribution mechanisms. (tag friends) #nft #metaverse # #launch #launchpad {URL}']"
      ]
     },
     "execution_count": 27,
     "metadata": {},
     "output_type": "execute_result"
    }
   ],
   "source": [
    "# inspecting text after preprocessing\n",
    "text[:5]"
   ]
  },
  {
   "cell_type": "code",
   "execution_count": 28,
   "metadata": {},
   "outputs": [],
   "source": [
    "# Creating vocabulary\n",
    "vectorizer = CountVectorizer(max_features = 1000, stop_words='english')\n",
    "X = vectorizer.fit_transform(text)"
   ]
  },
  {
   "cell_type": "code",
   "execution_count": 29,
   "metadata": {},
   "outputs": [
    {
     "data": {
      "text/plain": [
       "dict_items([('chain', 132), ('excited', 277), ('future', 326), ('giving', 342), ('amp', 30), ('url', 911), ('use', 915), ('know', 451), ('guys', 368), ('going', 348), ('start', 812), ('thing', 861), ('reason', 695), ('waiting', 939), ('let', 472), ('need', 571), ('add', 11), ('collection', 160), ('th', 856), ('users', 918), ('following', 308), ('weeks', 958), ('just', 444), ('wait', 938), ('thank', 857), ('blog', 90), ('crypto', 190), ('news', 578), ('week', 957), ('social', 792), ('activity', 8), ('galaxy', 331), ('score', 746), ('trade_mark', 882), ('altrank', 27), ('mentions', 539), ('engagements', 255), ('contributors', 175), ('dominance', 236), ('shared', 766), ('links', 484), ('enj', 256), ('lunarshare', 517), ('people', 624), ('think', 863), ('better', 74), ('work', 972), ('world', 975), ('needs', 573), ('qnt', 679), ('network', 576), ('great', 356), ('year', 987), ('cap', 122), ('buy', 116), ('check', 141), ('data', 204), ('long', 497), ('term', 850), ('short', 774), ('profit', 667), ('actually', 9), ('thanks', 858), ('symbol', 839), ('usd', 912), ('stx', 827), ('flow', 305), ('rune', 728), ('losers', 502), ('hour', 404), ('egld', 250), ('crv', 189), ('atom', 46), ('trade', 881), ('binance', 79), ('launch', 462), ('proof', 672), ('defi', 214), ('launchpad', 466), ('projects', 671), ('funds', 325), ('token', 874), ('tag', 840), ('friends', 316), ('nft', 579), ('metaverse', 541), ('far', 289), ('listing', 489), ('new', 577), ('big', 75), ('shiba', 769), ('shibainu', 770), ('cardano', 124), ('group', 359), ('foundation', 312), ('decentralized', 213), ('shopping', 773), ('ecosystem', 249), ('participate', 613), ('airdrop', 19), ('earn', 246), ('tokens', 875), ('ico', 414), ('bitcoin', 82), ('cryptocurrency', 193), ('ve', 923), ('really', 694), ('good', 352), ('opportunity', 605), ('dont', 238), ('forget', 309), ('bad', 63), ('services', 763), ('soon', 797), ('cash', 128), ('nfts', 585), ('wow', 978), ('change', 135), ('sold', 795), ('minutes', 551), ('sorry', 798), ('hear', 384), ('update', 908), ('coming', 164), ('price', 659), ('mana', 524), ('dogecoin', 232), ('eos', 261), ('analysis', 31), ('december', 212), ('day', 206), ('like', 479), ('building', 108), ('experience', 279), ('ll', 494), ('tweet', 898), ('loudly_crying_face', 506), ('mean', 534), ('tell', 849), ('agree', 16), ('said', 732), ('days', 207), ('believe', 72), ('assets', 44), ('question', 680), ('choice', 143), ('create', 185), ('liquidity', 485), ('transferred', 888), ('hey', 389), ('join', 442), ('bought', 95), ('sol', 793), ('using', 919), ('set', 764), ('little', 492), ('red', 700), ('blue', 92), ('grow', 360), ('rocket', 725), ('gonna', 351), ('break', 96), ('holders', 398), ('got', 353), ('floor', 304), ('face_with_tears_of_joy', 282), ('stay', 816), ('game', 332), ('makes', 521), ('month', 559), ('usdt', 914), ('lunarcrush', 516), ('telegram', 848), ('come', 162), ('hot', 403), ('best', 73), ('platform', 633), ('feel', 294), ('free', 314), ('ask', 42), ('feeling', 295), ('super', 831), ('market', 525), ('dex', 218), ('look', 498), ('rise', 722), ('𝐁𝐓𝐂', 996), ('𝐓𝐑𝐘', 999), ('𝐄𝐗𝐂𝐇𝐀𝐍𝐆𝐄', 997), ('𝐑𝐀𝐓𝐄𝐒', 998), ('btcturk', 103), ('try', 895), ('paribu', 612), ('koinim', 453), ('vebitcoin', 924), ('powered', 654), ('christmas', 145), ('futures', 327), ('xrp', 984), ('green_circle', 358), ('dot', 239), ('uni', 902), ('link', 483), ('bch', 68), ('bro', 99), ('comes', 163), ('gains', 330), ('ada', 10), ('lol', 496), ('bank', 65), ('grt', 363), ('project', 670), ('didn', 220), ('sell', 755), ('players', 635), ('eth', 266), ('holding', 399), ('btc', 102), ('buying', 117), ('coin', 156), ('available', 50), ('coinbase', 157), ('shows', 777), ('want', 943), ('power', 653), ('web', 955), ('thread', 868), ('algo', 22), ('supply', 832), ('wave', 951), ('heart', 386), ('sale', 733), ('started', 813), ('lot', 505), ('investment', 435), ('income', 423), ('house', 406), ('added', 12), ('video', 930), ('plan', 631), ('financial', 301), ('issue', 438), ('warning', 946), ('potential', 652), ('recent', 697), ('hbar', 382), ('used', 916), ('happened', 375), ('rising', 723), ('way', 953), ('doesn', 229), ('did', 219), ('say', 741), ('yes', 990), ('season', 747), ('mint', 549), ('probably', 663), ('isn', 437), ('nice', 586), ('stop', 820), ('literally', 491), ('spot', 805), ('gmt', 345), ('total', 880), ('trading', 884), ('volume', 934), ('net', 575), ('hrs', 408), ('cryptocapflow', 191), ('current', 198), ('hr', 407), ('dip', 225), ('blockchain', 89), ('value', 922), ('important', 421), ('adoption', 14), ('smart', 788), ('contracts', 174), ('wbtc', 954), ('saying', 742), ('told', 876), ('aren', 38), ('right', 720), ('fact', 284), ('site', 785), ('says', 743), ('numbers', 592), ('cases', 127), ('open', 602), ('altcoins', 26), ('hodl', 396), ('beautiful', 70), ('amazing', 29), ('ethereum', 268), ('things', 862), ('small', 787), ('dollar', 234), ('time', 871), ('miss', 552), ('snx', 791), ('build', 107), ('money', 557), ('check_mark_button', 142), ('min', 545), ('plans', 632), ('payment', 621), ('man', 523), ('sense', 758), ('merry', 540), ('retweet', 714), ('team', 845), ('hashgraph', 378), ('investors', 436), ('make', 520), ('zero', 994), ('twitter', 899), ('selling', 756), ('mining', 548), ('gets', 337), ('getting', 338), ('working', 973), ('early', 245), ('crazy', 184), ('lost', 504), ('case', 126), ('drop', 241), ('possible', 648), ('strength', 824), ('swing', 838), ('weighted', 959), ('unweighted', 906), ('daytrade', 208), ('life', 476), ('dash', 203), ('cryptonews', 194), ('related', 704), ('cryptocurrencies', 192), ('finance', 300), ('icp', 415), ('article', 41), ('latest', 461), ('art', 40), ('backhand_index_pointing_down', 61), ('nftart', 580), ('today', 873), ('end', 253), ('solution', 796), ('order', 607), ('original', 608), ('hard', 377), ('key', 446), ('win', 966), ('okay', 596), ('fun', 323), ('love', 507), ('learn', 468), ('does', 228), ('private', 662), ('store', 822), ('community', 165), ('moment', 555), ('seeing', 752), ('business', 115), ('example', 273), ('doge', 231), ('worth', 976), ('past', 618), ('piece', 629), ('talk', 842), ('coins', 158), ('whale', 962), ('shib', 768), ('million', 544), ('family', 287), ('awesome', 56), ('dyor', 244), ('program', 669), ('voting', 936), ('vote', 935), ('hello', 387), ('cosmos', 178), ('near', 570), ('launched', 463), ('reward', 716), ('fuck', 320), ('release', 705), ('exchange', 275), ('exactly', 272), ('till', 870), ('option', 606), ('discord', 227), ('lt', 511), ('gt', 365), ('ok_hand', 595), ('position', 646), ('clapping_hands', 149), ('entry', 260), ('follow', 307), ('profile', 666), ('xmr', 983), ('theta', 860), ('rank', 683), ('low', 508), ('high', 390), ('average', 53), ('happy', 376), ('hope', 401), ('cool', 177), ('ido', 418), ('whitelist', 965), ('pretty', 657), ('wish', 968), ('bsc', 100), ('rate', 685), ('company', 166), ('based', 66), ('help', 388), ('digital', 223), ('government', 355), ('biggest', 77), ('pay', 620), ('attention', 48), ('layer', 467), ('works', 974), ('verifying', 926), ('address', 13), ('bleep', 87), ('blorp', 91), ('automatically', 49), ('sure', 834), ('human', 411), ('mistake', 554), ('email', 252), ('faucet', 291), ('paste', 619), ('character', 136), ('wallet', 940), ('hate', 379), ('guy', 367), ('person', 628), ('wanna', 942), ('tho', 865), ('rolling_on_the_floor_laughing', 726), ('requesting', 709), ('request', 708), ('id', 416), ('privacy', 661), ('chz', 146), ('thumbs_up', 869), ('safemoon', 731), ('alpha', 24), ('busd', 114), ('city', 147), ('bnb', 93), ('dec', 211), ('utc', 920), ('giveaway', 340), ('club', 154), ('reach', 689), ('gotta', 354), ('ether', 267), ('litecoin', 490), ('bitcoincash', 83), ('wrong', 979), ('hands', 373), ('absolutely', 2), ('baby', 59), ('elon', 251), ('vtc', 937), ('vertcoin', 928), ('trend', 889), ('hit', 394), ('exchanges', 276), ('bter', 104), ('omg', 598), ('running', 729), ('hopefully', 402), ('showing', 776), ('old', 597), ('scam', 744), ('taking', 841), ('shit', 771), ('state', 815), ('god', 346), ('control', 176), ('fiat', 297), ('sound', 799), ('turn', 897), ('means', 535), ('announced', 32), ('happen', 374), ('purchase', 677), ('times', 872), ('playing', 636), ('report', 707), ('lets', 473), ('play', 634), ('post', 649), ('send', 757), ('fees', 296), ('gold', 349), ('red_heart', 701), ('satoshi', 738), ('tonight', 878), ('ape', 34), ('green', 357), ('choose', 144), ('cause', 129), ('simple', 782), ('view', 931), ('real', 693), ('metrics', 542), ('ftm', 317), ('matic', 530), ('polygon', 642), ('klay', 450), ('easy', 248), ('access', 4), ('shortly', 775), ('took', 879), ('account', 6), ('having', 381), ('pm', 638), ('chat', 139), ('dao', 202), ('bullish', 111), ('action', 7), ('levels', 475), ('st', 806), ('special', 804), ('nftcollectors', 583), ('prices', 660), ('stellar', 817), ('tron', 891), ('goes', 347), ('huge', 410), ('starting', 814), ('ltc', 512), ('haven', 380), ('solana', 794), ('doing', 233), ('home', 400), ('covid', 183), ('instead', 427), ('money_bag', 558), ('zec', 993), ('unknown', 905), ('date', 205), ('usdc', 913), ('sec', 748), ('left', 470), ('ready', 692), ('run', 727), ('don', 237), ('gift', 339), ('thinking', 864), ('tomorrow', 877), ('years', 988), ('watch', 948), ('understand', 901), ('point', 639), ('accept', 3), ('support', 833), ('land', 455), ('built', 109), ('true', 892), ('alert', 21), ('ponzi', 643), ('ar', 37), ('content', 171), ('line', 482), ('yesterday', 991), ('excellent', 274), ('fan', 288), ('glad', 343), ('army', 39), ('daily', 200), ('hours', 405), ('moved', 563), ('ago', 15), ('talking', 843), ('close', 153), ('listen', 488), ('wouldn', 977), ('fast', 290), ('cheap', 140), ('quick', 681), ('ksm', 454), ('space', 802), ('trending', 890), ('inu', 432), ('damn', 201), ('heard', 385), ('seen', 753), ('making', 522), ('trust', 893), ('xec', 980), ('payments', 622), ('music', 566), ('transaction', 885), ('wallets', 941), ('read', 691), ('massive', 529), ('bull', 110), ('bat', 67), ('currently', 199), ('prediction', 656), ('sentiment', 760), ('global', 344), ('double', 240), ('definitely', 215), ('nftcommunity', 584), ('tez', 855), ('cleannft', 150), ('burn', 113), ('currency', 197), ('came', 121), ('saw', 740), ('save', 739), ('hold', 397), ('moon', 561), ('tech', 846), ('altcoin', 25), ('job', 441), ('wanted', 944), ('lmao', 495), ('utility', 921), ('protocol', 673), ('pool', 644), ('user', 917), ('miner', 547), ('nftcollector', 582), ('nftartist', 581), ('dropped', 242), ('fork', 310), ('avax', 52), ('increase', 424), ('knows', 452), ('called', 120), ('live', 493), ('high_voltage', 391), ('estate', 265), ('asset', 43), ('stake', 809), ('favorite', 292), ('cro', 187), ('congrats', 169), ('different', 222), ('chains', 133), ('remember', 706), ('hand', 372), ('including', 422), ('chance', 134), ('fee', 293), ('bridge', 97), ('january', 440), ('target', 844), ('success', 828), ('pump', 676), ('dump', 243), ('moving', 564), ('forward', 311), ('story', 823), ('investing', 434), ('problem', 664), ('dollars', 235), ('easily', 247), ('listed', 487), ('thats', 859), ('idea', 417), ('xlm', 982), ('light', 477), ('official', 594), ('stablecoin', 808), ('enjoy', 257), ('safe', 730), ('competition', 167), ('share', 765), ('est', 264), ('expect', 278), ('internetcomputer', 431), ('signals', 779), ('watching', 949), ('major', 519), ('terra', 851), ('luna', 515), ('gst', 364), ('police_car_light', 640), ('hype', 413), ('sand', 735), ('axs', 58), ('ripple', 721), ('eyes', 280), ('kind', 448), ('transactions', 886), ('allow', 23), ('launching', 465), ('later', 459), ('large', 456), ('water', 950), ('lrc', 510), ('alts', 28), ('click', 152), ('info', 425), ('updated', 909), ('strong', 825), ('previous', 658), ('night', 587), ('looking', 499), ('marketing', 526), ('bring', 98), ('guess', 366), ('block', 88), ('rewards', 717), ('gain', 328), ('public', 675), ('head', 383), ('second', 749), ('largest', 457), ('issues', 439), ('deal', 210), ('provide', 674), ('meme', 538), ('black', 86), ('sparkles', 803), ('party_popper', 616), ('snowflake', 790), ('ftt', 318), ('kcs', 445), ('gaming', 334), ('offer', 593), ('universe', 904), ('according', 5), ('xgem', 981), ('pads', 609), ('multiple', 565), ('couple', 181), ('able', 1), ('place', 630), ('source', 801), ('review', 715), ('marketplace', 527), ('fair', 285), ('smiling_face_with_heart', 789), ('gem_stone', 336), ('momentum', 556), ('maybe', 533), ('peak', 623), ('rdd', 688), ('cryptsy', 196), ('bittrex', 85), ('reddcoin', 702), ('hnt', 395), ('gas', 335), ('billion', 78), ('whales', 963), ('bulls', 112), ('neo', 574), ('waves', 952), ('lower', 509), ('thor', 866), ('morning', 562), ('vet', 929), ('vefam', 925), ('thought', 867), ('sent', 759), ('paid', 610), ('sharing', 767), ('won', 969), ('technology', 847), ('energy', 254), ('step', 818), ('updates', 910), ('app', 35), ('fake', 286), ('upcoming', 907), ('bsv', 101), ('dcr', 209), ('ahead', 17), ('sounds', 800), ('process', 665), ('test', 852), ('beginning', 71), ('opinion', 604), ('rd', 687), ('fil', 298), ('interested', 428), ('invest', 433), ('higher', 392), ('bit', 81), ('welcome', 960), ('potcoin', 651), ('bigger', 76), ('congratulations', 170), ('history', 393), ('face', 281), ('event', 270), ('media', 536), ('sandbox', 736), ('contract', 173), ('finally', 299), ('list', 486), ('zil', 995), ('gone', 350), ('bag', 64), ('ftx', 319), ('words', 971), ('apy', 36), ('development', 217), ('answer', 33), ('security', 751), ('perfect', 625), ('record', 699), ('sir', 784), ('likely', 480), ('luck', 513), ('country', 180), ('btg', 105), ('staking', 810), ('fucking', 321), ('silver', 780), ('games', 333), ('register', 703), ('haha', 370), ('facebook', 283), ('shop', 772), ('trx', 894), ('details', 216), ('node', 588), ('swap', 836), ('testnet', 853), ('half', 371), ('plus', 637), ('kids', 447), ('yeah', 986), ('imagine', 419), ('care', 125), ('folded_hands', 306), ('fintech', 303), ('hundred_points', 412), ('looks', 500), ('course', 182), ('card', 123), ('white', 964), ('mind', 546), ('word', 970), ('cost', 179), ('stable', 807), ('growth', 362), ('storage', 821), ('single', 783), ('chart', 137), ('needed', 572), ('online', 601), ('successful', 829), ('scan', 745), ('results', 712), ('perp', 627), ('stocks', 819), ('website', 956), ('number', 591), ('gainers', 329), ('markets', 528), ('ratio', 686), ('enter', 258), ('sushi', 835), ('aave', 0), ('cake', 119), ('service', 762), ('lateral', 460), ('tests', 854), ('polkadot', 641), ('xtz', 985), ('btt', 106), ('max', 532), ('bitstamp', 84), ('research', 710), ('cross', 188), ('return', 713), ('minted', 550), ('series', 761), ('main', 518), ('lose', 501), ('chart_increasing', 138), ('lucky', 514), ('entire', 259), ('omicron', 599), ('partnership', 614), ('collectible', 159), ('rarible', 684), ('nonfungible', 590), ('digitalasset', 224), ('limited', 481), ('unique', 903), ('secret', 750), ('profiting', 668), ('sign', 778), ('difference', 221), ('self', 754), ('friend', 315), ('risk', 724), ('opensea', 603), ('pre', 655), ('late', 458), ('party', 615), ('star', 811), ('fine', 302), ('joined', 443), ('cryptos', 195), ('leo', 471), ('purchased', 678), ('matter', 531), ('dog', 230), ('internet', 430), ('pot', 650), ('code', 155), ('rich', 718), ('pair', 611), ('transfer', 887), ('virtual', 932), ('backed', 60), ('months', 560), ('ath', 45), ('away', 55), ('level', 474), ('size', 786), ('ceo', 130), ('youtube', 992), ('musk', 567), ('avalanche', 51), ('axieinfinity', 57), ('ethereumclassic', 269), ('fully', 322), ('version', 927), ('trying', 896), ('created', 186), ('vol', 933), ('santa_coin', 737), ('binancechain', 80), ('c_z', 118), ('evergrow', 271), ('claim', 148), ('trades', 883), ('receive', 696), ('information', 426), ('ride', 719), ('positive', 647), ('collision', 161), ('air', 18), ('imo', 420), ('period', 626), ('boss', 94), ('swapped', 837), ('missed', 553), ('rest', 711), ('sun', 830), ('similar', 781), ('clear', 151), ('native', 568), ('non', 589), ('bearish', 69), ('winner', 967), ('backhand_index_pointing_right', 62), ('attack', 47), ('recently', 698), ('loss', 503), ('given', 341), ('wants', 945), ('airdrops', 20), ('launches', 464), ('founder', 313), ('members', 537), ('erc', 262), ('interesting', 429), ('growing', 361), ('partying_face', 617), ('king', 449), ('learning', 469), ('especially', 263), ('directly', 226), ('continue', 172), ('micropee', 543), ('reached', 690), ('nd', 569), ('type', 900), ('yellow_circle', 989), ('fund', 324), ('quite', 682), ('ones', 600), ('stuff', 826), ('avg', 54), ('wasn', 947), ('light_skin_tone', 478), ('went', 961), ('sales', 734), ('popular', 645), ('computer', 168), ('cex', 131), ('gwei', 369), ('ht', 409)])"
      ]
     },
     "execution_count": 29,
     "metadata": {},
     "output_type": "execute_result"
    }
   ],
   "source": [
    "# see words in vocabulary\n",
    "vocabulary = vectorizer.vocabulary_\n",
    "vocabulary.items()"
   ]
  },
  {
   "attachments": {},
   "cell_type": "markdown",
   "metadata": {},
   "source": [
    "##### Training and Validation Sets"
   ]
  },
  {
   "cell_type": "code",
   "execution_count": 30,
   "metadata": {},
   "outputs": [],
   "source": [
    "# designating classifications\n",
    "y = data['Scam'].values\n",
    "\n",
    "# creating randomly selected balanced training and validation sets\n",
    "X_train, X_val, y_train, y_val = train_test_split(X, y, test_size=0.2, random_state=1, stratify=y)"
   ]
  },
  {
   "cell_type": "code",
   "execution_count": 31,
   "metadata": {},
   "outputs": [
    {
     "name": "stdout",
     "output_type": "stream",
     "text": [
      "(32647, 1000)\n",
      "(8162, 1000)\n",
      "(32647,)\n",
      "(8162,)\n"
     ]
    }
   ],
   "source": [
    "# dimensions of training and validation sets\n",
    "print(X_train.shape)\n",
    "print(X_val.shape)\n",
    "print(y_train.shape)\n",
    "print(y_val.shape)"
   ]
  },
  {
   "cell_type": "code",
   "execution_count": 32,
   "metadata": {},
   "outputs": [],
   "source": [
    "# Convert the sparse matrices to dense arrays\n",
    "X_train_dense = X_train.toarray()\n",
    "X_val_dense = X_val.toarray()\n",
    "\n",
    "# Reshape the input data to have an additional dimension (channels)\n",
    "X_train_reshaped = np.expand_dims(X_train_dense, axis=-1)\n",
    "X_val_reshaped = np.expand_dims(X_val_dense, axis=-1)"
   ]
  },
  {
   "attachments": {},
   "cell_type": "markdown",
   "metadata": {},
   "source": [
    "## CNN Model"
   ]
  },
  {
   "attachments": {},
   "cell_type": "markdown",
   "metadata": {},
   "source": [
    "##### Model Architecture"
   ]
  },
  {
   "cell_type": "code",
   "execution_count": 64,
   "metadata": {},
   "outputs": [],
   "source": [
    "# Functional API\n",
    "# Input layer\n",
    "inputLayer = layers.Input(shape=(X_train_reshaped.shape[1], 1))\n",
    "\n",
    "# Convolutional layer\n",
    "conv1 = layers.Conv1D(128, 5, activation=gelu)(inputLayer)\n",
    "drop1 = layers.Dropout(0.01)(conv1)\n",
    "\n",
    "# MaxPooling layer\n",
    "max_pool = layers.MaxPooling1D()(drop1)\n",
    "\n",
    "# Dense Layer\n",
    "flatten = layers.Flatten()(max_pool)\n",
    "dense = layers.Dense(128, activation=gelu)(flatten)\n",
    "dense2 = layers.Dense(32, activation=gelu)(dense)\n",
    "\n",
    "# Output\n",
    "output = layers.Dense(1, activation=\"sigmoid\")(dense2)\n",
    "\n",
    "## Create the model\n",
    "model = Model(inputs=inputLayer, outputs=output)"
   ]
  },
  {
   "cell_type": "code",
   "execution_count": 65,
   "metadata": {},
   "outputs": [],
   "source": [
    "# Compile the model\n",
    "optimizer = Adam(learning_rate=0.001)\n",
    "early_stopping = EarlyStopping(monitor='val_loss', patience=1, verbose=1, mode='min', restore_best_weights=True)\n",
    "model.compile(loss='binary_crossentropy', optimizer=optimizer, metrics=['accuracy'])"
   ]
  },
  {
   "attachments": {},
   "cell_type": "markdown",
   "metadata": {},
   "source": [
    "##### Performance and Metrics"
   ]
  },
  {
   "cell_type": "code",
   "execution_count": 67,
   "metadata": {},
   "outputs": [
    {
     "name": "stdout",
     "output_type": "stream",
     "text": [
      "Epoch 1/5\n",
      "1021/1021 [==============================] - 150s 147ms/step - loss: 0.3065 - accuracy: 0.8678 - val_loss: 0.2834 - val_accuracy: 0.8761\n",
      "Epoch 2/5\n",
      "1021/1021 [==============================] - ETA: 0s - loss: 0.2426 - accuracy: 0.8943Restoring model weights from the end of the best epoch: 1.\n",
      "1021/1021 [==============================] - 160s 156ms/step - loss: 0.2426 - accuracy: 0.8943 - val_loss: 0.2846 - val_accuracy: 0.8738\n",
      "Epoch 2: early stopping\n"
     ]
    }
   ],
   "source": [
    "# Train the model\n",
    "history = model.fit(X_train_reshaped, y_train, epochs=5, validation_data=(X_val_reshaped, y_val), batch_size=32, callbacks=[early_stopping])"
   ]
  },
  {
   "cell_type": "code",
   "execution_count": 68,
   "metadata": {},
   "outputs": [
    {
     "name": "stdout",
     "output_type": "stream",
     "text": [
      "256/256 [==============================] - 7s 26ms/step - loss: 0.2834 - accuracy: 0.8761\n",
      "Validation loss: 0.2834297716617584, accuracy: 0.8761333227157593\n"
     ]
    }
   ],
   "source": [
    "# Evaluate the model\n",
    "loss, accuracy = model.evaluate(X_val_reshaped, y_val)\n",
    "print(f\"Validation loss: {loss}, accuracy: {accuracy}\")"
   ]
  },
  {
   "cell_type": "code",
   "execution_count": 69,
   "metadata": {},
   "outputs": [
    {
     "data": {
      "image/png": "[encoded data removed]",
      "text/plain": [
       "<Figure size 1200x600 with 1 Axes>"
      ]
     },
     "metadata": {},
     "output_type": "display_data"
    }
   ],
   "source": [
    "# Plot the accuracy and loss curves\n",
    "pd.DataFrame(history.history).plot(figsize=(12, 6))\n",
    "plt.grid(True)\n",
    "plt.gca().set_ylim(0, 1)\n",
    "plt.show()"
   ]
  },
  {
   "attachments": {},
   "cell_type": "markdown",
   "metadata": {},
   "source": [
    "## LOG"
   ]
  },
  {
   "attachments": {},
   "cell_type": "markdown",
   "metadata": {},
   "source": [
    "##### BOWCNN1: Sequential Convolutional Layers\n"
   ]
  },
  {
   "attachments": {},
   "cell_type": "markdown",
   "metadata": {},
   "source": [
    "Validation loss: 0.4347321093082428, accuracy: 0.8156089186668396"
   ]
  },
  {
   "cell_type": "code",
   "execution_count": 70,
   "metadata": {},
   "outputs": [],
   "source": [
    "## BOWCNN 1\n",
    "# Layers for the model\n",
    "model = tf.keras.Sequential([\n",
    "    layers.Conv1D(64, 5, activation='relu', input_shape=(X_train_reshaped.shape[1], 1)),\n",
    "    layers.MaxPooling1D(pool_size=4),\n",
    "    layers.Conv1D(32, 5, activation='relu'),\n",
    "    layers.GlobalMaxPooling1D(),\n",
    "    layers.Dense(16, activation='relu'),\n",
    "    layers.Dense(1, activation='sigmoid')\n",
    "])\n",
    "\n",
    "# Compile the model\n",
    "model.compile(loss='binary_crossentropy', optimizer='adam', metrics=['accuracy'])"
   ]
  },
  {
   "attachments": {},
   "cell_type": "markdown",
   "metadata": {},
   "source": [
    "##### BOWCNN2: Functional Convolutional Layers"
   ]
  },
  {
   "attachments": {},
   "cell_type": "markdown",
   "metadata": {},
   "source": [
    "Validation loss: 0.2834297716617584, accuracy: 0.8761333227157593"
   ]
  },
  {
   "cell_type": "code",
   "execution_count": 71,
   "metadata": {},
   "outputs": [],
   "source": [
    "# BOWCNN 2\n",
    "# Input layer\n",
    "inputLayer = layers.Input(shape=(X_train_reshaped.shape[1], 1))\n",
    "\n",
    "# Convolutional layer\n",
    "conv1 = layers.Conv1D(128, 5, activation=gelu)(inputLayer)\n",
    "drop1 = layers.Dropout(0.01)(conv1)\n",
    "\n",
    "# MaxPooling layer\n",
    "max_pool = layers.MaxPooling1D()(drop1)\n",
    "\n",
    "# Dense Layer\n",
    "flatten = layers.Flatten()(max_pool)\n",
    "dense = layers.Dense(128, activation=gelu)(flatten)\n",
    "dense2 = layers.Dense(32, activation=gelu)(dense)\n",
    "\n",
    "# Output\n",
    "output = layers.Dense(1, activation=\"sigmoid\")(dense2)\n",
    "\n",
    "## Create the model\n",
    "model = Model(inputs=inputLayer, outputs=output)\n",
    "\n",
    "# Compile the model\n",
    "optimizer = Adam(learning_rate=0.001)\n",
    "early_stopping = EarlyStopping(monitor='val_loss', patience=1, verbose=1, mode='min', restore_best_weights=True)\n",
    "model.compile(loss='binary_crossentropy', optimizer=optimizer, metrics=['accuracy'])"
   ]
  }
 ],
 "metadata": {
  "kernelspec": {
   "display_name": "tf",
   "language": "python",
   "name": "python3"
  },
  "language_info": {
   "codemirror_mode": {
    "name": "ipython",
    "version": 3
   },
   "file_extension": ".py",
   "mimetype": "text/x-python",
   "name": "python",
   "nbconvert_exporter": "python",
   "pygments_lexer": "ipython3",
   "version": "3.10.9"
  },
  "orig_nbformat": 4
 },
 "nbformat": 4,
 "nbformat_minor": 2
}
