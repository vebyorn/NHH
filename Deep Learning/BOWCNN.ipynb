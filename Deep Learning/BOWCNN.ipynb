{
 "cells": [
  {
   "attachments": {},
   "cell_type": "markdown",
   "metadata": {},
   "source": [
    "##### Packages"
   ]
  },
  {
   "cell_type": "code",
   "execution_count": 1,
   "metadata": {},
   "outputs": [
    {
     "name": "stderr",
     "output_type": "stream",
     "text": [
      "c:\\Users\\vebky\\anaconda3\\envs\\tf\\lib\\site-packages\\tensorflow_addons\\utils\\tfa_eol_msg.py:23: UserWarning: \n",
      "\n",
      "TensorFlow Addons (TFA) has ended development and introduction of new features.\n",
      "TFA has entered a minimal maintenance and release mode until a planned end of life in May 2024.\n",
      "Please modify downstream libraries to take dependencies from other repositories in our TensorFlow community (e.g. Keras, Keras-CV, and Keras-NLP). \n",
      "\n",
      "For more information see: https://github.com/tensorflow/addons/issues/2807 \n",
      "\n",
      "  warnings.warn(\n"
     ]
    }
   ],
   "source": [
    "import numpy as np\n",
    "import pandas as pd\n",
    "import tensorflow as tf\n",
    "import seaborn as sns\n",
    "from tensorflow.keras.utils import plot_model\n",
    "from plot_model import plot_model\n",
    "from tensorflow.keras import layers, Model\n",
    "from tensorflow.keras.activations import gelu\n",
    "from tensorflow.keras.callbacks import EarlyStopping, Callback\n",
    "from sklearn.feature_extraction.text import TfidfVectorizer\n",
    "import tensorflow_addons as tfa\n",
    "import matplotlib.pyplot as plt\n",
    "from sklearn.feature_extraction.text import CountVectorizer\n",
    "from sklearn.metrics import confusion_matrix\n",
    "from sklearn.model_selection import train_test_split\n",
    "from sklearn.decomposition import LatentDirichletAllocation"
   ]
  },
  {
   "attachments": {},
   "cell_type": "markdown",
   "metadata": {},
   "source": [
    "## Data Processing"
   ]
  },
  {
   "cell_type": "code",
   "execution_count": 2,
   "metadata": {},
   "outputs": [
    {
     "data": {
      "text/html": [
       "<div>\n",
       "<style scoped>\n",
       "    .dataframe tbody tr th:only-of-type {\n",
       "        vertical-align: middle;\n",
       "    }\n",
       "\n",
       "    .dataframe tbody tr th {\n",
       "        vertical-align: top;\n",
       "    }\n",
       "\n",
       "    .dataframe thead th {\n",
       "        text-align: right;\n",
       "    }\n",
       "</style>\n",
       "<table border=\"1\" class=\"dataframe\">\n",
       "  <thead>\n",
       "    <tr style=\"text-align: right;\">\n",
       "      <th></th>\n",
       "      <th>Unnamed: 0</th>\n",
       "      <th>Project</th>\n",
       "      <th>Text</th>\n",
       "      <th>Scam</th>\n",
       "      <th>Text_Encoded_Word</th>\n",
       "      <th>Text_Encoded_Character</th>\n",
       "    </tr>\n",
       "  </thead>\n",
       "  <tbody>\n",
       "    <tr>\n",
       "      <th>0</th>\n",
       "      <td>0</td>\n",
       "      <td>acs crypto</td>\n",
       "      <td>crims switch de-fi police trace crypto crimes ...</td>\n",
       "      <td>1</td>\n",
       "      <td>[725437, 492541, 1102845, 437298, 885216, 6438...</td>\n",
       "      <td>[138, 161, 38, 90, 289, 0, 289, 7, 38, 282, 13...</td>\n",
       "    </tr>\n",
       "    <tr>\n",
       "      <th>1</th>\n",
       "      <td>1</td>\n",
       "      <td>acs crypto</td>\n",
       "      <td>welcome aircentralstation join aircentralstati...</td>\n",
       "      <td>1</td>\n",
       "      <td>[194583, 30197, 407032, 30197, 1413970, 109968...</td>\n",
       "      <td>[7, 155, 31, 138, 24, 90, 155, 0, 50, 38, 161,...</td>\n",
       "    </tr>\n",
       "    <tr>\n",
       "      <th>2</th>\n",
       "      <td>2</td>\n",
       "      <td>adaf</td>\n",
       "      <td>this zesty faucet from @_bitcoiner making twee...</td>\n",
       "      <td>1</td>\n",
       "      <td>[1310907, 843491, 224679, 1221500, 84711, 1099...</td>\n",
       "      <td>[282, 178, 38, 289, 0, 237, 155, 289, 282, 72,...</td>\n",
       "    </tr>\n",
       "    <tr>\n",
       "      <th>3</th>\n",
       "      <td>3</td>\n",
       "      <td>adaf</td>\n",
       "      <td>@bondwolfie . all doctors are fatphobic world ...</td>\n",
       "      <td>1</td>\n",
       "      <td>[0, 1044714, 1433243, 945028, 45136, 1021170, ...</td>\n",
       "      <td>[3, 230, 24, 6, 10, 7, 24, 31, 212, 38, 155, 0...</td>\n",
       "    </tr>\n",
       "    <tr>\n",
       "      <th>4</th>\n",
       "      <td>4</td>\n",
       "      <td>adaf</td>\n",
       "      <td>@umezawa_ honestly idk. might make sense check...</td>\n",
       "      <td>1</td>\n",
       "      <td>[571361, 454028, 878217, 1044714, 595598, 1148...</td>\n",
       "      <td>[3, 198, 90, 155, 237, 50, 7, 50, 53, 0, 178, ...</td>\n",
       "    </tr>\n",
       "  </tbody>\n",
       "</table>\n",
       "</div>"
      ],
      "text/plain": [
       "   Unnamed: 0     Project                                               Text  \\\n",
       "0           0  acs crypto  crims switch de-fi police trace crypto crimes ...   \n",
       "1           1  acs crypto  welcome aircentralstation join aircentralstati...   \n",
       "2           2        adaf  this zesty faucet from @_bitcoiner making twee...   \n",
       "3           3        adaf  @bondwolfie . all doctors are fatphobic world ...   \n",
       "4           4        adaf  @umezawa_ honestly idk. might make sense check...   \n",
       "\n",
       "   Scam                                  Text_Encoded_Word  \\\n",
       "0     1  [725437, 492541, 1102845, 437298, 885216, 6438...   \n",
       "1     1  [194583, 30197, 407032, 30197, 1413970, 109968...   \n",
       "2     1  [1310907, 843491, 224679, 1221500, 84711, 1099...   \n",
       "3     1  [0, 1044714, 1433243, 945028, 45136, 1021170, ...   \n",
       "4     1  [571361, 454028, 878217, 1044714, 595598, 1148...   \n",
       "\n",
       "                              Text_Encoded_Character  \n",
       "0  [138, 161, 38, 90, 289, 0, 289, 7, 38, 282, 13...  \n",
       "1  [7, 155, 31, 138, 24, 90, 155, 0, 50, 38, 161,...  \n",
       "2  [282, 178, 38, 289, 0, 237, 155, 289, 282, 72,...  \n",
       "3  [3, 230, 24, 6, 10, 7, 24, 31, 212, 38, 155, 0...  \n",
       "4  [3, 198, 90, 155, 237, 50, 7, 50, 53, 0, 178, ...  "
      ]
     },
     "execution_count": 2,
     "metadata": {},
     "output_type": "execute_result"
    }
   ],
   "source": [
    "data = pd.read_csv(\"C:/Users/vebky/FIE458/termpaper/Cleaned_Data.csv\")\n",
    "data.head()"
   ]
  },
  {
   "attachments": {},
   "cell_type": "markdown",
   "metadata": {},
   "source": [
    "#### Balanced Data"
   ]
  },
  {
   "cell_type": "code",
   "execution_count": 3,
   "metadata": {},
   "outputs": [
    {
     "data": {
      "text/html": [
       "<div>\n",
       "<style scoped>\n",
       "    .dataframe tbody tr th:only-of-type {\n",
       "        vertical-align: middle;\n",
       "    }\n",
       "\n",
       "    .dataframe tbody tr th {\n",
       "        vertical-align: top;\n",
       "    }\n",
       "\n",
       "    .dataframe thead th {\n",
       "        text-align: right;\n",
       "    }\n",
       "</style>\n",
       "<table border=\"1\" class=\"dataframe\">\n",
       "  <thead>\n",
       "    <tr style=\"text-align: right;\">\n",
       "      <th></th>\n",
       "      <th>Unnamed: 0</th>\n",
       "      <th>Project</th>\n",
       "      <th>Text</th>\n",
       "      <th>Scam</th>\n",
       "      <th>Text_Encoded_Word</th>\n",
       "      <th>Text_Encoded_Character</th>\n",
       "    </tr>\n",
       "  </thead>\n",
       "  <tbody>\n",
       "    <tr>\n",
       "      <th>0</th>\n",
       "      <td>236830</td>\n",
       "      <td>hedera</td>\n",
       "      <td>auction klaxon! only six hours left these two ...</td>\n",
       "      <td>0</td>\n",
       "      <td>[1164211, 695772, 781942, 437276, 94468, 63273...</td>\n",
       "      <td>[50, 198, 138, 282, 38, 24, 6, 0, 239, 31, 50,...</td>\n",
       "    </tr>\n",
       "    <tr>\n",
       "      <th>1</th>\n",
       "      <td>218583</td>\n",
       "      <td>fantom</td>\n",
       "      <td>hyped for 2022 with this amazing hector team j...</td>\n",
       "      <td>0</td>\n",
       "      <td>[1037456, 986965, 1270237, 526037, 1310907, 98...</td>\n",
       "      <td>[178, 72, 300, 155, 10, 0, 212, 24, 161, 0, 18...</td>\n",
       "    </tr>\n",
       "    <tr>\n",
       "      <th>2</th>\n",
       "      <td>276366</td>\n",
       "      <td>mina</td>\n",
       "      <td>🤷🏾‍♂️🤷🏾‍♂️🤷🏾‍♂️ thank you !! @mithisa_motho yo...</td>\n",
       "      <td>0</td>\n",
       "      <td>[652624, 672369, 652624, 672369, 652624, 67236...</td>\n",
       "      <td>[0, 0, 0, 0, 100, 0, 0, 0, 0, 100, 0, 0, 0, 0,...</td>\n",
       "    </tr>\n",
       "    <tr>\n",
       "      <th>3</th>\n",
       "      <td>231603</td>\n",
       "      <td>gnosis</td>\n",
       "      <td>@dihuaflute the , they might well while we're ...</td>\n",
       "      <td>0</td>\n",
       "      <td>[0, 586665, 43212, 1048353, 595598, 791932, 37...</td>\n",
       "      <td>[3, 10, 38, 178, 198, 50, 212, 31, 198, 282, 1...</td>\n",
       "    </tr>\n",
       "    <tr>\n",
       "      <th>4</th>\n",
       "      <td>364445</td>\n",
       "      <td>thorchain</td>\n",
       "      <td>@akurypto @ but #rune dead @akurypto @ that’s ...</td>\n",
       "      <td>0</td>\n",
       "      <td>[1121754, 695055, 486027, 540467, 386209, 1121...</td>\n",
       "      <td>[3, 50, 239, 198, 161, 72, 300, 282, 24, 0, 3,...</td>\n",
       "    </tr>\n",
       "  </tbody>\n",
       "</table>\n",
       "</div>"
      ],
      "text/plain": [
       "   Unnamed: 0    Project                                               Text  \\\n",
       "0      236830     hedera  auction klaxon! only six hours left these two ...   \n",
       "1      218583     fantom  hyped for 2022 with this amazing hector team j...   \n",
       "2      276366       mina  🤷🏾‍♂️🤷🏾‍♂️🤷🏾‍♂️ thank you !! @mithisa_motho yo...   \n",
       "3      231603     gnosis  @dihuaflute the , they might well while we're ...   \n",
       "4      364445  thorchain  @akurypto @ but #rune dead @akurypto @ that’s ...   \n",
       "\n",
       "   Scam                                  Text_Encoded_Word  \\\n",
       "0     0  [1164211, 695772, 781942, 437276, 94468, 63273...   \n",
       "1     0  [1037456, 986965, 1270237, 526037, 1310907, 98...   \n",
       "2     0  [652624, 672369, 652624, 672369, 652624, 67236...   \n",
       "3     0  [0, 586665, 43212, 1048353, 595598, 791932, 37...   \n",
       "4     0  [1121754, 695055, 486027, 540467, 386209, 1121...   \n",
       "\n",
       "                              Text_Encoded_Character  \n",
       "0  [50, 198, 138, 282, 38, 24, 6, 0, 239, 31, 50,...  \n",
       "1  [178, 72, 300, 155, 10, 0, 212, 24, 161, 0, 18...  \n",
       "2  [0, 0, 0, 0, 100, 0, 0, 0, 0, 100, 0, 0, 0, 0,...  \n",
       "3  [3, 10, 38, 178, 198, 50, 212, 31, 198, 282, 1...  \n",
       "4  [3, 50, 239, 198, 161, 72, 300, 282, 24, 0, 3,...  "
      ]
     },
     "execution_count": 3,
     "metadata": {},
     "output_type": "execute_result"
    }
   ],
   "source": [
    "# Sample a subset of the data, 50000 rows, which is 50% scam=1 and 50% scam=0\n",
    "bal = data.groupby('Scam').apply(lambda x: x.sample(25000, random_state=1)).reset_index(drop=True)\n",
    "bal.head()"
   ]
  },
  {
   "cell_type": "code",
   "execution_count": 4,
   "metadata": {},
   "outputs": [
    {
     "data": {
      "text/plain": [
       "0    25000\n",
       "1    25000\n",
       "Name: Scam, dtype: int64"
      ]
     },
     "execution_count": 4,
     "metadata": {},
     "output_type": "execute_result"
    }
   ],
   "source": [
    "# number of unique entries in \"Scam\" column and the count of each\n",
    "bal['Scam'].value_counts()"
   ]
  },
  {
   "attachments": {},
   "cell_type": "markdown",
   "metadata": {},
   "source": [
    "#### Unbalanced Data"
   ]
  },
  {
   "cell_type": "code",
   "execution_count": 5,
   "metadata": {},
   "outputs": [
    {
     "data": {
      "text/html": [
       "<div>\n",
       "<style scoped>\n",
       "    .dataframe tbody tr th:only-of-type {\n",
       "        vertical-align: middle;\n",
       "    }\n",
       "\n",
       "    .dataframe tbody tr th {\n",
       "        vertical-align: top;\n",
       "    }\n",
       "\n",
       "    .dataframe thead th {\n",
       "        text-align: right;\n",
       "    }\n",
       "</style>\n",
       "<table border=\"1\" class=\"dataframe\">\n",
       "  <thead>\n",
       "    <tr style=\"text-align: right;\">\n",
       "      <th></th>\n",
       "      <th>Unnamed: 0</th>\n",
       "      <th>Project</th>\n",
       "      <th>Text</th>\n",
       "      <th>Scam</th>\n",
       "      <th>Text_Encoded_Word</th>\n",
       "      <th>Text_Encoded_Character</th>\n",
       "    </tr>\n",
       "  </thead>\n",
       "  <tbody>\n",
       "    <tr>\n",
       "      <th>0</th>\n",
       "      <td>299782</td>\n",
       "      <td>pancakeswap</td>\n",
       "      <td>@terry265 @ @essentialesc @moonscan @coinlisti...</td>\n",
       "      <td>0</td>\n",
       "      <td>[339491, 695055, 307718, 1018756, 1382421, 114...</td>\n",
       "      <td>[3, 282, 155, 161, 161, 72, 187, 295, 54, 0, 3...</td>\n",
       "    </tr>\n",
       "    <tr>\n",
       "      <th>1</th>\n",
       "      <td>226913</td>\n",
       "      <td>flow</td>\n",
       "      <td>#nowplaying frank nitti/coco  therapy morning ...</td>\n",
       "      <td>0</td>\n",
       "      <td>[833118, 720732, 610204, 139641, 1042138, 1349...</td>\n",
       "      <td>[172, 6, 24, 7, 300, 31, 50, 72, 38, 6, 5, 0, ...</td>\n",
       "    </tr>\n",
       "    <tr>\n",
       "      <th>2</th>\n",
       "      <td>313233</td>\n",
       "      <td>quant</td>\n",
       "      <td>swing ticker ticker.52 ticker ticker.29 ticker...</td>\n",
       "      <td>0</td>\n",
       "      <td>[819299, 862855, 862855, 1044714, 106115, 8628...</td>\n",
       "      <td>[289, 7, 38, 6, 5, 0, 282, 38, 138, 239, 155, ...</td>\n",
       "    </tr>\n",
       "    <tr>\n",
       "      <th>3</th>\n",
       "      <td>97290</td>\n",
       "      <td>thodex</td>\n",
       "      <td>𝐁𝐓𝐂-𝐓𝐑𝐘 𝐄𝐗𝐂𝐇𝐀𝐍𝐆𝐄 𝐑𝐀𝐓𝐄𝐒: btcturk: 47,747.00 try...</td>\n",
       "      <td>1</td>\n",
       "      <td>[294790, 258985, 821046, 275066, 173398, 27506...</td>\n",
       "      <td>[0, 0, 0, 247, 0, 0, 0, 0, 0, 0, 0, 0, 0, 0, 0...</td>\n",
       "    </tr>\n",
       "    <tr>\n",
       "      <th>4</th>\n",
       "      <td>332405</td>\n",
       "      <td>stacks</td>\n",
       "      <td>never play duos. find too easy you only have d...</td>\n",
       "      <td>0</td>\n",
       "      <td>[1076143, 859171, 1390548, 1044714, 1202051, 9...</td>\n",
       "      <td>[6, 155, 266, 155, 161, 0, 300, 31, 50, 72, 0,...</td>\n",
       "    </tr>\n",
       "  </tbody>\n",
       "</table>\n",
       "</div>"
      ],
      "text/plain": [
       "   Unnamed: 0      Project                                               Text  \\\n",
       "0      299782  pancakeswap  @terry265 @ @essentialesc @moonscan @coinlisti...   \n",
       "1      226913         flow  #nowplaying frank nitti/coco  therapy morning ...   \n",
       "2      313233        quant  swing ticker ticker.52 ticker ticker.29 ticker...   \n",
       "3       97290       thodex  𝐁𝐓𝐂-𝐓𝐑𝐘 𝐄𝐗𝐂𝐇𝐀𝐍𝐆𝐄 𝐑𝐀𝐓𝐄𝐒: btcturk: 47,747.00 try...   \n",
       "4      332405       stacks  never play duos. find too easy you only have d...   \n",
       "\n",
       "   Scam                                  Text_Encoded_Word  \\\n",
       "0     0  [339491, 695055, 307718, 1018756, 1382421, 114...   \n",
       "1     0  [833118, 720732, 610204, 139641, 1042138, 1349...   \n",
       "2     0  [819299, 862855, 862855, 1044714, 106115, 8628...   \n",
       "3     1  [294790, 258985, 821046, 275066, 173398, 27506...   \n",
       "4     0  [1076143, 859171, 1390548, 1044714, 1202051, 9...   \n",
       "\n",
       "                              Text_Encoded_Character  \n",
       "0  [3, 282, 155, 161, 161, 72, 187, 295, 54, 0, 3...  \n",
       "1  [172, 6, 24, 7, 300, 31, 50, 72, 38, 6, 5, 0, ...  \n",
       "2  [289, 7, 38, 6, 5, 0, 282, 38, 138, 239, 155, ...  \n",
       "3  [0, 0, 0, 247, 0, 0, 0, 0, 0, 0, 0, 0, 0, 0, 0...  \n",
       "4  [6, 155, 266, 155, 161, 0, 300, 31, 50, 72, 0,...  "
      ]
     },
     "execution_count": 5,
     "metadata": {},
     "output_type": "execute_result"
    }
   ],
   "source": [
    "# Sample a subset of the data, 50000 rows\n",
    "unbal = data.apply(lambda x: x.sample(50000, random_state=1)).reset_index(drop=True)\n",
    "unbal.head()"
   ]
  },
  {
   "cell_type": "code",
   "execution_count": 6,
   "metadata": {},
   "outputs": [
    {
     "data": {
      "text/plain": [
       "0    37662\n",
       "1    12338\n",
       "Name: Scam, dtype: int64"
      ]
     },
     "execution_count": 6,
     "metadata": {},
     "output_type": "execute_result"
    }
   ],
   "source": [
    "unbal['Scam'].value_counts()"
   ]
  },
  {
   "attachments": {},
   "cell_type": "markdown",
   "metadata": {},
   "source": [
    "## Dictionaries"
   ]
  },
  {
   "attachments": {},
   "cell_type": "markdown",
   "metadata": {},
   "source": [
    "#### Sourcing Text"
   ]
  },
  {
   "cell_type": "code",
   "execution_count": 163,
   "metadata": {},
   "outputs": [],
   "source": [
    "# Change dataframe if you want balanced/unbalanced data\n",
    "text = bal['Text'].values\n",
    "vocabSize = 5000"
   ]
  },
  {
   "attachments": {},
   "cell_type": "markdown",
   "metadata": {},
   "source": [
    "#### Bag of Words: Words"
   ]
  },
  {
   "cell_type": "code",
   "execution_count": 164,
   "metadata": {},
   "outputs": [],
   "source": [
    "BagOfWords = CountVectorizer(max_features=vocabSize, stop_words='english')\n",
    "BOW = BagOfWords.fit_transform(text)"
   ]
  },
  {
   "attachments": {},
   "cell_type": "markdown",
   "metadata": {},
   "source": [
    "#### Bag of Words: Ngrams"
   ]
  },
  {
   "cell_type": "code",
   "execution_count": null,
   "metadata": {},
   "outputs": [],
   "source": [
    "CharNgrams = CountVectorizer(analyzer='char', ngram_range=(2, 3), max_features=vocabSize)\n",
    "CHAR = CharNgrams.fit_transform(text)"
   ]
  },
  {
   "attachments": {},
   "cell_type": "markdown",
   "metadata": {},
   "source": [
    "#### Bag of Words: TF-IDF"
   ]
  },
  {
   "cell_type": "code",
   "execution_count": null,
   "metadata": {},
   "outputs": [],
   "source": [
    "TF_IDF = TfidfVectorizer(analyzer='char', ngram_range=(2, 3), max_features=vocabSize)\n",
    "tfIDF = TF_IDF.fit_transform(text)"
   ]
  },
  {
   "attachments": {},
   "cell_type": "markdown",
   "metadata": {},
   "source": [
    "#### Bag of Words: Concepts"
   ]
  },
  {
   "attachments": {},
   "cell_type": "markdown",
   "metadata": {},
   "source": [
    "Currently not functional."
   ]
  },
  {
   "cell_type": "code",
   "execution_count": null,
   "metadata": {},
   "outputs": [
    {
     "data": {
      "text/html": [
       "<style>#sk-container-id-4 {color: black;background-color: white;}#sk-container-id-4 pre{padding: 0;}#sk-container-id-4 div.sk-toggleable {background-color: white;}#sk-container-id-4 label.sk-toggleable__label {cursor: pointer;display: block;width: 100%;margin-bottom: 0;padding: 0.3em;box-sizing: border-box;text-align: center;}#sk-container-id-4 label.sk-toggleable__label-arrow:before {content: \"▸\";float: left;margin-right: 0.25em;color: #696969;}#sk-container-id-4 label.sk-toggleable__label-arrow:hover:before {color: black;}#sk-container-id-4 div.sk-estimator:hover label.sk-toggleable__label-arrow:before {color: black;}#sk-container-id-4 div.sk-toggleable__content {max-height: 0;max-width: 0;overflow: hidden;text-align: left;background-color: #f0f8ff;}#sk-container-id-4 div.sk-toggleable__content pre {margin: 0.2em;color: black;border-radius: 0.25em;background-color: #f0f8ff;}#sk-container-id-4 input.sk-toggleable__control:checked~div.sk-toggleable__content {max-height: 200px;max-width: 100%;overflow: auto;}#sk-container-id-4 input.sk-toggleable__control:checked~label.sk-toggleable__label-arrow:before {content: \"▾\";}#sk-container-id-4 div.sk-estimator input.sk-toggleable__control:checked~label.sk-toggleable__label {background-color: #d4ebff;}#sk-container-id-4 div.sk-label input.sk-toggleable__control:checked~label.sk-toggleable__label {background-color: #d4ebff;}#sk-container-id-4 input.sk-hidden--visually {border: 0;clip: rect(1px 1px 1px 1px);clip: rect(1px, 1px, 1px, 1px);height: 1px;margin: -1px;overflow: hidden;padding: 0;position: absolute;width: 1px;}#sk-container-id-4 div.sk-estimator {font-family: monospace;background-color: #f0f8ff;border: 1px dotted black;border-radius: 0.25em;box-sizing: border-box;margin-bottom: 0.5em;}#sk-container-id-4 div.sk-estimator:hover {background-color: #d4ebff;}#sk-container-id-4 div.sk-parallel-item::after {content: \"\";width: 100%;border-bottom: 1px solid gray;flex-grow: 1;}#sk-container-id-4 div.sk-label:hover label.sk-toggleable__label {background-color: #d4ebff;}#sk-container-id-4 div.sk-serial::before {content: \"\";position: absolute;border-left: 1px solid gray;box-sizing: border-box;top: 0;bottom: 0;left: 50%;z-index: 0;}#sk-container-id-4 div.sk-serial {display: flex;flex-direction: column;align-items: center;background-color: white;padding-right: 0.2em;padding-left: 0.2em;position: relative;}#sk-container-id-4 div.sk-item {position: relative;z-index: 1;}#sk-container-id-4 div.sk-parallel {display: flex;align-items: stretch;justify-content: center;background-color: white;position: relative;}#sk-container-id-4 div.sk-item::before, #sk-container-id-4 div.sk-parallel-item::before {content: \"\";position: absolute;border-left: 1px solid gray;box-sizing: border-box;top: 0;bottom: 0;left: 50%;z-index: -1;}#sk-container-id-4 div.sk-parallel-item {display: flex;flex-direction: column;z-index: 1;position: relative;background-color: white;}#sk-container-id-4 div.sk-parallel-item:first-child::after {align-self: flex-end;width: 50%;}#sk-container-id-4 div.sk-parallel-item:last-child::after {align-self: flex-start;width: 50%;}#sk-container-id-4 div.sk-parallel-item:only-child::after {width: 0;}#sk-container-id-4 div.sk-dashed-wrapped {border: 1px dashed gray;margin: 0 0.4em 0.5em 0.4em;box-sizing: border-box;padding-bottom: 0.4em;background-color: white;}#sk-container-id-4 div.sk-label label {font-family: monospace;font-weight: bold;display: inline-block;line-height: 1.2em;}#sk-container-id-4 div.sk-label-container {text-align: center;}#sk-container-id-4 div.sk-container {/* jupyter's `normalize.less` sets `[hidden] { display: none; }` but bootstrap.min.css set `[hidden] { display: none !important; }` so we also need the `!important` here to be able to override the default hidden behavior on the sphinx rendered scikit-learn.org. See: https://github.com/scikit-learn/scikit-learn/issues/21755 */display: inline-block !important;position: relative;}#sk-container-id-4 div.sk-text-repr-fallback {display: none;}</style><div id=\"sk-container-id-4\" class=\"sk-top-container\"><div class=\"sk-text-repr-fallback\"><pre>LatentDirichletAllocation(n_components=1, random_state=1)</pre><b>In a Jupyter environment, please rerun this cell to show the HTML representation or trust the notebook. <br />On GitHub, the HTML representation is unable to render, please try loading this page with nbviewer.org.</b></div><div class=\"sk-container\" hidden><div class=\"sk-item\"><div class=\"sk-estimator sk-toggleable\"><input class=\"sk-toggleable__control sk-hidden--visually\" id=\"sk-estimator-id-4\" type=\"checkbox\" checked><label for=\"sk-estimator-id-4\" class=\"sk-toggleable__label sk-toggleable__label-arrow\">LatentDirichletAllocation</label><div class=\"sk-toggleable__content\"><pre>LatentDirichletAllocation(n_components=1, random_state=1)</pre></div></div></div></div></div>"
      ],
      "text/plain": [
       "LatentDirichletAllocation(n_components=1, random_state=1)"
      ]
     },
     "execution_count": 115,
     "metadata": {},
     "output_type": "execute_result"
    }
   ],
   "source": [
    "BagOfConcepts = CountVectorizer(max_features=vocabSize, stop_words='english')\n",
    "BOC = BagOfConcepts.fit_transform(text)\n",
    "\n",
    "n_topics = 1\n",
    "LDA = LatentDirichletAllocation(n_components=n_topics, random_state=1)\n",
    "LDA.fit(BOC)"
   ]
  },
  {
   "cell_type": "code",
   "execution_count": null,
   "metadata": {},
   "outputs": [
    {
     "name": "stdout",
     "output_type": "stream",
     "text": [
      "{'concept_0': ['ticker', 'https', '00', 'try', 'btc', 'bitcoin', 'binance', 'usdt', 'price', 'btcturk']}\n"
     ]
    }
   ],
   "source": [
    "LDABOC = {}\n",
    "feature_names = BagOfConcepts.get_feature_names_out()\n",
    "\n",
    "for topic_idx, topic in enumerate(LDA.components_):\n",
    "    concept_words = [feature_names[i] for i in topic.argsort()[:-10 - 1:-1]]\n",
    "    LDABOC[f'concept_{topic_idx}'] = concept_words\n",
    "\n",
    "print(LDABOC)"
   ]
  },
  {
   "attachments": {},
   "cell_type": "markdown",
   "metadata": {},
   "source": [
    "#### Selecting the Dictionary"
   ]
  },
  {
   "cell_type": "code",
   "execution_count": 165,
   "metadata": {},
   "outputs": [],
   "source": [
    "# create function to select dictionary type\n",
    "def selectDict(name):\n",
    "    DictList = {'BOW': BOW, 'CHAR': CHAR, 'tfIDF': tfIDF, 'BOCLDA': BOCLDA}\n",
    "    if name in DictList:\n",
    "        X = DictList[name]\n",
    "        return X\n",
    "    else:\n",
    "        print('Invalid dictionary name')"
   ]
  },
  {
   "attachments": {},
   "cell_type": "markdown",
   "metadata": {},
   "source": [
    "Once this section is complete, there is no need to rerun it, unless changes to the data is made."
   ]
  },
  {
   "attachments": {},
   "cell_type": "markdown",
   "metadata": {},
   "source": [
    "#### Creating Test Sets"
   ]
  },
  {
   "cell_type": "code",
   "execution_count": 166,
   "metadata": {},
   "outputs": [],
   "source": [
    "# selecting X and Y (change dataframe as you did above)\n",
    "X = selectDict('BOW') # List: BOW, CHAR, tfIDF, LDABOC\n",
    "Y = bal['Scam'].values"
   ]
  },
  {
   "cell_type": "code",
   "execution_count": 167,
   "metadata": {},
   "outputs": [],
   "source": [
    "# creating randomly selected balanced training and validation sets\n",
    "X_train, X_val, Y_train, Y_val = train_test_split(X, Y, test_size=0.2, random_state=1, stratify=Y)"
   ]
  },
  {
   "cell_type": "code",
   "execution_count": 168,
   "metadata": {},
   "outputs": [
    {
     "name": "stdout",
     "output_type": "stream",
     "text": [
      "(40000, 5000)\n",
      "(10000, 5000)\n",
      "(40000,)\n",
      "(10000,)\n"
     ]
    }
   ],
   "source": [
    "# dimensions of training and validation sets\n",
    "print(X_train.shape)\n",
    "print(X_val.shape)\n",
    "print(Y_train.shape)\n",
    "print(Y_val.shape)"
   ]
  },
  {
   "cell_type": "code",
   "execution_count": 169,
   "metadata": {},
   "outputs": [],
   "source": [
    "# Convert the sparse matrices to dense arrays\n",
    "X_train_dense = X_train.toarray()\n",
    "X_val_dense = X_val.toarray()\n",
    "\n",
    "# Reshape the input data to have an additional dimension (channels)\n",
    "X_train_reshaped = np.expand_dims(X_train_dense, axis=-1)\n",
    "X_val_reshaped = np.expand_dims(X_val_dense, axis=-1)"
   ]
  },
  {
   "attachments": {},
   "cell_type": "markdown",
   "metadata": {},
   "source": [
    "Callback functions to gather batch-based statistics."
   ]
  },
  {
   "cell_type": "code",
   "execution_count": 170,
   "metadata": {},
   "outputs": [],
   "source": [
    "# Callback to log variation of loss within each epoch\n",
    "class BatchLossCallback(Callback):\n",
    "    def __init__(self):\n",
    "        self.batch_losses = []\n",
    "\n",
    "    def on_train_batch_end(self, batch, logs=None):\n",
    "        self.batch_losses.append(logs.get('loss'))\n",
    "\n",
    "# Callback to log variation of accuracy within each epoch\n",
    "class BatchAccuracyCallback(Callback):\n",
    "    def __init__(self):\n",
    "        self.batch_accuracies = []\n",
    "\n",
    "    def on_train_batch_end(self, batch, logs=None):\n",
    "        self.batch_accuracies.append(logs.get('accuracy'))\n"
   ]
  },
  {
   "attachments": {},
   "cell_type": "markdown",
   "metadata": {},
   "source": [
    "## CNN Model"
   ]
  },
  {
   "attachments": {},
   "cell_type": "markdown",
   "metadata": {},
   "source": [
    "### Iteration 3"
   ]
  },
  {
   "attachments": {},
   "cell_type": "markdown",
   "metadata": {},
   "source": [
    "##### Model Architecture"
   ]
  },
  {
   "cell_type": "code",
   "execution_count": 171,
   "metadata": {},
   "outputs": [],
   "source": [
    "# Functional API\n",
    "# Input layer\n",
    "inputLayer = layers.Input(shape=(X_train_reshaped.shape[1], 1))\n",
    "\n",
    "# Convolutional layer\n",
    "conv1 = layers.Conv1D(128, 3, activation=gelu)(inputLayer)\n",
    "drop1 = layers.Dropout(0.01)(conv1)\n",
    "\n",
    "# MaxPooling layer\n",
    "max_pool = layers.MaxPooling1D()(drop1)\n",
    "\n",
    "# Dense Layer\n",
    "flatten = layers.Flatten()(max_pool)\n",
    "dense = layers.Dense(128, activation=gelu)(flatten)\n",
    "dense2 = layers.Dense(32, activation=gelu)(dense)\n",
    "\n",
    "# Output\n",
    "output = layers.Dense(1, activation=\"sigmoid\")(dense2)\n",
    "\n",
    "# Create the model\n",
    "model = Model(inputs=inputLayer, outputs=output)\n"
   ]
  },
  {
   "cell_type": "code",
   "execution_count": 172,
   "metadata": {},
   "outputs": [],
   "source": [
    "# Optimiser\n",
    "optimizer = optimizer = tfa.optimizers.RectifiedAdam(learning_rate=0.001, weight_decay=0.01)\n",
    "\n",
    "\n",
    "# Callbacks\n",
    "batch_loss_callback = BatchLossCallback()\n",
    "batch_accuracy_callback = BatchAccuracyCallback()\n",
    "early_stopping = EarlyStopping(monitor='val_accuracy', patience=1, verbose=1, mode='max', restore_best_weights=True)\n",
    "\n",
    "# Create a list of callbacks\n",
    "callbacks_list = [early_stopping, batch_loss_callback, batch_accuracy_callback]"
   ]
  },
  {
   "cell_type": "code",
   "execution_count": 173,
   "metadata": {},
   "outputs": [],
   "source": [
    "# Compile the model\n",
    "model.compile(loss='binary_crossentropy', optimizer=optimizer, metrics=['accuracy'])"
   ]
  },
  {
   "attachments": {},
   "cell_type": "markdown",
   "metadata": {},
   "source": [
    "##### Performance, Metrics, Plots"
   ]
  },
  {
   "attachments": {},
   "cell_type": "markdown",
   "metadata": {},
   "source": [
    "History"
   ]
  },
  {
   "cell_type": "code",
   "execution_count": 174,
   "metadata": {},
   "outputs": [
    {
     "name": "stdout",
     "output_type": "stream",
     "text": [
      "Epoch 1/100\n",
      "1000/1000 [==============================] - 1023s 1s/step - loss: 0.2870 - accuracy: 0.8713 - val_loss: 0.2356 - val_accuracy: 0.8964\n",
      "Epoch 2/100\n",
      "1000/1000 [==============================] - 1017s 1s/step - loss: 0.1780 - accuracy: 0.9224 - val_loss: 0.2145 - val_accuracy: 0.9057\n",
      "Epoch 3/100\n",
      "1000/1000 [==============================] - 1016s 1s/step - loss: 0.1128 - accuracy: 0.9517 - val_loss: 0.2455 - val_accuracy: 0.9061\n",
      "Epoch 4/100\n",
      "1000/1000 [==============================] - ETA: 0s - loss: 0.0622 - accuracy: 0.9761Restoring model weights from the end of the best epoch: 3.\n",
      "1000/1000 [==============================] - 1014s 1s/step - loss: 0.0622 - accuracy: 0.9761 - val_loss: 0.3168 - val_accuracy: 0.8999\n",
      "Epoch 4: early stopping\n"
     ]
    }
   ],
   "source": [
    "# Train the model\n",
    "history = model.fit(X_train_reshaped, Y_train, epochs=100, validation_data=(X_val_reshaped, Y_val), batch_size=40, callbacks=callbacks_list)"
   ]
  },
  {
   "attachments": {},
   "cell_type": "markdown",
   "metadata": {},
   "source": [
    "Performance Plot"
   ]
  },
  {
   "cell_type": "code",
   "execution_count": 181,
   "metadata": {},
   "outputs": [
    {
     "data": {
      "image/png": "[encoded data removed]",
      "text/plain": [
       "<Figure size 640x480 with 1 Axes>"
      ]
     },
     "metadata": {},
     "output_type": "display_data"
    }
   ],
   "source": [
    "# Plot the batch-wise loss variation within the epoch\n",
    "plt.plot(np.arange(len(batch_loss_callback.batch_losses)), batch_loss_callback.batch_losses, label='Training Loss')\n",
    "# Plot the batch-wise accuracy variation within the epochs\n",
    "plt.plot(np.arange(len(batch_accuracy_callback.batch_accuracies)), batch_accuracy_callback.batch_accuracies, label='Training Accuracy')\n",
    "\n",
    "# draw line sbetween the points\n",
    "plt.plot([1000, 2000], [history.history['val_loss'][0], history.history['val_loss'][1]], color='green', label='Validation Loss')\n",
    "plt.plot([2000, 3000], [history.history['val_loss'][1], history.history['val_loss'][2]], color='green')\n",
    "plt.plot([3000, 4000], [history.history['val_loss'][2], history.history['val_loss'][3]], color='green')\n",
    "plt.plot([3000, 4000], [history.history['val_loss'][2], history.history['val_loss'][3]], color='red')\n",
    "plt.plot([1000, 2000], [history.history['val_accuracy'][0], history.history['val_accuracy'][1]], color='purple', label='Validation Accuracy')\n",
    "plt.plot([2000, 3000], [history.history['val_accuracy'][1], history.history['val_accuracy'][2]], color='purple')\n",
    "plt.plot([3000, 4000], [history.history['val_accuracy'][2], history.history['val_accuracy'][3]], color='red')\n",
    "\n",
    "# Lines\n",
    "plt.yticks(np.arange(0, 1, 0.1))\n",
    "plt.vlines(1000, 0, 1, colors='gray', linestyles='dashed', label='Epoch end')\n",
    "plt.vlines(1000, 0, 1, colors='gray', linestyles='dashed')\n",
    "plt.vlines(2000, 0, 1, colors='gray', linestyles='dashed')\n",
    "plt.vlines(3000, 0, 1, colors='red', linestyles='dashed', label = 'Early Stopping')\n",
    "plt.vlines(4000, 0, 1, colors='gray', linestyles='dashed')\n",
    "plt.xlabel('Batch number')\n",
    "plt.ylabel('Loss')\n",
    "plt.grid(axis='y', linestyle='--', linewidth=0.5)\n",
    "plt.title(f'Loss variation within elapsed epochs')\n",
    "plt.legend(loc='upper left', bbox_to_anchor=(1.05, 1), title='Legend')\n",
    "\n",
    "plt.show()"
   ]
  },
  {
   "attachments": {},
   "cell_type": "markdown",
   "metadata": {},
   "source": [
    "Evaluation"
   ]
  },
  {
   "cell_type": "code",
   "execution_count": 176,
   "metadata": {},
   "outputs": [
    {
     "name": "stdout",
     "output_type": "stream",
     "text": [
      "313/313 [==============================] - 37s 116ms/step - loss: 0.2455 - accuracy: 0.9061\n",
      "Validation loss: 0.24551306664943695, accuracy: 0.9060999751091003\n"
     ]
    }
   ],
   "source": [
    "# Evaluate the model against Balanced Validation set\n",
    "loss, accuracy = model.evaluate(X_val_reshaped, Y_val)\n",
    "print(f\"Validation loss: {loss}, accuracy: {accuracy}\")"
   ]
  },
  {
   "attachments": {},
   "cell_type": "markdown",
   "metadata": {},
   "source": [
    "Confusion Matrix"
   ]
  },
  {
   "cell_type": "code",
   "execution_count": 177,
   "metadata": {},
   "outputs": [
    {
     "name": "stdout",
     "output_type": "stream",
     "text": [
      "313/313 [==============================] - 36s 115ms/step\n"
     ]
    }
   ],
   "source": [
    "# Convert the sparse input data to dense format\n",
    "X_val_dense = X_val.todense()\n",
    "\n",
    "# Get the model's predictions on the dense validation set\n",
    "y_pred = model.predict(X_val_dense)"
   ]
  },
  {
   "cell_type": "code",
   "execution_count": 178,
   "metadata": {},
   "outputs": [],
   "source": [
    "y_pred_classes = np.round(y_pred).astype(int)  # For binary classification"
   ]
  },
  {
   "cell_type": "code",
   "execution_count": 179,
   "metadata": {},
   "outputs": [
    {
     "name": "stdout",
     "output_type": "stream",
     "text": [
      "[[4613  387]\n",
      " [ 552 4448]]\n"
     ]
    },
    {
     "data": {
      "image/png": "[encoded data removed]",
      "text/plain": [
       "<Figure size 1000x700 with 2 Axes>"
      ]
     },
     "metadata": {},
     "output_type": "display_data"
    }
   ],
   "source": [
    "# Compute the confusion matrix\n",
    "cm = confusion_matrix(Y_val, y_pred_classes)\n",
    "print(cm)\n",
    "\n",
    "# Visualize the confusion matrix as a heatmap\n",
    "plt.figure(figsize=(10, 7))\n",
    "sns.heatmap(cm, annot=True, fmt='d', cmap='Blues')\n",
    "plt.xlabel('Predicted Label')\n",
    "plt.ylabel('True Label')\n",
    "plt.title('Confusion Matrix')\n",
    "plt.show()"
   ]
  },
  {
   "attachments": {},
   "cell_type": "markdown",
   "metadata": {},
   "source": [
    "## LOG"
   ]
  },
  {
   "attachments": {},
   "cell_type": "markdown",
   "metadata": {},
   "source": [
    "### BOWCNN2: Functional Convolutional Layers, Adam Optimizer"
   ]
  },
  {
   "attachments": {},
   "cell_type": "markdown",
   "metadata": {},
   "source": [
    "Input layer\n",
    "\n",
    "    inputLayer = layers.Input(shape=(X_train_reshaped.shape[1], 1))\n",
    "\n",
    "Convolutional layer\n",
    "\n",
    "    conv1 = layers.Conv1D(128, 5, activation=gelu)(inputLayer)\n",
    "\n",
    "    drop1 = layers.Dropout(0.01)(conv1)\n",
    "\n",
    "MaxPooling layer\n",
    "\n",
    "    max_pool = layers.MaxPooling1D()(drop1)\n",
    "\n",
    "Dense Layer\n",
    "\n",
    "    flatten = layers.Flatten()(max_pool)\n",
    "\n",
    "    dense = layers.Dense(128, activation=gelu)(flatten)\n",
    "    \n",
    "    dense2 = layers.Dense(32, activation=gelu)(dense)\n",
    "\n",
    "Output\n",
    "    output = layers.Dense(1, activation=\"sigmoid\")(dense2)\n",
    "\n",
    "Create the model\n",
    "\n",
    "    model = Model(inputs=inputLayer, outputs=output)\n",
    "\n",
    "Compile the model\n",
    "\n",
    "    optimizer = Adam(learning_rate=0.001)\n",
    "\n",
    "    early_stopping = EarlyStopping(monitor='val_loss', patience=1, verbose=1, mode='min', restore_best_weights=True)\n",
    "\n",
    "    model.compile(loss='binary_crossentropy', optimizer=optimizer, metrics=['accuracy'])"
   ]
  },
  {
   "attachments": {},
   "cell_type": "markdown",
   "metadata": {},
   "source": [
    "### BOWCNN3: Functional Convolutional Layers, Rectified Adam Optimizer"
   ]
  },
  {
   "attachments": {},
   "cell_type": "markdown",
   "metadata": {},
   "source": [
    "\n",
    "Input layer\n",
    "\n",
    "    inputLayer = layers.Input(shape=(X_train_reshaped.shape[1], 1))\n",
    "\n",
    "Convolutional layer\n",
    "\n",
    "    conv1 = layers.Conv1D(128, 3, activation=gelu)(inputLayer)\n",
    "    drop1 = layers.Dropout(0.01)(conv1)\n",
    "\n",
    "MaxPooling layer\n",
    "\n",
    "    max_pool = layers.MaxPooling1D()(drop1)\n",
    "\n",
    "Dense Layer\n",
    "\n",
    "    flatten = layers.Flatten()(max_pool)\n",
    "    dense = layers.Dense(128, activation=gelu)(flatten)\n",
    "    dense2 = layers.Dense(32, activation=gelu)(dense)\n",
    "\n",
    "Output\n",
    "\n",
    "    output = layers.Dense(1, activation=\"sigmoid\")(dense2)\n",
    "\n",
    "Create the model\n",
    "\n",
    "    model = Model(inputs=inputLayer, outputs=output)\n",
    "\n",
    "Optimiser\n",
    "\n",
    "    optimizer = optimizer = tfa.optimizers.RectifiedAdam(learning_rate=0.001, weight_decay=0.01)\n",
    "\n",
    "Callbacks\n",
    "\n",
    "    batch_loss_callback = BatchLossCallback()\n",
    "\n",
    "    batch_accuracy_callback = BatchAccuracyCallback()\n",
    "\n",
    "    early_stopping = EarlyStopping(monitor='val_loss', patience=1, verbose=1, mode='min', restore_best_weights=True)\n",
    "\n",
    "Create a list of callbacks\n",
    "\n",
    "    callbacks_list = [early_stopping, batch_loss_callback, batch_accuracy_callback]\n",
    "\n",
    "Compile the model\n",
    "\n",
    "    model.compile(loss='binary_crossentropy', optimizer=optimizer, metrics=['accuracy'])"
   ]
  }
 ],
 "metadata": {
  "kernelspec": {
   "display_name": "tf",
   "language": "python",
   "name": "python3"
  },
  "language_info": {
   "codemirror_mode": {
    "name": "ipython",
    "version": 3
   },
   "file_extension": ".py",
   "mimetype": "text/x-python",
   "name": "python",
   "nbconvert_exporter": "python",
   "pygments_lexer": "ipython3",
   "version": "3.10.9"
  },
  "orig_nbformat": 4
 },
 "nbformat": 4,
 "nbformat_minor": 2
}
