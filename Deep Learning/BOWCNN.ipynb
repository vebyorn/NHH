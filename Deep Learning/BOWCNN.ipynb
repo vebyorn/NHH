{
 "cells": [
  {
   "attachments": {},
   "cell_type": "markdown",
   "metadata": {},
   "source": [
    "##### Packages"
   ]
  },
  {
   "cell_type": "code",
   "execution_count": 1,
   "metadata": {},
   "outputs": [],
   "source": [
    "import numpy as np\n",
    "import pandas as pd\n",
    "import tensorflow as tf\n",
    "import seaborn as sns\n",
    "from tensorflow.keras import layers, Model, regularizers\n",
    "from tensorflow.keras.activations import gelu\n",
    "from tensorflow.keras.callbacks import EarlyStopping, Callback\n",
    "from tensorflow.keras.optimizers import Adam\n",
    "import matplotlib.pyplot as plt\n",
    "from sklearn.feature_extraction.text import CountVectorizer\n",
    "from sklearn.metrics import confusion_matrix\n",
    "from sklearn.model_selection import train_test_split\n",
    "from sklearn.utils.class_weight import compute_class_weight\n",
    "import re\n",
    "import emoji"
   ]
  },
  {
   "attachments": {},
   "cell_type": "markdown",
   "metadata": {},
   "source": [
    "## Data Processing"
   ]
  },
  {
   "cell_type": "code",
   "execution_count": 2,
   "metadata": {},
   "outputs": [
    {
     "data": {
      "text/html": [
       "<div>\n",
       "<style scoped>\n",
       "    .dataframe tbody tr th:only-of-type {\n",
       "        vertical-align: middle;\n",
       "    }\n",
       "\n",
       "    .dataframe tbody tr th {\n",
       "        vertical-align: top;\n",
       "    }\n",
       "\n",
       "    .dataframe thead th {\n",
       "        text-align: right;\n",
       "    }\n",
       "</style>\n",
       "<table border=\"1\" class=\"dataframe\">\n",
       "  <thead>\n",
       "    <tr style=\"text-align: right;\">\n",
       "      <th></th>\n",
       "      <th>Unnamed: 0</th>\n",
       "      <th>Project</th>\n",
       "      <th>Text</th>\n",
       "      <th>Scam</th>\n",
       "      <th>Text_Encoded_Word</th>\n",
       "      <th>Text_Encoded_Character</th>\n",
       "    </tr>\n",
       "  </thead>\n",
       "  <tbody>\n",
       "    <tr>\n",
       "      <th>0</th>\n",
       "      <td>0</td>\n",
       "      <td>acs crypto</td>\n",
       "      <td>crims switch de-fi police trace crypto crimes ...</td>\n",
       "      <td>1</td>\n",
       "      <td>[120015, 121920, 383174, 114220, 832007, 92474...</td>\n",
       "      <td>[153, 274, 260, 124, 62, 0, 62, 208, 260, 243,...</td>\n",
       "    </tr>\n",
       "    <tr>\n",
       "      <th>1</th>\n",
       "      <td>1</td>\n",
       "      <td>acs crypto</td>\n",
       "      <td>welcome aircentralstation join aircentralstati...</td>\n",
       "      <td>1</td>\n",
       "      <td>[66713, 41929, 324349, 41929, 243317, 1018295,...</td>\n",
       "      <td>[208, 86, 244, 153, 151, 124, 86, 0, 292, 260,...</td>\n",
       "    </tr>\n",
       "    <tr>\n",
       "      <th>2</th>\n",
       "      <td>2</td>\n",
       "      <td>adaf</td>\n",
       "      <td>this zesty faucet from @_bitcoiner making twee...</td>\n",
       "      <td>1</td>\n",
       "      <td>[109068, 689629, 1460276, 1476091, 113081, 317...</td>\n",
       "      <td>[243, 42, 260, 62, 0, 231, 86, 62, 243, 57, 0,...</td>\n",
       "    </tr>\n",
       "    <tr>\n",
       "      <th>3</th>\n",
       "      <td>3</td>\n",
       "      <td>adaf</td>\n",
       "      <td>@bondwolfie . all doctors are fatphobic world ...</td>\n",
       "      <td>1</td>\n",
       "      <td>[0, 883822, 420573, 826513, 1404114, 1048130, ...</td>\n",
       "      <td>[107, 160, 151, 218, 277, 208, 151, 244, 273, ...</td>\n",
       "    </tr>\n",
       "    <tr>\n",
       "      <th>4</th>\n",
       "      <td>4</td>\n",
       "      <td>adaf</td>\n",
       "      <td>@umezawa_ honestly idk. might make sense check...</td>\n",
       "      <td>1</td>\n",
       "      <td>[1179260, 410817, 1327918, 883822, 706844, 280...</td>\n",
       "      <td>[107, 173, 124, 86, 231, 292, 208, 292, 174, 0...</td>\n",
       "    </tr>\n",
       "  </tbody>\n",
       "</table>\n",
       "</div>"
      ],
      "text/plain": [
       "   Unnamed: 0     Project                                               Text  \\\n",
       "0           0  acs crypto  crims switch de-fi police trace crypto crimes ...   \n",
       "1           1  acs crypto  welcome aircentralstation join aircentralstati...   \n",
       "2           2        adaf  this zesty faucet from @_bitcoiner making twee...   \n",
       "3           3        adaf  @bondwolfie . all doctors are fatphobic world ...   \n",
       "4           4        adaf  @umezawa_ honestly idk. might make sense check...   \n",
       "\n",
       "   Scam                                  Text_Encoded_Word  \\\n",
       "0     1  [120015, 121920, 383174, 114220, 832007, 92474...   \n",
       "1     1  [66713, 41929, 324349, 41929, 243317, 1018295,...   \n",
       "2     1  [109068, 689629, 1460276, 1476091, 113081, 317...   \n",
       "3     1  [0, 883822, 420573, 826513, 1404114, 1048130, ...   \n",
       "4     1  [1179260, 410817, 1327918, 883822, 706844, 280...   \n",
       "\n",
       "                              Text_Encoded_Character  \n",
       "0  [153, 274, 260, 124, 62, 0, 62, 208, 260, 243,...  \n",
       "1  [208, 86, 244, 153, 151, 124, 86, 0, 292, 260,...  \n",
       "2  [243, 42, 260, 62, 0, 231, 86, 62, 243, 57, 0,...  \n",
       "3  [107, 160, 151, 218, 277, 208, 151, 244, 273, ...  \n",
       "4  [107, 173, 124, 86, 231, 292, 208, 292, 174, 0...  "
      ]
     },
     "execution_count": 2,
     "metadata": {},
     "output_type": "execute_result"
    }
   ],
   "source": [
    "data = pd.read_csv(\"C:/Users/vebky/FIE458/termpaper/Cleaned_Data.csv\")\n",
    "data.head()"
   ]
  },
  {
   "attachments": {},
   "cell_type": "markdown",
   "metadata": {},
   "source": [
    "##### Loading and Inspecting"
   ]
  },
  {
   "cell_type": "code",
   "execution_count": 3,
   "metadata": {},
   "outputs": [
    {
     "data": {
      "text/html": [
       "<div>\n",
       "<style scoped>\n",
       "    .dataframe tbody tr th:only-of-type {\n",
       "        vertical-align: middle;\n",
       "    }\n",
       "\n",
       "    .dataframe tbody tr th {\n",
       "        vertical-align: top;\n",
       "    }\n",
       "\n",
       "    .dataframe thead th {\n",
       "        text-align: right;\n",
       "    }\n",
       "</style>\n",
       "<table border=\"1\" class=\"dataframe\">\n",
       "  <thead>\n",
       "    <tr style=\"text-align: right;\">\n",
       "      <th></th>\n",
       "      <th>Unnamed: 0</th>\n",
       "      <th>Project</th>\n",
       "      <th>Text</th>\n",
       "      <th>Scam</th>\n",
       "      <th>Text_Encoded_Word</th>\n",
       "      <th>Text_Encoded_Character</th>\n",
       "    </tr>\n",
       "  </thead>\n",
       "  <tbody>\n",
       "    <tr>\n",
       "      <th>0</th>\n",
       "      <td>327558</td>\n",
       "      <td>solana</td>\n",
       "      <td>sol price: $170.68 change 1h: +0.08864937% ma...</td>\n",
       "      <td>0</td>\n",
       "      <td>[320229, 878608, 1148255, 118178, 653755, 1106...</td>\n",
       "      <td>[0, 62, 151, 244, 0, 266, 274, 260, 153, 86, 2...</td>\n",
       "    </tr>\n",
       "    <tr>\n",
       "      <th>1</th>\n",
       "      <td>201917</td>\n",
       "      <td>elrond</td>\n",
       "      <td>@lpzhns @wesleybkress @_maiar @vz1904 @blackbe...</td>\n",
       "      <td>0</td>\n",
       "      <td>[597088, 435012, 629607, 1302504, 1094131, 320...</td>\n",
       "      <td>[107, 244, 266, 231, 42, 218, 62, 0, 107, 208,...</td>\n",
       "    </tr>\n",
       "    <tr>\n",
       "      <th>2</th>\n",
       "      <td>350262</td>\n",
       "      <td>tezos</td>\n",
       "      <td>\"crépus\" celebration the uniqueness black hair...</td>\n",
       "      <td>0</td>\n",
       "      <td>[34924, 0, 34924, 1321284, 3780, 492643, 13000...</td>\n",
       "      <td>[225, 153, 274, 0, 266, 173, 62, 225, 0, 153, ...</td>\n",
       "    </tr>\n",
       "    <tr>\n",
       "      <th>3</th>\n",
       "      <td>217940</td>\n",
       "      <td>ethereum classic</td>\n",
       "      <td># (etc) unexpectedly classic tokens have poten...</td>\n",
       "      <td>0</td>\n",
       "      <td>[845896, 614806, 1265595, 625586, 1094293, 150...</td>\n",
       "      <td>[285, 0, 175, 86, 243, 153, 105, 0, 173, 218, ...</td>\n",
       "    </tr>\n",
       "    <tr>\n",
       "      <th>4</th>\n",
       "      <td>246376</td>\n",
       "      <td>holo</td>\n",
       "      <td>was watching \"calli's christmas catastrophe\" a...</td>\n",
       "      <td>0</td>\n",
       "      <td>[337827, 206703, 34924, 505250, 548834, 112863...</td>\n",
       "      <td>[208, 292, 62, 0, 208, 292, 243, 153, 42, 260,...</td>\n",
       "    </tr>\n",
       "  </tbody>\n",
       "</table>\n",
       "</div>"
      ],
      "text/plain": [
       "   Unnamed: 0           Project  \\\n",
       "0      327558            solana   \n",
       "1      201917            elrond   \n",
       "2      350262             tezos   \n",
       "3      217940  ethereum classic   \n",
       "4      246376              holo   \n",
       "\n",
       "                                                Text  Scam  \\\n",
       "0   sol price: $170.68 change 1h: +0.08864937% ma...     0   \n",
       "1  @lpzhns @wesleybkress @_maiar @vz1904 @blackbe...     0   \n",
       "2  \"crépus\" celebration the uniqueness black hair...     0   \n",
       "3  # (etc) unexpectedly classic tokens have poten...     0   \n",
       "4  was watching \"calli's christmas catastrophe\" a...     0   \n",
       "\n",
       "                                   Text_Encoded_Word  \\\n",
       "0  [320229, 878608, 1148255, 118178, 653755, 1106...   \n",
       "1  [597088, 435012, 629607, 1302504, 1094131, 320...   \n",
       "2  [34924, 0, 34924, 1321284, 3780, 492643, 13000...   \n",
       "3  [845896, 614806, 1265595, 625586, 1094293, 150...   \n",
       "4  [337827, 206703, 34924, 505250, 548834, 112863...   \n",
       "\n",
       "                              Text_Encoded_Character  \n",
       "0  [0, 62, 151, 244, 0, 266, 274, 260, 153, 86, 2...  \n",
       "1  [107, 244, 266, 231, 42, 218, 62, 0, 107, 208,...  \n",
       "2  [225, 153, 274, 0, 266, 173, 62, 225, 0, 153, ...  \n",
       "3  [285, 0, 175, 86, 243, 153, 105, 0, 173, 218, ...  \n",
       "4  [208, 292, 62, 0, 208, 292, 243, 153, 42, 260,...  "
      ]
     },
     "execution_count": 3,
     "metadata": {},
     "output_type": "execute_result"
    }
   ],
   "source": [
    "# Sample a subset of the data, 50000 rows, which is 50% scam=1 and 50% scam=0\n",
    "df = data.groupby('Scam').apply(lambda x: x.sample(25000, random_state=1)).reset_index(drop=True)\n",
    "df.head()"
   ]
  },
  {
   "cell_type": "code",
   "execution_count": 4,
   "metadata": {},
   "outputs": [
    {
     "data": {
      "text/plain": [
       "0    25000\n",
       "1    25000\n",
       "Name: Scam, dtype: int64"
      ]
     },
     "execution_count": 4,
     "metadata": {},
     "output_type": "execute_result"
    }
   ],
   "source": [
    "# number of unique entries in \"Scam\" column and the count of each\n",
    "df['Scam'].value_counts()"
   ]
  },
  {
   "cell_type": "code",
   "execution_count": 5,
   "metadata": {},
   "outputs": [],
   "source": [
    "text = df['Text'].values"
   ]
  },
  {
   "attachments": {},
   "cell_type": "markdown",
   "metadata": {},
   "source": [
    "##### Formatting"
   ]
  },
  {
   "cell_type": "code",
   "execution_count": 6,
   "metadata": {},
   "outputs": [
    {
     "data": {
      "text/plain": [
       "[' sol price: $. change h: +.% market cap: $,,,. ranking: # #sol lets go, big welcome  meow! #dopecats # {URL}  unique  based ecosystem nfts that changes peoples lives and gives our community the power shape the future blockchain!check out!',\n",
       " '     it’s nice see somebody speak up. instead just agreeing everything great. being gets your rekt.      more rollouts without that better than the rest the also ran dexes and for person that says you like talk things out calmly you sure are very aggressive saying don’t follow and saying somebody arrogant great read and good advice over here. #maiardex # #egld',\n",
       " '\"crépus\" celebration the uniqueness black hair. :woman_medium-dark_skin_tone_curly_hair::person_medium-dark_skin_tone_curly_hair::man_medium-dark_skin_tone_curly_hair: / photo collection available # via  {URL} #cleannft #nftphotographer #nftphotography #photo {URL} genesis blood moon ruination generative art with the help geometry nodes  xtz {URL} #cleannft #xtz #nft #rarible # #hen #objktcom #objktnft   {URL} bluetooth# sale for xtz rarible {URL} #nftcommunity #nft #nftartist #nftcollectors #nftcollection #nftcollectibles # #collectors #nfts #rarible #collectors #xtz {URL}',\n",
       " '# (etc) unexpectedly classic tokens have potential {URL} uber argentina switches bitcoin payments, and the swiss national railway and software website steam are among new users accepting the currency. ethereum hit the market  and splits its business following hack  which results ethereum and .  [#etc] has lost -.% the last hours. price right now: .$',\n",
       " 'was watching \"calli\\'s christmas catastrophe\" and it\\'s cute little series but man anytime the  girls something scripted it\\'s very obvious that they are not voice actors. still fun for en fans tho. {URL} catching the  karaoke rally {URL}   done all rules, aku mau yang (album unsealed  sunsun scylla). thank you much for giveaway, bismillah wish luck {URL}']"
      ]
     },
     "execution_count": 6,
     "metadata": {},
     "output_type": "execute_result"
    }
   ],
   "source": [
    "# font to lowercase\n",
    "text = [x.lower() for x in text]\n",
    "\n",
    "# removing URLs from vocabulary\n",
    "text = [re.sub(r'http\\S+', '{URL}', x) for x in text]\n",
    "\n",
    "# removing @mentions from vocabulary\n",
    "text = [re.sub(r'@\\S+', '', x) for x in text]\n",
    "\n",
    "# filter out numbers\n",
    "text = [re.sub(r'[0-9]+', '', x) for x in text]\n",
    "\n",
    "# converting emojis to text\n",
    "text = [emoji.demojize(x) for x in text]\n",
    "\n",
    "# inspecting text after preprocessing\n",
    "text[:5]"
   ]
  },
  {
   "cell_type": "code",
   "execution_count": 7,
   "metadata": {},
   "outputs": [],
   "source": [
    "vectorizer = CountVectorizer(max_features=1000)\n",
    "X = vectorizer.fit_transform(text)"
   ]
  },
  {
   "cell_type": "code",
   "execution_count": 8,
   "metadata": {},
   "outputs": [
    {
     "data": {
      "text/plain": [
       "dict_items([('sol', 775), ('price', 659), ('change', 144), ('market', 512), ('cap', 134), ('lets', 467), ('go', 342), ('big', 89), ('welcome', 945), ('url', 898), ('unique', 891), ('based', 73), ('ecosystem', 245), ('nfts', 574), ('that', 836), ('and', 35), ('our', 605), ('community', 167), ('the', 837), ('power', 652), ('future', 320), ('blockchain', 104), ('check', 148), ('out', 606), ('it', 436), ('nice', 575), ('see', 738), ('up', 895), ('instead', 421), ('just', 441), ('everything', 271), ('great', 353), ('being', 83), ('gets', 332), ('your', 991), ('more', 549), ('without', 965), ('better', 87), ('than', 833), ('also', 26), ('for', 303), ('person', 628), ('says', 729), ('you', 990), ('like', 470), ('talk', 822), ('things', 846), ('sure', 814), ('are', 47), ('very', 918), ('saying', 728), ('don', 230), ('follow', 301), ('read', 686), ('good', 349), ('over', 607), ('here', 385), ('egld', 246), ('black', 100), ('collection', 162), ('available', 58), ('via', 920), ('moon', 548), ('art', 50), ('with', 963), ('help', 383), ('xtz', 982), ('nft', 570), ('rarible', 681), ('sale', 719), ('nftcommunity', 573), ('etc', 260), ('tokens', 862), ('have', 373), ('potential', 651), ('bitcoin', 95), ('payments', 623), ('website', 941), ('new', 566), ('users', 906), ('currency', 195), ('ethereum', 263), ('hit', 392), ('its', 437), ('business', 124), ('following', 302), ('which', 953), ('results', 701), ('has', 372), ('lost', 490), ('last', 452), ('hours', 402), ('right', 706), ('now', 583), ('was', 934), ('watching', 936), ('christmas', 150), ('little', 481), ('but', 125), ('man', 509), ('something', 780), ('they', 844), ('not', 581), ('still', 799), ('fun', 318), ('done', 231), ('all', 23), ('thank', 834), ('much', 555), ('giveaway', 336), ('wish', 962), ('luck', 498), ('amp', 33), ('home', 397), ('too', 865), ('many', 511), ('believe', 84), ('please', 637), ('post', 648), ('soon', 781), ('number', 584), ('coin', 159), ('crypto', 188), ('news', 567), ('december', 208), ('powered', 653), ('btc', 116), ('eth', 261), ('history', 391), ('money', 544), ('ada', 10), ('started', 793), ('invest', 428), ('list', 476), ('government', 352), ('coins', 161), ('bank', 72), ('exchanges', 275), ('even', 265), ('come', 164), ('close', 156), ('level', 468), ('will', 960), ('launch', 456), ('first', 298), ('free', 308), ('participate', 614), ('launched', 457), ('th', 832), ('learn', 461), ('what', 950), ('how', 404), ('stake', 789), ('currently', 197), ('mine', 535), ('network', 564), ('makes', 507), ('any', 39), ('sign', 761), ('link', 473), ('ever', 267), ('top', 867), ('solana', 776), ('swing', 816), ('ftm', 313), ('hbar', 376), ('near', 560), ('xmr', 980), ('cake', 129), ('eos', 257), ('flow', 299), ('qnt', 678), ('markets', 514), ('rocket', 710), ('can', 133), ('send', 744), ('ll', 483), ('show', 758), ('won', 966), ('week', 942), ('altrank', 29), ('trade_mark', 870), ('down', 235), ('lunarshare', 502), ('lunarcrush', 501), ('there', 841), ('way', 938), ('anyone', 40), ('team', 825), ('smart', 770), ('contract', 173), ('get', 331), ('want', 932), ('this', 849), ('true', 878), ('event', 266), ('think', 847), ('video', 921), ('yet', 989), ('sir', 766), ('know', 448), ('since', 764), ('bought', 109), ('sold', 777), ('airdrop', 19), ('put', 677), ('most', 551), ('ico', 409), ('into', 427), ('nothing', 582), ('during', 239), ('after', 14), ('trading', 871), ('went', 947), ('whole', 958), ('futures', 321), ('yes', 987), ('had', 366), ('behind', 82), ('giving', 338), ('some', 778), ('look', 486), ('let', 466), ('work', 968), ('plan', 631), ('yourself', 992), ('life', 469), ('trust', 879), ('perfect', 627), ('happy', 370), ('different', 218), ('from', 312), ('gonna', 348), ('hold', 394), ('gold', 346), ('staking', 790), ('day', 202), ('social', 774), ('activity', 8), ('galaxy', 324), ('score', 732), ('mentions', 528), ('engagements', 252), ('contributors', 175), ('dominance', 229), ('shared', 750), ('links', 474), ('use', 903), ('when', 951), ('online', 597), ('never', 565), ('said', 718), ('would', 973), ('tweet', 884), ('ltc', 497), ('usd', 900), ('move', 552), ('unknown', 892), ('wallet', 930), ('date', 201), ('gmt', 341), ('symbol', 817), ('detail', 212), ('biggest', 90), ('hr', 405), ('cro', 186), ('rune', 714), ('re', 685), ('defi', 210), ('uni', 890), ('crv', 187), ('snx', 772), ('finance', 294), ('protocol', 673), ('question', 679), ('trade', 869), ('cryptocurrency', 191), ('xrp', 981), ('exchange', 274), ('bsc', 113), ('decentralized', 209), ('dex', 215), ('where', 952), ('swap', 815), ('other', 603), ('spot', 786), ('total', 868), ('volume', 924), ('hrs', 406), ('cryptocapflow', 189), ('interest', 422), ('account', 6), ('net', 563), ('mean', 520), ('saw', 726), ('isn', 433), ('huge', 407), ('innovative', 420), ('less', 465), ('definitely', 211), ('did', 216), ('about', 2), ('their', 838), ('worth', 972), ('time', 856), ('ethereumclassic', 264), ('she', 751), ('is', 432), ('thought', 852), ('off', 586), ('fire', 297), ('shib', 752), ('issue', 434), ('thanks', 835), ('no', 577), ('foundation', 307), ('super', 811), ('mint', 538), ('only', 598), ('supply', 812), ('miss', 540), ('god', 343), ('me', 519), ('altcoins', 28), ('love', 493), ('them', 839), ('because', 78), ('eyes', 279), ('hard', 371), ('either', 247), ('yeah', 983), ('project', 670), ('polygon', 642), ('matic', 516), ('dot', 233), ('cryptocurrencies', 190), ('cryptonews', 193), ('hey', 386), ('wait', 928), ('metaverse', 529), ('space', 784), ('away', 62), ('bullish', 122), ('already', 25), ('need', 561), ('haven', 374), ('one', 594), ('playing', 634), ('well', 946), ('say', 727), ('came', 132), ('anything', 41), ('doesn', 224), ('people', 625), ('ftx', 314), ('trend', 875), ('stocks', 800), ('buy', 126), ('signals', 762), ('dyor', 240), ('bch', 76), ('pretty', 658), ('always', 30), ('been', 80), ('absolutely', 4), ('friend', 310), ('hope', 398), ('token', 861), ('point', 639), ('few', 292), ('ones', 596), ('awesome', 63), ('might', 531), ('try', 881), ('end', 251), ('excellent', 273), ('projects', 671), ('amazing', 31), ('hopefully', 399), ('success', 807), ('airdrops', 20), ('lol', 484), ('late', 453), ('usdt', 902), ('entry', 256), ('stop', 801), ('binance', 92), ('bnb', 107), ('his', 390), ('today', 859), ('missed', 541), ('announced', 36), ('million', 532), ('finally', 293), ('launching', 458), ('altcoin', 27), ('axs', 65), ('store', 802), ('access', 5), ('data', 200), ('system', 818), ('on', 592), ('may', 517), ('enough', 255), ('continue', 172), ('long', 485), ('term', 830), ('both', 108), ('once', 593), ('block', 103), ('rewards', 705), ('must', 557), ('watch', 935), ('prediction', 656), ('ripple', 707), ('why', 959), ('doge', 225), ('view', 922), ('real', 688), ('add', 11), ('coming', 166), ('make', 506), ('before', 81), ('start', 792), ('could', 180), ('cost', 179), ('trending', 876), ('backhand_index_pointing_down', 69), ('gt', 361), ('lt', 496), ('red', 693), ('head', 378), ('line', 472), ('beautiful', 77), ('low', 494), ('nftart', 571), ('nftcollector', 572), ('high', 387), ('gas', 329), ('fees', 291), ('using', 907), ('digital', 219), ('were', 948), ('transaction', 872), ('fee', 289), ('fast', 286), ('assets', 54), ('going', 345), ('found', 306), ('nonfungible', 580), ('faucet', 287), ('funds', 319), ('test', 831), ('whales', 949), ('below', 85), ('shows', 759), ('probably', 663), ('coinbase', 160), ('least', 463), ('every', 269), ('buying', 127), ('back', 67), ('those', 850), ('really', 689), ('thinking', 848), ('talking', 823), ('who', 957), ('play', 633), ('got', 350), ('guess', 362), ('he', 377), ('though', 851), ('actually', 9), ('care', 137), ('find', 296), ('reason', 690), ('cool', 177), ('dump', 238), ('version', 916), ('old', 590), ('theta', 843), ('rolling_on_the_floor_laughing', 711), ('story', 803), ('enjoy', 254), ('support', 813), ('then', 840), ('made', 503), ('verifying', 915), ('address', 13), ('selling', 743), ('rank', 680), ('interesting', 424), ('forward', 305), ('part', 613), ('holders', 395), ('getting', 333), ('avax', 59), ('privacy', 661), ('does', 223), ('shit', 755), ('lot', 491), ('another', 37), ('vet', 919), ('vefam', 914), ('guys', 364), ('discord', 221), ('join', 439), ('open', 599), ('cause', 140), ('season', 733), ('run', 713), ('full', 317), ('again', 15), ('attention', 56), ('holding', 396), ('thing', 845), ('do', 222), ('able', 1), ('him', 389), ('prices', 660), ('axieinfinity', 64), ('internetcomputer', 426), ('vote', 925), ('police_car_light', 640), ('us', 899), ('hot', 400), ('maybe', 518), ('seems', 740), ('doing', 227), ('voting', 926), ('atom', 55), ('blue', 106), ('next', 568), ('second', 735), ('best', 86), ('world', 971), ('ve', 912), ('order', 602), ('friends', 311), ('chance', 143), ('three', 853), ('left', 464), ('year', 984), ('two', 886), ('working', 969), ('drop', 236), ('stay', 795), ('save', 725), ('strong', 805), ('cash', 139), ('double', 234), ('we', 939), ('safe', 716), ('higher', 388), ('dollar', 228), ('else', 249), ('seeing', 739), ('rise', 708), ('trying', 882), ('favorite', 288), ('understand', 889), ('used', 904), ('issues', 435), ('single', 765), ('email', 250), ('making', 508), ('tell', 829), ('everyone', 270), ('release', 697), ('hour', 401), ('utc', 908), ('hello', 382), ('platform', 632), ('congrats', 170), ('opportunity', 601), ('lucky', 499), ('dont', 232), ('live', 482), ('built', 121), ('needs', 562), ('works', 970), ('bit', 94), ('past', 619), ('stuff', 806), ('years', 985), ('her', 384), ('months', 547), ('create', 184), ('taking', 821), ('face_with_tears_of_joy', 280), ('fuck', 315), ('update', 896), ('waiting', 929), ('details', 213), ('zec', 994), ('rate', 682), ('short', 756), ('early', 242), ('someone', 779), ('internet', 425), ('created', 185), ('app', 43), ('non', 579), ('possible', 647), ('chain', 142), ('should', 757), ('listed', 477), ('money_bag', 545), ('trx', 880), ('global', 340), ('partnership', 615), ('busd', 123), ('current', 196), ('warning', 933), ('dip', 220), ('between', 88), ('red_heart', 694), ('listing', 478), ('opensea', 600), ('litecoin', 479), ('covid', 182), ('twitter', 885), ('investment', 430), ('together', 860), ('against', 16), ('backed', 68), ('growing', 358), ('asset', 53), ('risk', 709), ('seen', 741), ('stablecoin', 788), ('until', 893), ('case', 138), ('amount', 32), ('starting', 794), ('fucking', 316), ('win', 961), ('xec', 977), ('bitcoincash', 96), ('meme', 525), ('dogecoin', 226), ('elon', 248), ('musk', 556), ('expect', 277), ('far', 285), ('around', 49), ('financial', 295), ('ape', 42), ('pre', 655), ('cardano', 136), ('ready', 687), ('take', 820), ('own', 608), ('research', 700), ('bsv', 115), ('algo', 22), ('luna', 500), ('aren', 48), ('above', 3), ('icp', 410), ('sorry', 782), ('mana', 510), ('dec', 207), ('pm', 638), ('gaming', 328), ('technology', 827), ('enj', 253), ('sandbox', 722), ('sand', 721), ('club', 157), ('share', 749), ('strength', 804), ('weighted', 944), ('unweighted', 894), ('daytrade', 204), ('cheap', 147), ('name', 558), ('yesterday', 988), ('grow', 357), ('due', 237), ('st', 787), ('half', 368), ('agree', 18), ('income', 416), ('game', 325), ('zil', 995), ('given', 337), ('step', 797), ('through', 854), ('check_mark_button', 149), ('yellow_circle', 986), ('launchpad', 459), ('small', 769), ('fan', 284), ('tag', 819), ('recent', 691), ('bring', 111), ('keep', 444), ('pool', 645), ('same', 720), ('bro', 112), ('crazy', 183), ('took', 866), ('official', 588), ('position', 646), ('party', 616), ('become', 79), ('collision', 163), ('ago', 17), ('build', 119), ('alert', 21), ('these', 842), ('paid', 611), ('lrc', 495), ('article', 51), ('latest', 455), ('tech', 826), ('company', 168), ('break', 110), ('average', 60), ('under', 888), ('days', 203), ('dao', 199), ('min', 533), ('answer', 38), ('clear', 154), ('especially', 259), ('investors', 431), ('easy', 244), ('looking', 487), ('gone', 347), ('so', 773), ('miner', 536), ('powerful', 654), ('sell', 742), ('pay', 621), ('set', 748), ('chart', 146), ('wanna', 931), ('hear', 379), ('increase', 417), ('tonight', 864), ('minutes', 539), ('moment', 543), ('shiba', 753), ('month', 546), ('shibainu', 754), ('idea', 411), ('in', 415), ('excited', 276), ('per', 626), ('updates', 897), ('scam', 730), ('having', 375), ('wow', 974), ('didn', 217), ('size', 768), ('such', 809), ('problem', 664), ('each', 241), ('layer', 460), ('guy', 363), ('sec', 734), ('xlm', 979), ('stellar', 796), ('forget', 304), ('card', 135), ('analysis', 34), ('value', 910), ('massive', 515), ('night', 576), ('place', 630), ('course', 181), ('node', 578), ('liquidity', 475), ('mining', 537), ('added', 12), ('billion', 91), ('ratio', 683), ('haha', 367), ('dcr', 205), ('feel', 290), ('bag', 71), ('utility', 909), ('successful', 808), ('moving', 554), ('daily', 198), ('review', 703), ('public', 674), ('gamefi', 326), ('sun', 810), ('profit', 667), ('member', 523), ('info', 418), ('give', 335), ('page', 610), ('gains', 323), ('running', 715), ('ether', 262), ('tron', 877), ('pump', 675), ('moved', 553), ('program', 669), ('reward', 704), ('wave', 937), ('looks', 488), ('marketing', 513), ('proof', 672), ('facebook', 281), ('deal', 206), ('gift', 334), ('kind', 446), ('green', 354), ('glad', 339), ('chz', 151), ('transfer', 874), ('youtube', 993), ('human', 408), ('bad', 70), ('while', 954), ('ar', 44), ('bleep', 101), ('blorp', 105), ('automatically', 57), ('mistake', 542), ('paste', 620), ('character', 145), ('profile', 666), ('wonderful', 967), ('information', 419), ('ask', 52), ('vol', 923), ('transactions', 873), ('cosmos', 178), ('safemoon', 717), ('building', 120), ('happen', 369), ('bat', 74), ('gotta', 351), ('fact', 282), ('star', 791), ('literally', 480), ('job', 438), ('sent', 746), ('land', 450), ('group', 356), ('experience', 278), ('means', 521), ('site', 767), ('later', 454), ('times', 857), ('king', 447), ('across', 7), ('important', 414), ('weeks', 943), ('turn', 883), ('liked', 471), ('heard', 380), ('target', 824), ('development', 214), ('congratulations', 171), ('piece', 629), ('retweet', 702), ('competition', 169), ('web', 940), ('pads', 609), ('tomorrow', 863), ('others', 604), ('contracts', 174), ('pot', 649), ('mind', 534), ('major', 505), ('goes', 344), ('members', 524), ('games', 327), ('house', 403), ('report', 699), ('secret', 736), ('joined', 440), ('side', 760), ('comes', 165), ('growth', 359), ('main', 504), ('heart', 381), ('usdc', 901), ('avg', 61), ('morning', 550), ('process', 665), ('hodl', 393), ('thumbs_up', 855), ('source', 783), ('gain', 322), ('purchase', 676), ('security', 737), ('claim', 152), ('interested', 423), ('telegram', 828), ('offer', 587), ('almost', 24), ('white', 955), ('earn', 243), ('key', 445), ('family', 283), ('register', 696), ('green_circle', 355), ('remember', 698), ('within', 964), ('recently', 692), ('ido', 412), ('whitelist', 956), ('learning', 462), ('special', 785), ('simple', 763), ('lose', 489), ('of', 585), ('wrong', 975), ('large', 451), ('imagine', 413), ('service', 747), ('cex', 141), ('user', 905), ('clapping_hands', 153), ('investing', 429), ('omg', 591), ('nd', 559), ('party_popper', 617), ('media', 522), ('folded_hands', 300), ('payment', 622), ('sense', 745), ('to', 858), ('call', 130), ('presale', 657), ('loudly_crying_face', 492), ('exactly', 272), ('ok_hand', 589), ('gem_stone', 330), ('ponzi', 644), ('baby', 66), ('rt', 712), ('called', 131), ('smiling_face_with_heart', 771), ('code', 158), ('erc', 258), ('pro', 662), ('gwei', 365), ('passive', 618), ('arbitrage', 46), ('satoshi', 724), ('memecoin', 526), ('control', 176), ('fresh', 309), ('binancechain', 93), ('bitfinex', 97), ('click', 155), ('scheme', 731), ('bitstamp', 98), ('playlist', 635), ('rdd', 684), ('bathroom', 75), ('pee', 624), ('txs', 887), ('bittrex', 99), ('evergrow', 268), ('vtc', 927), ('arb', 45), ('xgem', 978), ('paribu', 612), ('profiting', 668), ('vertcoin', 917), ('vanity', 911), ('poloniex', 641), ('gst', 360), ('btcturk', 117), ('𝐁𝐓𝐂', 996), ('𝐓𝐑𝐘', 999), ('𝐄𝐗𝐂𝐇𝐀𝐍𝐆𝐄', 997), ('𝐑𝐀𝐓𝐄𝐒', 998), ('koinim', 449), ('vebitcoin', 913), ('onelife', 595), ('cryptsy', 194), ('bter', 118), ('potcoin', 650), ('stepn', 798), ('micropee', 530), ('bscmemepad', 114), ('memepad', 527), ('reddcoin', 695), ('kami', 442), ('kamis', 443), ('_card', 0), ('wyndham', 976), ('playr', 636), ('nextgem', 569), ('polymilehighclub', 643), ('bleutrade', 102), ('santa_coin', 723), ('c_z', 128), ('cryptomoonshots', 192)])"
      ]
     },
     "execution_count": 8,
     "metadata": {},
     "output_type": "execute_result"
    }
   ],
   "source": [
    "# see words in vocabulary\n",
    "vocabulary = vectorizer.vocabulary_\n",
    "vocabulary.items()"
   ]
  },
  {
   "attachments": {},
   "cell_type": "markdown",
   "metadata": {},
   "source": [
    "##### Training and Validation Sets"
   ]
  },
  {
   "cell_type": "code",
   "execution_count": 9,
   "metadata": {},
   "outputs": [],
   "source": [
    "y = df['Scam'].values"
   ]
  },
  {
   "cell_type": "code",
   "execution_count": 10,
   "metadata": {},
   "outputs": [],
   "source": [
    "# creating randomly selected balanced training and validation sets\n",
    "X_train, X_val, y_train, y_val = train_test_split(X, y, test_size=0.2, random_state=1, stratify=y)"
   ]
  },
  {
   "cell_type": "code",
   "execution_count": 11,
   "metadata": {},
   "outputs": [
    {
     "name": "stdout",
     "output_type": "stream",
     "text": [
      "(40000, 1000)\n",
      "(10000, 1000)\n",
      "(40000,)\n",
      "(10000,)\n"
     ]
    }
   ],
   "source": [
    "# dimensions of training and validation sets\n",
    "print(X_train.shape)\n",
    "print(X_val.shape)\n",
    "print(y_train.shape)\n",
    "print(y_val.shape)"
   ]
  },
  {
   "cell_type": "code",
   "execution_count": 12,
   "metadata": {},
   "outputs": [],
   "source": [
    "# Convert the sparse matrices to dense arrays\n",
    "X_train_dense = X_train.toarray()\n",
    "X_val_dense = X_val.toarray()\n",
    "\n",
    "# Reshape the input data to have an additional dimension (channels)\n",
    "X_train_reshaped = np.expand_dims(X_train_dense, axis=-1)\n",
    "X_val_reshaped = np.expand_dims(X_val_dense, axis=-1)"
   ]
  },
  {
   "cell_type": "code",
   "execution_count": 13,
   "metadata": {},
   "outputs": [],
   "source": [
    "# Callback to log variation of loss within each epoch\n",
    "class BatchLossCallback(Callback):\n",
    "    def __init__(self):\n",
    "        self.batch_losses = []\n",
    "\n",
    "    def on_train_batch_end(self, batch, logs=None):\n",
    "        self.batch_losses.append(logs.get('loss'))"
   ]
  },
  {
   "attachments": {},
   "cell_type": "markdown",
   "metadata": {},
   "source": [
    "## CNN Model"
   ]
  },
  {
   "attachments": {},
   "cell_type": "markdown",
   "metadata": {},
   "source": [
    "##### Model Architecture"
   ]
  },
  {
   "cell_type": "code",
   "execution_count": 24,
   "metadata": {},
   "outputs": [],
   "source": [
    "# Functional API\n",
    "# Input layer\n",
    "inputLayer = layers.Input(shape=(X_train_reshaped.shape[1], 1))\n",
    "\n",
    "# Convolutional layer\n",
    "conv1 = layers.Conv1D(128, 5, activation=gelu)(inputLayer)\n",
    "drop1 = layers.Dropout(0.01)(conv1)\n",
    "\n",
    "# MaxPooling layer\n",
    "max_pool = layers.MaxPooling1D()(drop1)\n",
    "\n",
    "# Dense Layer\n",
    "flatten = layers.Flatten()(max_pool)\n",
    "dense = layers.Dense(128, activation=gelu)(flatten)\n",
    "dense2 = layers.Dense(32, activation=gelu)(dense)\n",
    "\n",
    "# Output\n",
    "output = layers.Dense(1, activation=\"sigmoid\")(dense2)\n",
    "\n",
    "# Create the model\n",
    "model = Model(inputs=inputLayer, outputs=output)"
   ]
  },
  {
   "cell_type": "code",
   "execution_count": 25,
   "metadata": {},
   "outputs": [],
   "source": [
    "# Optimiser\n",
    "optimizer = Adam(learning_rate=0.001)\n",
    "\n",
    "# Callbacks\n",
    "batch_loss_callback = BatchLossCallback()\n",
    "early_stopping = EarlyStopping(monitor='val_loss', patience=1, verbose=1, mode='min', restore_best_weights=True)\n",
    "\n",
    "# Create a list of callbacks\n",
    "callbacks_list = [early_stopping, batch_loss_callback]"
   ]
  },
  {
   "cell_type": "code",
   "execution_count": 26,
   "metadata": {},
   "outputs": [],
   "source": [
    "# Compile the model\n",
    "model.compile(loss='binary_crossentropy', optimizer=optimizer, metrics=['accuracy'])"
   ]
  },
  {
   "attachments": {},
   "cell_type": "markdown",
   "metadata": {},
   "source": [
    "##### Performance and Metrics"
   ]
  },
  {
   "attachments": {},
   "cell_type": "markdown",
   "metadata": {},
   "source": [
    "History"
   ]
  },
  {
   "cell_type": "code",
   "execution_count": 27,
   "metadata": {},
   "outputs": [
    {
     "name": "stdout",
     "output_type": "stream",
     "text": [
      "Epoch 1/10\n",
      "1000/1000 [==============================] - 161s 161ms/step - loss: 0.3788 - accuracy: 0.8060 - val_loss: 0.3420 - val_accuracy: 0.8279\n",
      "Epoch 2/10\n",
      "1000/1000 [==============================] - 152s 152ms/step - loss: 0.2937 - accuracy: 0.8550 - val_loss: 0.3339 - val_accuracy: 0.8329\n",
      "Epoch 3/10\n",
      "1000/1000 [==============================] - ETA: 0s - loss: 0.2181 - accuracy: 0.8992Restoring model weights from the end of the best epoch: 2.\n",
      "1000/1000 [==============================] - 150s 150ms/step - loss: 0.2181 - accuracy: 0.8992 - val_loss: 0.3614 - val_accuracy: 0.8348\n",
      "Epoch 3: early stopping\n"
     ]
    }
   ],
   "source": [
    "# Train the model\n",
    "history = model.fit(X_train_reshaped, y_train, epochs=10, validation_data=(X_val_reshaped, y_val), batch_size=40, callbacks=callbacks_list)"
   ]
  },
  {
   "cell_type": "code",
   "execution_count": 33,
   "metadata": {},
   "outputs": [
    {
     "data": {
      "image/png": "[encoded data removed]",
      "text/plain": [
       "<Figure size 640x480 with 1 Axes>"
      ]
     },
     "metadata": {},
     "output_type": "display_data"
    }
   ],
   "source": [
    "# Plot the batch-wise loss variation within the first epoch\n",
    "plt.plot(np.arange(len(batch_loss_callback.batch_losses)), batch_loss_callback.batch_losses, label='Training Loss')\n",
    "plt.vlines(1000, 0, 0.7, colors='k', linestyles='dashed', label='Epoch end')\n",
    "plt.vlines(2000, 0, 0.7, colors='k', linestyles='dashed', label='Epoch end')\n",
    "plt.xlabel('Batch number')\n",
    "plt.ylabel('Loss')\n",
    "plt.title('Loss variation within a single epoch')\n",
    "plt.legend()\n",
    "plt.show()"
   ]
  },
  {
   "attachments": {},
   "cell_type": "markdown",
   "metadata": {},
   "source": [
    "Validation"
   ]
  },
  {
   "cell_type": "code",
   "execution_count": 29,
   "metadata": {},
   "outputs": [
    {
     "name": "stdout",
     "output_type": "stream",
     "text": [
      "313/313 [==============================] - 7s 23ms/step - loss: 0.3339 - accuracy: 0.8329\n",
      "Validation loss: 0.3338654339313507, accuracy: 0.8328999876976013\n"
     ]
    }
   ],
   "source": [
    "# Evaluate the model against Balanced Validation set\n",
    "loss, accuracy = model.evaluate(X_val_reshaped, y_val)\n",
    "print(f\"Validation loss: {loss}, accuracy: {accuracy}\")"
   ]
  },
  {
   "attachments": {},
   "cell_type": "markdown",
   "metadata": {},
   "source": [
    "Confusion Matrix"
   ]
  },
  {
   "cell_type": "code",
   "execution_count": 30,
   "metadata": {},
   "outputs": [
    {
     "name": "stdout",
     "output_type": "stream",
     "text": [
      "313/313 [==============================] - 7s 23ms/step\n"
     ]
    }
   ],
   "source": [
    "# Convert the sparse input data to dense format\n",
    "X_val_dense = X_val.todense()\n",
    "\n",
    "# Get the model's predictions on the dense validation set\n",
    "y_pred = model.predict(X_val_dense)"
   ]
  },
  {
   "cell_type": "code",
   "execution_count": 31,
   "metadata": {},
   "outputs": [],
   "source": [
    "y_pred_classes = np.round(y_pred).astype(int)  # For binary classification"
   ]
  },
  {
   "cell_type": "code",
   "execution_count": 32,
   "metadata": {},
   "outputs": [
    {
     "name": "stdout",
     "output_type": "stream",
     "text": [
      "[[3989 1011]\n",
      " [ 660 4340]]\n"
     ]
    },
    {
     "data": {
      "image/png": "[encoded data removed]",
      "text/plain": [
       "<Figure size 1000x700 with 2 Axes>"
      ]
     },
     "metadata": {},
     "output_type": "display_data"
    }
   ],
   "source": [
    "# Compute the confusion matrix\n",
    "cm = confusion_matrix(y_val, y_pred_classes)\n",
    "print(cm)\n",
    "\n",
    "# Visualize the confusion matrix as a heatmap\n",
    "plt.figure(figsize=(10, 7))\n",
    "sns.heatmap(cm, annot=True, fmt='d', cmap='Blues')\n",
    "plt.xlabel('Predicted Label')\n",
    "plt.ylabel('True Label')\n",
    "plt.title('Confusion Matrix')\n",
    "plt.show()"
   ]
  },
  {
   "attachments": {},
   "cell_type": "markdown",
   "metadata": {},
   "source": [
    "## LOG"
   ]
  },
  {
   "attachments": {},
   "cell_type": "markdown",
   "metadata": {},
   "source": [
    "### BOWCNN1: Sequential Convolutional Layers, Unbalanced Data\n"
   ]
  },
  {
   "attachments": {},
   "cell_type": "markdown",
   "metadata": {},
   "source": [
    "Validation loss: 0.4347321093082428, accuracy: 0.8156089186668396"
   ]
  },
  {
   "attachments": {},
   "cell_type": "markdown",
   "metadata": {},
   "source": [
    "Layers for the model\n",
    "\n",
    "    model = tf.keras.Sequential([\n",
    "\n",
    "    layers.Conv1D(64, 5, activation='relu', input_shape=(X_train_reshaped.shape[1], 1)),\n",
    "\n",
    "    layers.MaxPooling1D(pool_size=4),\n",
    "\n",
    "    layers.Conv1D(32, 5, activation='relu'),\n",
    "\n",
    "    layers.GlobalMaxPooling1D(),\n",
    "\n",
    "    layers.Dense(16, activation='relu'),\n",
    "\n",
    "    layers.Dense(1, activation='sigmoid')\n",
    "\n",
    "    ])\n",
    "\n",
    "Compile the model\n",
    "\n",
    "    model.compile(loss='binary_crossentropy', optimizer='adam', metrics=['accuracy'])"
   ]
  },
  {
   "attachments": {},
   "cell_type": "markdown",
   "metadata": {},
   "source": [
    "### BOWCNN2: Functional Convolutional Layers, Balanced Data"
   ]
  },
  {
   "attachments": {},
   "cell_type": "markdown",
   "metadata": {},
   "source": [
    "Validation loss: 0.2834297716617584, accuracy: 0.8761333227157593"
   ]
  },
  {
   "attachments": {},
   "cell_type": "markdown",
   "metadata": {},
   "source": [
    "Input layer\n",
    "\n",
    "    inputLayer = layers.Input(shape=(X_train_reshaped.shape[1], 1))\n",
    "\n",
    "Convolutional layer\n",
    "\n",
    "    conv1 = layers.Conv1D(128, 5, activation=gelu)(inputLayer)\n",
    "\n",
    "    drop1 = layers.Dropout(0.01)(conv1)\n",
    "\n",
    "MaxPooling layer\n",
    "\n",
    "    max_pool = layers.MaxPooling1D()(drop1)\n",
    "\n",
    "Dense Layer\n",
    "\n",
    "    flatten = layers.Flatten()(max_pool)\n",
    "\n",
    "    dense = layers.Dense(128, activation=gelu)(flatten)\n",
    "    \n",
    "    dense2 = layers.Dense(32, activation=gelu)(dense)\n",
    "\n",
    "Output\n",
    "    output = layers.Dense(1, activation=\"sigmoid\")(dense2)\n",
    "\n",
    "Create the model\n",
    "\n",
    "    model = Model(inputs=inputLayer, outputs=output)\n",
    "\n",
    "Compile the model\n",
    "\n",
    "    optimizer = Adam(learning_rate=0.001)\n",
    "\n",
    "    early_stopping = EarlyStopping(monitor='val_loss', patience=1, verbose=1, mode='min', restore_best_weights=True)\n",
    "\n",
    "    model.compile(loss='binary_crossentropy', optimizer=optimizer, metrics=['accuracy'])"
   ]
  }
 ],
 "metadata": {
  "kernelspec": {
   "display_name": "tf",
   "language": "python",
   "name": "python3"
  },
  "language_info": {
   "codemirror_mode": {
    "name": "ipython",
    "version": 3
   },
   "file_extension": ".py",
   "mimetype": "text/x-python",
   "name": "python",
   "nbconvert_exporter": "python",
   "pygments_lexer": "ipython3",
   "version": "3.10.9"
  },
  "orig_nbformat": 4
 },
 "nbformat": 4,
 "nbformat_minor": 2
}
