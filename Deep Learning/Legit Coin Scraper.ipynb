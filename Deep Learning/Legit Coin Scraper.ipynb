{
 "cells": [
  {
   "attachments": {},
   "cell_type": "markdown",
   "metadata": {},
   "source": [
    "# NOT MY CODE, I'm just hosting it here for my own use.\n",
    "# All credits to: https://github.com/juanberasategui"
   ]
  },
  {
   "cell_type": "code",
   "execution_count": 1,
   "metadata": {},
   "outputs": [],
   "source": [
    "import pandas as pd\n",
    "import snscrape.modules.twitter as sntwitter"
   ]
  },
  {
   "cell_type": "code",
   "execution_count": 2,
   "metadata": {},
   "outputs": [],
   "source": [
    "# Function to scrape tweets\n",
    "tweets = []\n",
    "def get_tweets(query, max_tweets): \n",
    "    for tweet in sntwitter.TwitterSearchScraper(query).get_items():\n",
    "        if len(tweets) >= max_tweets:\n",
    "            break\n",
    "        else:\n",
    "            tweets.append([tweet.date, tweet.user.username, tweet.content,query])"
   ]
  },
  {
   "cell_type": "code",
   "execution_count": 3,
   "metadata": {},
   "outputs": [],
   "source": [
    "N_tweets = 0"
   ]
  },
  {
   "cell_type": "code",
   "execution_count": 4,
   "metadata": {},
   "outputs": [],
   "source": [
    "# First batch of coins to scrape\n",
    "files = ['Celsius', 'IOTA', 'Axie Infinity', 'Compound', 'chainlink', 'PAX Gold', 'Hedera', 'bitcoin cash', 'Kava', 'Elrond',\n",
    "    'Helium', 'Internet Computer', 'STEPN', 'xrp', 'Theta Network', 'Bitcoin Gold', 'Gnosis', 'near protocol', 'Synthetix', 'monero',\n",
    "    'eCash', 'Flow', 'KuCoin Token', 'Celo', 'Zilliqa', 'Convex Finance', 'solana', 'Holo', 'BitTorrent (New)', 'Waves', 'uniswap', 'Neutrino USD', \n",
    "    'Quant', 'polkadot', 'ethereum classic', 'The Graph', 'Loopring', 'Aave', 'Zcash', 'The Sandbox', 'Basic Attention Token', 'dogecoin', 'Klaytn',\n",
    "    'Binance USD', 'Kusama', 'Shiba Inu', 'Neo', 'USDD', 'unus sed leo', 'cosmos', 'NEM', 'Lido DAO', 'Decentraland', 'Cronos', 'stellar', 'Algorand',\n",
    "    'ApeCoin', 'Arweave', 'EOS', 'PancakeSwap', 'Mina', 'Curve DAO Token', 'Bitcoin SV', 'tether', 'Decred', 'Pax Dollar', 'THORChain', 'polygon',\n",
    "    'Current Crypto leaderboard', 'wrapped bitcoin', 'ethereum', 'Bitcoin BEP2', 'VeChain', '1inch', 'Fei USD', 'litecoin', 'Qtum', 'Trust Wallet Token',\n",
    "    'bitcoin', 'cardano', 'Stacks', 'Dash', 'Enjin Coin', 'usd coin', 'Tezos', 'Huobi Token', 'Nexo', 'ftx token', 'dai', 'TrueUSD', 'tron', 'Fantom', 'BNB',\n",
    "    'Chiliz', 'Filecoin', 'Gala', 'Maker', 'OKB', 'avalanche']\n"
   ]
  },
  {
   "cell_type": "code",
   "execution_count": null,
   "metadata": {},
   "outputs": [],
   "source": [
    "# Loop to append tweets to list\n",
    "for crypto in files:\n",
    "    N_tweets += 10000\n",
    "    print(crypto)\n",
    "    print(len(tweets))\n",
    "    get_tweets('\"'+crypto+'\" lang:en until:2021-12-31 since:2021-01-01', max_tweets= N_tweets)\n",
    "\n",
    "# Create dataframe (1st batch)\n",
    "df = pd.DataFrame(tweets, columns=['Datetime', 'Username', 'Text', 'Project'])\n"
   ]
  },
  {
   "cell_type": "code",
   "execution_count": 13,
   "metadata": {},
   "outputs": [
    {
     "data": {
      "text/html": [
       "<div>\n",
       "<style scoped>\n",
       "    .dataframe tbody tr th:only-of-type {\n",
       "        vertical-align: middle;\n",
       "    }\n",
       "\n",
       "    .dataframe tbody tr th {\n",
       "        vertical-align: top;\n",
       "    }\n",
       "\n",
       "    .dataframe thead th {\n",
       "        text-align: right;\n",
       "    }\n",
       "</style>\n",
       "<table border=\"1\" class=\"dataframe\">\n",
       "  <thead>\n",
       "    <tr style=\"text-align: right;\">\n",
       "      <th></th>\n",
       "      <th>Datetime</th>\n",
       "      <th>Username</th>\n",
       "      <th>Text</th>\n",
       "      <th>Project</th>\n",
       "    </tr>\n",
       "  </thead>\n",
       "  <tbody>\n",
       "    <tr>\n",
       "      <th>0</th>\n",
       "      <td>2021-12-30 23:58:43+00:00</td>\n",
       "      <td>AudioTeri</td>\n",
       "      <td>@StrangeMagic777 On Christmas Day we had -17😅 ...</td>\n",
       "      <td>\"Celsius\" lang:en until:2021-12-31 since:2021-...</td>\n",
       "    </tr>\n",
       "    <tr>\n",
       "      <th>1</th>\n",
       "      <td>2021-12-30 23:58:05+00:00</td>\n",
       "      <td>DarksideAnt</td>\n",
       "      <td>@kale_abe Blockfi Is ass Celsius is better but...</td>\n",
       "      <td>\"Celsius\" lang:en until:2021-12-31 since:2021-...</td>\n",
       "    </tr>\n",
       "    <tr>\n",
       "      <th>2</th>\n",
       "      <td>2021-12-30 23:57:04+00:00</td>\n",
       "      <td>thatcryptogirlx</td>\n",
       "      <td>Cryotherapy is kind of like crypto therapy exc...</td>\n",
       "      <td>\"Celsius\" lang:en until:2021-12-31 since:2021-...</td>\n",
       "    </tr>\n",
       "    <tr>\n",
       "      <th>3</th>\n",
       "      <td>2021-12-30 23:56:48+00:00</td>\n",
       "      <td>KateMcWilli</td>\n",
       "      <td>@FourQ -40 Celsius 🥶. Haha. I moved back to th...</td>\n",
       "      <td>\"Celsius\" lang:en until:2021-12-31 since:2021-...</td>\n",
       "    </tr>\n",
       "    <tr>\n",
       "      <th>4</th>\n",
       "      <td>2021-12-30 23:56:38+00:00</td>\n",
       "      <td>RavenWorks</td>\n",
       "      <td>god, like\\n\\nwent outside for like 30 seconds,...</td>\n",
       "      <td>\"Celsius\" lang:en until:2021-12-31 since:2021-...</td>\n",
       "    </tr>\n",
       "  </tbody>\n",
       "</table>\n",
       "</div>"
      ],
      "text/plain": [
       "                   Datetime         Username  \\\n",
       "0 2021-12-30 23:58:43+00:00        AudioTeri   \n",
       "1 2021-12-30 23:58:05+00:00      DarksideAnt   \n",
       "2 2021-12-30 23:57:04+00:00  thatcryptogirlx   \n",
       "3 2021-12-30 23:56:48+00:00      KateMcWilli   \n",
       "4 2021-12-30 23:56:38+00:00       RavenWorks   \n",
       "\n",
       "                                                Text  \\\n",
       "0  @StrangeMagic777 On Christmas Day we had -17😅 ...   \n",
       "1  @kale_abe Blockfi Is ass Celsius is better but...   \n",
       "2  Cryotherapy is kind of like crypto therapy exc...   \n",
       "3  @FourQ -40 Celsius 🥶. Haha. I moved back to th...   \n",
       "4  god, like\\n\\nwent outside for like 30 seconds,...   \n",
       "\n",
       "                                             Project  \n",
       "0  \"Celsius\" lang:en until:2021-12-31 since:2021-...  \n",
       "1  \"Celsius\" lang:en until:2021-12-31 since:2021-...  \n",
       "2  \"Celsius\" lang:en until:2021-12-31 since:2021-...  \n",
       "3  \"Celsius\" lang:en until:2021-12-31 since:2021-...  \n",
       "4  \"Celsius\" lang:en until:2021-12-31 since:2021-...  "
      ]
     },
     "execution_count": 13,
     "metadata": {},
     "output_type": "execute_result"
    }
   ],
   "source": [
    "# view dataframe\n",
    "df.head()"
   ]
  },
  {
   "cell_type": "code",
   "execution_count": 12,
   "metadata": {},
   "outputs": [
    {
     "data": {
      "text/plain": [
       "200000"
      ]
     },
     "execution_count": 12,
     "metadata": {},
     "output_type": "execute_result"
    }
   ],
   "source": [
    "# length of dataframe\n",
    "len(df)"
   ]
  },
  {
   "cell_type": "code",
   "execution_count": 15,
   "metadata": {},
   "outputs": [],
   "source": [
    "# save completed scrape into csv \n",
    "df.to_csv('No_Scam_tweets.csv', index=False)"
   ]
  }
 ],
 "metadata": {
  "kernelspec": {
   "display_name": "tf",
   "language": "python",
   "name": "python3"
  },
  "language_info": {
   "codemirror_mode": {
    "name": "ipython",
    "version": 3
   },
   "file_extension": ".py",
   "mimetype": "text/x-python",
   "name": "python",
   "nbconvert_exporter": "python",
   "pygments_lexer": "ipython3",
   "version": "3.10.9"
  },
  "orig_nbformat": 4
 },
 "nbformat": 4,
 "nbformat_minor": 2
}
