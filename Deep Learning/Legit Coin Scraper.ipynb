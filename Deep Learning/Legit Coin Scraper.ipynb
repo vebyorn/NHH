{
 "cells": [
  {
   "attachments": {},
   "cell_type": "markdown",
   "metadata": {},
   "source": [
    "# NOT MY CODE, I'm just hosting it here for my own use.\n",
    "# All credits to: https://github.com/juanberasategui"
   ]
  },
  {
   "cell_type": "code",
   "execution_count": 4,
   "metadata": {},
   "outputs": [],
   "source": [
    "import pandas as pd\n",
    "import snscrape.modules.twitter as sntwitter"
   ]
  },
  {
   "cell_type": "code",
   "execution_count": 5,
   "metadata": {},
   "outputs": [],
   "source": [
    "# Function to scrape tweets\n",
    "tweets = []\n",
    "def get_tweets(query, max_tweets): \n",
    "    for tweet in sntwitter.TwitterSearchScraper(query).get_items():\n",
    "        if len(tweets) >= max_tweets:\n",
    "            break\n",
    "        else:\n",
    "            tweets.append([tweet.date, tweet.user.username, tweet.content,query])"
   ]
  },
  {
   "cell_type": "code",
   "execution_count": 6,
   "metadata": {},
   "outputs": [],
   "source": [
    "N_tweets = 0"
   ]
  },
  {
   "cell_type": "code",
   "execution_count": 7,
   "metadata": {},
   "outputs": [],
   "source": [
    "# First batch of coins to scrape\n",
    "files = ['Celsius', 'IOTA', 'Axie Infinity', 'Compound', 'chainlink', 'PAX Gold', 'Hedera', 'bitcoin cash', 'Kava', 'Elrond',\n",
    " 'Helium', 'Internet Computer', 'STEPN', 'xrp', 'Theta Network', 'Bitcoin Gold', 'Gnosis', 'near protocol', 'Synthetix', 'monero']\n"
   ]
  },
  {
   "cell_type": "code",
   "execution_count": null,
   "metadata": {},
   "outputs": [],
   "source": [
    "# Second batch of coins to scrape\n",
    "# files = ['eCash', 'Flow', 'KuCoin Token', 'Celo', 'Zilliqa', 'Convex Finance', 'solana', 'Holo', 'BitTorrent (New)', 'Waves', 'uniswap', 'Neutrino USD', \n",
    "#   'Quant', 'polkadot', 'ethereum classic', 'The Graph', 'Loopring', 'Aave', 'Zcash', 'The Sandbox', 'Basic Attention Token', 'dogecoin', 'Klaytn']\n"
   ]
  },
  {
   "cell_type": "code",
   "execution_count": null,
   "metadata": {},
   "outputs": [],
   "source": [
    "# Third batch of coins to scrape\n",
    "# files = ['Binance USD', 'Kusama', 'Shiba Inu', 'Neo', 'USDD', 'unus sed leo', 'cosmos', 'NEM', 'Lido DAO', 'Decentraland', 'Cronos', 'stellar', 'Algorand',\n",
    "#   'ApeCoin', 'Arweave', 'EOS', 'PancakeSwap', 'Mina', 'Curve DAO Token', 'Bitcoin SV', 'tether', 'Decred', 'Pax Dollar', 'THORChain', 'polygon']\n"
   ]
  },
  {
   "cell_type": "code",
   "execution_count": null,
   "metadata": {},
   "outputs": [],
   "source": [
    "# Fourth batch of coins to scrape\n",
    "# files = ['Current Crypto leaderboard', 'wrapped bitcoin', 'ethereum', 'Bitcoin BEP2', 'VeChain', '1inch', 'Fei USD', 'litecoin', 'Qtum', 'Trust Wallet Token',\n",
    "#   'bitcoin', 'cardano', 'Stacks', 'Dash', 'Enjin Coin', 'usd coin']"
   ]
  },
  {
   "cell_type": "code",
   "execution_count": null,
   "metadata": {},
   "outputs": [],
   "source": [
    "# Fifth batch of coins to scrape\n",
    "# files = ['Tezos', 'Huobi Token', 'Nexo', 'ftx token', 'dai', 'TrueUSD', 'tron', 'Fantom', 'BNB',\n",
    "#   'Chiliz', 'Filecoin', 'Gala', 'Maker', 'OKB', 'avalanche']"
   ]
  },
  {
   "cell_type": "code",
   "execution_count": null,
   "metadata": {},
   "outputs": [],
   "source": [
    "# Loop to append tweets to list\n",
    "for crypto in files:\n",
    "    N_tweets += 10000\n",
    "    print(crypto)\n",
    "    print(len(tweets))\n",
    "    get_tweets('\"'+crypto+'\" lang:en until:2021-12-31 since:2021-01-01', max_tweets= N_tweets)\n",
    "\n",
    "# Create dataframe\n",
    "df = pd.DataFrame(tweets, columns=['Datetime', 'Username', 'Text', 'Project'])"
   ]
  },
  {
   "cell_type": "code",
   "execution_count": null,
   "metadata": {},
   "outputs": [],
   "source": [
    "# save completed scrape into csv \n",
    "df.to_csv('No_Scam_tweets.csv', index=False)"
   ]
  }
 ],
 "metadata": {
  "kernelspec": {
   "display_name": "tf",
   "language": "python",
   "name": "python3"
  },
  "language_info": {
   "codemirror_mode": {
    "name": "ipython",
    "version": 3
   },
   "file_extension": ".py",
   "mimetype": "text/x-python",
   "name": "python",
   "nbconvert_exporter": "python",
   "pygments_lexer": "ipython3",
   "version": "3.10.9"
  },
  "orig_nbformat": 4
 },
 "nbformat": 4,
 "nbformat_minor": 2
}
